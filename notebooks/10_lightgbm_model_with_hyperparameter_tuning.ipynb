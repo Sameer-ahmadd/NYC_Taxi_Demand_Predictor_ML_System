{
 "cells": [
  {
   "cell_type": "code",
   "execution_count": 1,
   "metadata": {},
   "outputs": [],
   "source": [
    "import warnings\n",
    "warnings.filterwarnings(\"ignore\")\n"
   ]
  },
  {
   "cell_type": "code",
   "execution_count": 2,
   "metadata": {},
   "outputs": [
    {
     "data": {
      "text/html": [
       "<div>\n",
       "<style scoped>\n",
       "    .dataframe tbody tr th:only-of-type {\n",
       "        vertical-align: middle;\n",
       "    }\n",
       "\n",
       "    .dataframe tbody tr th {\n",
       "        vertical-align: top;\n",
       "    }\n",
       "\n",
       "    .dataframe thead th {\n",
       "        text-align: right;\n",
       "    }\n",
       "</style>\n",
       "<table border=\"1\" class=\"dataframe\">\n",
       "  <thead>\n",
       "    <tr style=\"text-align: right;\">\n",
       "      <th></th>\n",
       "      <th>rides_previous_672_hour</th>\n",
       "      <th>rides_previous_671_hour</th>\n",
       "      <th>rides_previous_670_hour</th>\n",
       "      <th>rides_previous_669_hour</th>\n",
       "      <th>rides_previous_668_hour</th>\n",
       "      <th>rides_previous_667_hour</th>\n",
       "      <th>rides_previous_666_hour</th>\n",
       "      <th>rides_previous_665_hour</th>\n",
       "      <th>rides_previous_664_hour</th>\n",
       "      <th>rides_previous_663_hour</th>\n",
       "      <th>...</th>\n",
       "      <th>rides_previous_7_hour</th>\n",
       "      <th>rides_previous_6_hour</th>\n",
       "      <th>rides_previous_5_hour</th>\n",
       "      <th>rides_previous_4_hour</th>\n",
       "      <th>rides_previous_3_hour</th>\n",
       "      <th>rides_previous_2_hour</th>\n",
       "      <th>rides_previous_1_hour</th>\n",
       "      <th>pickup_hour</th>\n",
       "      <th>pickup_location_id</th>\n",
       "      <th>target_rides_next_hour</th>\n",
       "    </tr>\n",
       "  </thead>\n",
       "  <tbody>\n",
       "    <tr>\n",
       "      <th>0</th>\n",
       "      <td>11.0</td>\n",
       "      <td>15.0</td>\n",
       "      <td>26.0</td>\n",
       "      <td>8.0</td>\n",
       "      <td>9.0</td>\n",
       "      <td>7.0</td>\n",
       "      <td>3.0</td>\n",
       "      <td>1.0</td>\n",
       "      <td>0.0</td>\n",
       "      <td>3.0</td>\n",
       "      <td>...</td>\n",
       "      <td>11.0</td>\n",
       "      <td>7.0</td>\n",
       "      <td>4.0</td>\n",
       "      <td>3.0</td>\n",
       "      <td>4.0</td>\n",
       "      <td>9.0</td>\n",
       "      <td>19.0</td>\n",
       "      <td>2022-01-29</td>\n",
       "      <td>4</td>\n",
       "      <td>17.0</td>\n",
       "    </tr>\n",
       "    <tr>\n",
       "      <th>1</th>\n",
       "      <td>1.0</td>\n",
       "      <td>0.0</td>\n",
       "      <td>2.0</td>\n",
       "      <td>0.0</td>\n",
       "      <td>0.0</td>\n",
       "      <td>0.0</td>\n",
       "      <td>0.0</td>\n",
       "      <td>0.0</td>\n",
       "      <td>1.0</td>\n",
       "      <td>1.0</td>\n",
       "      <td>...</td>\n",
       "      <td>5.0</td>\n",
       "      <td>4.0</td>\n",
       "      <td>10.0</td>\n",
       "      <td>7.0</td>\n",
       "      <td>5.0</td>\n",
       "      <td>9.0</td>\n",
       "      <td>10.0</td>\n",
       "      <td>2022-01-30</td>\n",
       "      <td>4</td>\n",
       "      <td>9.0</td>\n",
       "    </tr>\n",
       "    <tr>\n",
       "      <th>2</th>\n",
       "      <td>0.0</td>\n",
       "      <td>1.0</td>\n",
       "      <td>0.0</td>\n",
       "      <td>0.0</td>\n",
       "      <td>1.0</td>\n",
       "      <td>1.0</td>\n",
       "      <td>1.0</td>\n",
       "      <td>3.0</td>\n",
       "      <td>2.0</td>\n",
       "      <td>3.0</td>\n",
       "      <td>...</td>\n",
       "      <td>8.0</td>\n",
       "      <td>7.0</td>\n",
       "      <td>8.0</td>\n",
       "      <td>5.0</td>\n",
       "      <td>5.0</td>\n",
       "      <td>10.0</td>\n",
       "      <td>0.0</td>\n",
       "      <td>2022-01-31</td>\n",
       "      <td>4</td>\n",
       "      <td>3.0</td>\n",
       "    </tr>\n",
       "    <tr>\n",
       "      <th>3</th>\n",
       "      <td>1.0</td>\n",
       "      <td>1.0</td>\n",
       "      <td>0.0</td>\n",
       "      <td>0.0</td>\n",
       "      <td>0.0</td>\n",
       "      <td>3.0</td>\n",
       "      <td>2.0</td>\n",
       "      <td>3.0</td>\n",
       "      <td>4.0</td>\n",
       "      <td>5.0</td>\n",
       "      <td>...</td>\n",
       "      <td>3.0</td>\n",
       "      <td>16.0</td>\n",
       "      <td>7.0</td>\n",
       "      <td>1.0</td>\n",
       "      <td>0.0</td>\n",
       "      <td>1.0</td>\n",
       "      <td>3.0</td>\n",
       "      <td>2022-02-01</td>\n",
       "      <td>4</td>\n",
       "      <td>3.0</td>\n",
       "    </tr>\n",
       "    <tr>\n",
       "      <th>4</th>\n",
       "      <td>0.0</td>\n",
       "      <td>0.0</td>\n",
       "      <td>0.0</td>\n",
       "      <td>0.0</td>\n",
       "      <td>0.0</td>\n",
       "      <td>0.0</td>\n",
       "      <td>3.0</td>\n",
       "      <td>4.0</td>\n",
       "      <td>1.0</td>\n",
       "      <td>2.0</td>\n",
       "      <td>...</td>\n",
       "      <td>3.0</td>\n",
       "      <td>8.0</td>\n",
       "      <td>3.0</td>\n",
       "      <td>0.0</td>\n",
       "      <td>4.0</td>\n",
       "      <td>4.0</td>\n",
       "      <td>3.0</td>\n",
       "      <td>2022-02-02</td>\n",
       "      <td>4</td>\n",
       "      <td>1.0</td>\n",
       "    </tr>\n",
       "    <tr>\n",
       "      <th>...</th>\n",
       "      <td>...</td>\n",
       "      <td>...</td>\n",
       "      <td>...</td>\n",
       "      <td>...</td>\n",
       "      <td>...</td>\n",
       "      <td>...</td>\n",
       "      <td>...</td>\n",
       "      <td>...</td>\n",
       "      <td>...</td>\n",
       "      <td>...</td>\n",
       "      <td>...</td>\n",
       "      <td>...</td>\n",
       "      <td>...</td>\n",
       "      <td>...</td>\n",
       "      <td>...</td>\n",
       "      <td>...</td>\n",
       "      <td>...</td>\n",
       "      <td>...</td>\n",
       "      <td>...</td>\n",
       "      <td>...</td>\n",
       "      <td>...</td>\n",
       "    </tr>\n",
       "    <tr>\n",
       "      <th>88289</th>\n",
       "      <td>0.0</td>\n",
       "      <td>0.0</td>\n",
       "      <td>0.0</td>\n",
       "      <td>0.0</td>\n",
       "      <td>0.0</td>\n",
       "      <td>0.0</td>\n",
       "      <td>0.0</td>\n",
       "      <td>0.0</td>\n",
       "      <td>0.0</td>\n",
       "      <td>0.0</td>\n",
       "      <td>...</td>\n",
       "      <td>0.0</td>\n",
       "      <td>0.0</td>\n",
       "      <td>0.0</td>\n",
       "      <td>0.0</td>\n",
       "      <td>0.0</td>\n",
       "      <td>0.0</td>\n",
       "      <td>0.0</td>\n",
       "      <td>2022-12-27</td>\n",
       "      <td>199</td>\n",
       "      <td>0.0</td>\n",
       "    </tr>\n",
       "    <tr>\n",
       "      <th>88290</th>\n",
       "      <td>0.0</td>\n",
       "      <td>0.0</td>\n",
       "      <td>0.0</td>\n",
       "      <td>0.0</td>\n",
       "      <td>0.0</td>\n",
       "      <td>0.0</td>\n",
       "      <td>0.0</td>\n",
       "      <td>0.0</td>\n",
       "      <td>0.0</td>\n",
       "      <td>0.0</td>\n",
       "      <td>...</td>\n",
       "      <td>0.0</td>\n",
       "      <td>0.0</td>\n",
       "      <td>0.0</td>\n",
       "      <td>0.0</td>\n",
       "      <td>0.0</td>\n",
       "      <td>0.0</td>\n",
       "      <td>0.0</td>\n",
       "      <td>2022-12-28</td>\n",
       "      <td>199</td>\n",
       "      <td>0.0</td>\n",
       "    </tr>\n",
       "    <tr>\n",
       "      <th>88291</th>\n",
       "      <td>0.0</td>\n",
       "      <td>0.0</td>\n",
       "      <td>0.0</td>\n",
       "      <td>0.0</td>\n",
       "      <td>0.0</td>\n",
       "      <td>0.0</td>\n",
       "      <td>0.0</td>\n",
       "      <td>0.0</td>\n",
       "      <td>0.0</td>\n",
       "      <td>0.0</td>\n",
       "      <td>...</td>\n",
       "      <td>0.0</td>\n",
       "      <td>0.0</td>\n",
       "      <td>0.0</td>\n",
       "      <td>0.0</td>\n",
       "      <td>0.0</td>\n",
       "      <td>0.0</td>\n",
       "      <td>0.0</td>\n",
       "      <td>2022-12-29</td>\n",
       "      <td>199</td>\n",
       "      <td>0.0</td>\n",
       "    </tr>\n",
       "    <tr>\n",
       "      <th>88292</th>\n",
       "      <td>0.0</td>\n",
       "      <td>0.0</td>\n",
       "      <td>0.0</td>\n",
       "      <td>0.0</td>\n",
       "      <td>0.0</td>\n",
       "      <td>0.0</td>\n",
       "      <td>0.0</td>\n",
       "      <td>0.0</td>\n",
       "      <td>0.0</td>\n",
       "      <td>0.0</td>\n",
       "      <td>...</td>\n",
       "      <td>0.0</td>\n",
       "      <td>0.0</td>\n",
       "      <td>0.0</td>\n",
       "      <td>0.0</td>\n",
       "      <td>0.0</td>\n",
       "      <td>0.0</td>\n",
       "      <td>0.0</td>\n",
       "      <td>2022-12-30</td>\n",
       "      <td>199</td>\n",
       "      <td>0.0</td>\n",
       "    </tr>\n",
       "    <tr>\n",
       "      <th>88293</th>\n",
       "      <td>0.0</td>\n",
       "      <td>0.0</td>\n",
       "      <td>0.0</td>\n",
       "      <td>0.0</td>\n",
       "      <td>0.0</td>\n",
       "      <td>0.0</td>\n",
       "      <td>0.0</td>\n",
       "      <td>0.0</td>\n",
       "      <td>0.0</td>\n",
       "      <td>0.0</td>\n",
       "      <td>...</td>\n",
       "      <td>0.0</td>\n",
       "      <td>0.0</td>\n",
       "      <td>0.0</td>\n",
       "      <td>0.0</td>\n",
       "      <td>0.0</td>\n",
       "      <td>0.0</td>\n",
       "      <td>0.0</td>\n",
       "      <td>2022-12-31</td>\n",
       "      <td>199</td>\n",
       "      <td>0.0</td>\n",
       "    </tr>\n",
       "  </tbody>\n",
       "</table>\n",
       "<p>88294 rows × 675 columns</p>\n",
       "</div>"
      ],
      "text/plain": [
       "       rides_previous_672_hour  rides_previous_671_hour  \\\n",
       "0                         11.0                     15.0   \n",
       "1                          1.0                      0.0   \n",
       "2                          0.0                      1.0   \n",
       "3                          1.0                      1.0   \n",
       "4                          0.0                      0.0   \n",
       "...                        ...                      ...   \n",
       "88289                      0.0                      0.0   \n",
       "88290                      0.0                      0.0   \n",
       "88291                      0.0                      0.0   \n",
       "88292                      0.0                      0.0   \n",
       "88293                      0.0                      0.0   \n",
       "\n",
       "       rides_previous_670_hour  rides_previous_669_hour  \\\n",
       "0                         26.0                      8.0   \n",
       "1                          2.0                      0.0   \n",
       "2                          0.0                      0.0   \n",
       "3                          0.0                      0.0   \n",
       "4                          0.0                      0.0   \n",
       "...                        ...                      ...   \n",
       "88289                      0.0                      0.0   \n",
       "88290                      0.0                      0.0   \n",
       "88291                      0.0                      0.0   \n",
       "88292                      0.0                      0.0   \n",
       "88293                      0.0                      0.0   \n",
       "\n",
       "       rides_previous_668_hour  rides_previous_667_hour  \\\n",
       "0                          9.0                      7.0   \n",
       "1                          0.0                      0.0   \n",
       "2                          1.0                      1.0   \n",
       "3                          0.0                      3.0   \n",
       "4                          0.0                      0.0   \n",
       "...                        ...                      ...   \n",
       "88289                      0.0                      0.0   \n",
       "88290                      0.0                      0.0   \n",
       "88291                      0.0                      0.0   \n",
       "88292                      0.0                      0.0   \n",
       "88293                      0.0                      0.0   \n",
       "\n",
       "       rides_previous_666_hour  rides_previous_665_hour  \\\n",
       "0                          3.0                      1.0   \n",
       "1                          0.0                      0.0   \n",
       "2                          1.0                      3.0   \n",
       "3                          2.0                      3.0   \n",
       "4                          3.0                      4.0   \n",
       "...                        ...                      ...   \n",
       "88289                      0.0                      0.0   \n",
       "88290                      0.0                      0.0   \n",
       "88291                      0.0                      0.0   \n",
       "88292                      0.0                      0.0   \n",
       "88293                      0.0                      0.0   \n",
       "\n",
       "       rides_previous_664_hour  rides_previous_663_hour  ...  \\\n",
       "0                          0.0                      3.0  ...   \n",
       "1                          1.0                      1.0  ...   \n",
       "2                          2.0                      3.0  ...   \n",
       "3                          4.0                      5.0  ...   \n",
       "4                          1.0                      2.0  ...   \n",
       "...                        ...                      ...  ...   \n",
       "88289                      0.0                      0.0  ...   \n",
       "88290                      0.0                      0.0  ...   \n",
       "88291                      0.0                      0.0  ...   \n",
       "88292                      0.0                      0.0  ...   \n",
       "88293                      0.0                      0.0  ...   \n",
       "\n",
       "       rides_previous_7_hour  rides_previous_6_hour  rides_previous_5_hour  \\\n",
       "0                       11.0                    7.0                    4.0   \n",
       "1                        5.0                    4.0                   10.0   \n",
       "2                        8.0                    7.0                    8.0   \n",
       "3                        3.0                   16.0                    7.0   \n",
       "4                        3.0                    8.0                    3.0   \n",
       "...                      ...                    ...                    ...   \n",
       "88289                    0.0                    0.0                    0.0   \n",
       "88290                    0.0                    0.0                    0.0   \n",
       "88291                    0.0                    0.0                    0.0   \n",
       "88292                    0.0                    0.0                    0.0   \n",
       "88293                    0.0                    0.0                    0.0   \n",
       "\n",
       "       rides_previous_4_hour  rides_previous_3_hour  rides_previous_2_hour  \\\n",
       "0                        3.0                    4.0                    9.0   \n",
       "1                        7.0                    5.0                    9.0   \n",
       "2                        5.0                    5.0                   10.0   \n",
       "3                        1.0                    0.0                    1.0   \n",
       "4                        0.0                    4.0                    4.0   \n",
       "...                      ...                    ...                    ...   \n",
       "88289                    0.0                    0.0                    0.0   \n",
       "88290                    0.0                    0.0                    0.0   \n",
       "88291                    0.0                    0.0                    0.0   \n",
       "88292                    0.0                    0.0                    0.0   \n",
       "88293                    0.0                    0.0                    0.0   \n",
       "\n",
       "       rides_previous_1_hour  pickup_hour  pickup_location_id  \\\n",
       "0                       19.0   2022-01-29                   4   \n",
       "1                       10.0   2022-01-30                   4   \n",
       "2                        0.0   2022-01-31                   4   \n",
       "3                        3.0   2022-02-01                   4   \n",
       "4                        3.0   2022-02-02                   4   \n",
       "...                      ...          ...                 ...   \n",
       "88289                    0.0   2022-12-27                 199   \n",
       "88290                    0.0   2022-12-28                 199   \n",
       "88291                    0.0   2022-12-29                 199   \n",
       "88292                    0.0   2022-12-30                 199   \n",
       "88293                    0.0   2022-12-31                 199   \n",
       "\n",
       "       target_rides_next_hour  \n",
       "0                        17.0  \n",
       "1                         9.0  \n",
       "2                         3.0  \n",
       "3                         3.0  \n",
       "4                         1.0  \n",
       "...                       ...  \n",
       "88289                     0.0  \n",
       "88290                     0.0  \n",
       "88291                     0.0  \n",
       "88292                     0.0  \n",
       "88293                     0.0  \n",
       "\n",
       "[88294 rows x 675 columns]"
      ]
     },
     "execution_count": 2,
     "metadata": {},
     "output_type": "execute_result"
    }
   ],
   "source": [
    "import sys\n",
    "sys.path.append(\"..\\src\")\n",
    "import pandas as pd\n",
    "from paths import TRANSFORMED_DATA_DIR\n",
    "df = pd.read_parquet(TRANSFORMED_DATA_DIR / 'tabular_data.parquet')\n",
    "df"
   ]
  },
  {
   "cell_type": "code",
   "execution_count": 3,
   "metadata": {},
   "outputs": [
    {
     "name": "stdout",
     "output_type": "stream",
     "text": [
      "X_train.shape=(40086, 674)\n",
      "y_train.shape=(40086,)\n",
      "X_test.shape=(48208, 674)\n",
      "y_test.shape=(48208,)\n"
     ]
    }
   ],
   "source": [
    "from datetime import datetime\n",
    "from data_split import  train_test_split\n",
    "\n",
    "X_train, y_train, X_test, y_test = train_test_split(\n",
    "    df,\n",
    "    cutoff_date=datetime(2022, 7, 1, 0, 0, 0),\n",
    "    target_column_name='target_rides_next_hour'\n",
    ")\n",
    "\n",
    "print(f'{X_train.shape=}')\n",
    "print(f'{y_train.shape=}')\n",
    "print(f'{X_test.shape=}')\n",
    "print(f'{y_test.shape=}')"
   ]
  },
  {
   "cell_type": "code",
   "execution_count": 4,
   "metadata": {},
   "outputs": [],
   "source": [
    "import numpy as np\n",
    "from sklearn.model_selection import KFold, TimeSeriesSplit\n",
    "from sklearn.pipeline import make_pipeline\n",
    "from sklearn.metrics import mean_absolute_error\n",
    "import optuna\n",
    "\n",
    "from model import get_pipeline\n",
    "\n",
    "\n",
    "\n",
    "\n",
    "\n",
    "def objective(trial: optuna.trial.Trial) -> float:\n",
    "    \"\"\"\n",
    "    Given a set of hyper-parameters, it trains a model and computes an average\n",
    "    validation error based on a TimeSeriesSplit\n",
    "    \"\"\"\n",
    "    # pick hyper-parameters\n",
    "    hyperparams = {\n",
    "        \"metric\": 'mae',\n",
    "        \"verbose\": -1,\n",
    "        \"num_leaves\": trial.suggest_int(\"num_leaves\", 2, 256),\n",
    "        \"feature_fraction\": trial.suggest_float(\"feature_fraction\", 0.2, 1.0),\n",
    "        \"bagging_fraction\": trial.suggest_float(\"bagging_fraction\", 0.2, 1.0),\n",
    "        \"min_child_samples\": trial.suggest_int(\"min_child_samples\", 3, 100),   \n",
    "    }\n",
    "       \n",
    "    tss = TimeSeriesSplit(n_splits=4)\n",
    "    scores = []\n",
    "    \n",
    "    # sort X_train by `pikup_hour` inplace\n",
    "    # so the TimeSeriesSplit will split the data in a consistent way\n",
    "    X_train.sort_values('pickup_hour', inplace=True)\n",
    "\n",
    "    for train_index, val_index in tss.split(X_train):\n",
    "\n",
    "        # split data for training and validation\n",
    "        X_train_, X_val_ = X_train.iloc[train_index, :], X_train.iloc[val_index,:]\n",
    "        y_train_, y_val_ = y_train.iloc[train_index], y_train.iloc[val_index]\n",
    "        \n",
    "        # train the model\n",
    "        pipeline = get_pipeline(**hyperparams)\n",
    "        pipeline.fit(X_train_, y_train_)\n",
    "            # evaluate the model\n",
    "        y_pred = pipeline.predict(X_val_)\n",
    "        mae = mean_absolute_error(y_val_, y_pred)\n",
    "\n",
    "        scores.append(mae)\n",
    "   \n",
    "    # Return the mean score\n",
    "    return np.array(scores).mean()"
   ]
  },
  {
   "cell_type": "code",
   "execution_count": 5,
   "metadata": {},
   "outputs": [
    {
     "name": "stderr",
     "output_type": "stream",
     "text": [
      "[I 2024-02-16 16:59:09,564] A new study created in memory with name: no-name-e96474ab-3f2d-4ba2-aff8-4b72f1b30c0a\n",
      "[I 2024-02-16 16:59:29,614] Trial 0 finished with value: 23.835415464862372 and parameters: {'num_leaves': 10, 'feature_fraction': 0.42993476862453045, 'bagging_fraction': 0.9509936966124644, 'min_child_samples': 27}. Best is trial 0 with value: 23.835415464862372.\n",
      "[I 2024-02-16 17:00:58,166] Trial 1 finished with value: 23.907624459606534 and parameters: {'num_leaves': 180, 'feature_fraction': 0.9880715373274707, 'bagging_fraction': 0.506407604114506, 'min_child_samples': 71}. Best is trial 0 with value: 23.835415464862372.\n",
      "[I 2024-02-16 17:02:30,654] Trial 2 finished with value: 23.926478993056293 and parameters: {'num_leaves': 232, 'feature_fraction': 0.6476295076265567, 'bagging_fraction': 0.24770328625535126, 'min_child_samples': 30}. Best is trial 0 with value: 23.835415464862372.\n",
      "[I 2024-02-16 17:03:15,898] Trial 3 finished with value: 23.57676180301512 and parameters: {'num_leaves': 87, 'feature_fraction': 0.509978599441336, 'bagging_fraction': 0.4368564533176006, 'min_child_samples': 53}. Best is trial 3 with value: 23.57676180301512.\n",
      "[I 2024-02-16 17:04:09,501] Trial 4 finished with value: 23.3644128728208 and parameters: {'num_leaves': 154, 'feature_fraction': 0.42040324707773735, 'bagging_fraction': 0.7544936138234537, 'min_child_samples': 66}. Best is trial 4 with value: 23.3644128728208.\n"
     ]
    }
   ],
   "source": [
    "study = optuna.create_study(direction=\"minimize\")\n",
    "study.optimize(objective, n_trials=5)"
   ]
  },
  {
   "cell_type": "code",
   "execution_count": 8,
   "metadata": {},
   "outputs": [
    {
     "name": "stdout",
     "output_type": "stream",
     "text": [
      "best_params={'num_leaves': 154, 'feature_fraction': 0.42040324707773735, 'bagging_fraction': 0.7544936138234537, 'min_child_samples': 66}\n"
     ]
    }
   ],
   "source": [
    "best_params = study.best_trial.params\n",
    "print(f'{best_params=}')"
   ]
  },
  {
   "cell_type": "code",
   "execution_count": 9,
   "metadata": {},
   "outputs": [
    {
     "name": "stdout",
     "output_type": "stream",
     "text": [
      "[LightGBM] [Warning] feature_fraction is set=0.42040324707773735, colsample_bytree=1.0 will be ignored. Current value: feature_fraction=0.42040324707773735\n",
      "[LightGBM] [Warning] bagging_fraction is set=0.7544936138234537, subsample=1.0 will be ignored. Current value: bagging_fraction=0.7544936138234537\n",
      "[LightGBM] [Warning] feature_fraction is set=0.42040324707773735, colsample_bytree=1.0 will be ignored. Current value: feature_fraction=0.42040324707773735\n",
      "[LightGBM] [Warning] bagging_fraction is set=0.7544936138234537, subsample=1.0 will be ignored. Current value: bagging_fraction=0.7544936138234537\n",
      "[LightGBM] [Info] Auto-choosing col-wise multi-threading, the overhead of testing was 0.302228 seconds.\n",
      "You can set `force_col_wise=true` to remove the overhead.\n",
      "[LightGBM] [Info] Total Bins 158462\n",
      "[LightGBM] [Info] Number of data points in the train set: 40086, number of used features: 675\n",
      "[LightGBM] [Info] Start training from score 11.973233\n"
     ]
    },
    {
     "data": {
      "text/html": [
       "<style>#sk-container-id-1 {\n",
       "  /* Definition of color scheme common for light and dark mode */\n",
       "  --sklearn-color-text: black;\n",
       "  --sklearn-color-line: gray;\n",
       "  /* Definition of color scheme for unfitted estimators */\n",
       "  --sklearn-color-unfitted-level-0: #fff5e6;\n",
       "  --sklearn-color-unfitted-level-1: #f6e4d2;\n",
       "  --sklearn-color-unfitted-level-2: #ffe0b3;\n",
       "  --sklearn-color-unfitted-level-3: chocolate;\n",
       "  /* Definition of color scheme for fitted estimators */\n",
       "  --sklearn-color-fitted-level-0: #f0f8ff;\n",
       "  --sklearn-color-fitted-level-1: #d4ebff;\n",
       "  --sklearn-color-fitted-level-2: #b3dbfd;\n",
       "  --sklearn-color-fitted-level-3: cornflowerblue;\n",
       "\n",
       "  /* Specific color for light theme */\n",
       "  --sklearn-color-text-on-default-background: var(--sg-text-color, var(--theme-code-foreground, var(--jp-content-font-color1, black)));\n",
       "  --sklearn-color-background: var(--sg-background-color, var(--theme-background, var(--jp-layout-color0, white)));\n",
       "  --sklearn-color-border-box: var(--sg-text-color, var(--theme-code-foreground, var(--jp-content-font-color1, black)));\n",
       "  --sklearn-color-icon: #696969;\n",
       "\n",
       "  @media (prefers-color-scheme: dark) {\n",
       "    /* Redefinition of color scheme for dark theme */\n",
       "    --sklearn-color-text-on-default-background: var(--sg-text-color, var(--theme-code-foreground, var(--jp-content-font-color1, white)));\n",
       "    --sklearn-color-background: var(--sg-background-color, var(--theme-background, var(--jp-layout-color0, #111)));\n",
       "    --sklearn-color-border-box: var(--sg-text-color, var(--theme-code-foreground, var(--jp-content-font-color1, white)));\n",
       "    --sklearn-color-icon: #878787;\n",
       "  }\n",
       "}\n",
       "\n",
       "#sk-container-id-1 {\n",
       "  color: var(--sklearn-color-text);\n",
       "}\n",
       "\n",
       "#sk-container-id-1 pre {\n",
       "  padding: 0;\n",
       "}\n",
       "\n",
       "#sk-container-id-1 input.sk-hidden--visually {\n",
       "  border: 0;\n",
       "  clip: rect(1px 1px 1px 1px);\n",
       "  clip: rect(1px, 1px, 1px, 1px);\n",
       "  height: 1px;\n",
       "  margin: -1px;\n",
       "  overflow: hidden;\n",
       "  padding: 0;\n",
       "  position: absolute;\n",
       "  width: 1px;\n",
       "}\n",
       "\n",
       "#sk-container-id-1 div.sk-dashed-wrapped {\n",
       "  border: 1px dashed var(--sklearn-color-line);\n",
       "  margin: 0 0.4em 0.5em 0.4em;\n",
       "  box-sizing: border-box;\n",
       "  padding-bottom: 0.4em;\n",
       "  background-color: var(--sklearn-color-background);\n",
       "}\n",
       "\n",
       "#sk-container-id-1 div.sk-container {\n",
       "  /* jupyter's `normalize.less` sets `[hidden] { display: none; }`\n",
       "     but bootstrap.min.css set `[hidden] { display: none !important; }`\n",
       "     so we also need the `!important` here to be able to override the\n",
       "     default hidden behavior on the sphinx rendered scikit-learn.org.\n",
       "     See: https://github.com/scikit-learn/scikit-learn/issues/21755 */\n",
       "  display: inline-block !important;\n",
       "  position: relative;\n",
       "}\n",
       "\n",
       "#sk-container-id-1 div.sk-text-repr-fallback {\n",
       "  display: none;\n",
       "}\n",
       "\n",
       "div.sk-parallel-item,\n",
       "div.sk-serial,\n",
       "div.sk-item {\n",
       "  /* draw centered vertical line to link estimators */\n",
       "  background-image: linear-gradient(var(--sklearn-color-text-on-default-background), var(--sklearn-color-text-on-default-background));\n",
       "  background-size: 2px 100%;\n",
       "  background-repeat: no-repeat;\n",
       "  background-position: center center;\n",
       "}\n",
       "\n",
       "/* Parallel-specific style estimator block */\n",
       "\n",
       "#sk-container-id-1 div.sk-parallel-item::after {\n",
       "  content: \"\";\n",
       "  width: 100%;\n",
       "  border-bottom: 2px solid var(--sklearn-color-text-on-default-background);\n",
       "  flex-grow: 1;\n",
       "}\n",
       "\n",
       "#sk-container-id-1 div.sk-parallel {\n",
       "  display: flex;\n",
       "  align-items: stretch;\n",
       "  justify-content: center;\n",
       "  background-color: var(--sklearn-color-background);\n",
       "  position: relative;\n",
       "}\n",
       "\n",
       "#sk-container-id-1 div.sk-parallel-item {\n",
       "  display: flex;\n",
       "  flex-direction: column;\n",
       "}\n",
       "\n",
       "#sk-container-id-1 div.sk-parallel-item:first-child::after {\n",
       "  align-self: flex-end;\n",
       "  width: 50%;\n",
       "}\n",
       "\n",
       "#sk-container-id-1 div.sk-parallel-item:last-child::after {\n",
       "  align-self: flex-start;\n",
       "  width: 50%;\n",
       "}\n",
       "\n",
       "#sk-container-id-1 div.sk-parallel-item:only-child::after {\n",
       "  width: 0;\n",
       "}\n",
       "\n",
       "/* Serial-specific style estimator block */\n",
       "\n",
       "#sk-container-id-1 div.sk-serial {\n",
       "  display: flex;\n",
       "  flex-direction: column;\n",
       "  align-items: center;\n",
       "  background-color: var(--sklearn-color-background);\n",
       "  padding-right: 1em;\n",
       "  padding-left: 1em;\n",
       "}\n",
       "\n",
       "\n",
       "/* Toggleable style: style used for estimator/Pipeline/ColumnTransformer box that is\n",
       "clickable and can be expanded/collapsed.\n",
       "- Pipeline and ColumnTransformer use this feature and define the default style\n",
       "- Estimators will overwrite some part of the style using the `sk-estimator` class\n",
       "*/\n",
       "\n",
       "/* Pipeline and ColumnTransformer style (default) */\n",
       "\n",
       "#sk-container-id-1 div.sk-toggleable {\n",
       "  /* Default theme specific background. It is overwritten whether we have a\n",
       "  specific estimator or a Pipeline/ColumnTransformer */\n",
       "  background-color: var(--sklearn-color-background);\n",
       "}\n",
       "\n",
       "/* Toggleable label */\n",
       "#sk-container-id-1 label.sk-toggleable__label {\n",
       "  cursor: pointer;\n",
       "  display: block;\n",
       "  width: 100%;\n",
       "  margin-bottom: 0;\n",
       "  padding: 0.5em;\n",
       "  box-sizing: border-box;\n",
       "  text-align: center;\n",
       "}\n",
       "\n",
       "#sk-container-id-1 label.sk-toggleable__label-arrow:before {\n",
       "  /* Arrow on the left of the label */\n",
       "  content: \"▸\";\n",
       "  float: left;\n",
       "  margin-right: 0.25em;\n",
       "  color: var(--sklearn-color-icon);\n",
       "}\n",
       "\n",
       "#sk-container-id-1 label.sk-toggleable__label-arrow:hover:before {\n",
       "  color: var(--sklearn-color-text);\n",
       "}\n",
       "\n",
       "/* Toggleable content - dropdown */\n",
       "\n",
       "#sk-container-id-1 div.sk-toggleable__content {\n",
       "  max-height: 0;\n",
       "  max-width: 0;\n",
       "  overflow: hidden;\n",
       "  text-align: left;\n",
       "  /* unfitted */\n",
       "  background-color: var(--sklearn-color-unfitted-level-0);\n",
       "}\n",
       "\n",
       "#sk-container-id-1 div.sk-toggleable__content.fitted {\n",
       "  /* fitted */\n",
       "  background-color: var(--sklearn-color-fitted-level-0);\n",
       "}\n",
       "\n",
       "#sk-container-id-1 div.sk-toggleable__content pre {\n",
       "  margin: 0.2em;\n",
       "  border-radius: 0.25em;\n",
       "  color: var(--sklearn-color-text);\n",
       "  /* unfitted */\n",
       "  background-color: var(--sklearn-color-unfitted-level-0);\n",
       "}\n",
       "\n",
       "#sk-container-id-1 div.sk-toggleable__content.fitted pre {\n",
       "  /* unfitted */\n",
       "  background-color: var(--sklearn-color-fitted-level-0);\n",
       "}\n",
       "\n",
       "#sk-container-id-1 input.sk-toggleable__control:checked~div.sk-toggleable__content {\n",
       "  /* Expand drop-down */\n",
       "  max-height: 200px;\n",
       "  max-width: 100%;\n",
       "  overflow: auto;\n",
       "}\n",
       "\n",
       "#sk-container-id-1 input.sk-toggleable__control:checked~label.sk-toggleable__label-arrow:before {\n",
       "  content: \"▾\";\n",
       "}\n",
       "\n",
       "/* Pipeline/ColumnTransformer-specific style */\n",
       "\n",
       "#sk-container-id-1 div.sk-label input.sk-toggleable__control:checked~label.sk-toggleable__label {\n",
       "  color: var(--sklearn-color-text);\n",
       "  background-color: var(--sklearn-color-unfitted-level-2);\n",
       "}\n",
       "\n",
       "#sk-container-id-1 div.sk-label.fitted input.sk-toggleable__control:checked~label.sk-toggleable__label {\n",
       "  background-color: var(--sklearn-color-fitted-level-2);\n",
       "}\n",
       "\n",
       "/* Estimator-specific style */\n",
       "\n",
       "/* Colorize estimator box */\n",
       "#sk-container-id-1 div.sk-estimator input.sk-toggleable__control:checked~label.sk-toggleable__label {\n",
       "  /* unfitted */\n",
       "  background-color: var(--sklearn-color-unfitted-level-2);\n",
       "}\n",
       "\n",
       "#sk-container-id-1 div.sk-estimator.fitted input.sk-toggleable__control:checked~label.sk-toggleable__label {\n",
       "  /* fitted */\n",
       "  background-color: var(--sklearn-color-fitted-level-2);\n",
       "}\n",
       "\n",
       "#sk-container-id-1 div.sk-label label.sk-toggleable__label,\n",
       "#sk-container-id-1 div.sk-label label {\n",
       "  /* The background is the default theme color */\n",
       "  color: var(--sklearn-color-text-on-default-background);\n",
       "}\n",
       "\n",
       "/* On hover, darken the color of the background */\n",
       "#sk-container-id-1 div.sk-label:hover label.sk-toggleable__label {\n",
       "  color: var(--sklearn-color-text);\n",
       "  background-color: var(--sklearn-color-unfitted-level-2);\n",
       "}\n",
       "\n",
       "/* Label box, darken color on hover, fitted */\n",
       "#sk-container-id-1 div.sk-label.fitted:hover label.sk-toggleable__label.fitted {\n",
       "  color: var(--sklearn-color-text);\n",
       "  background-color: var(--sklearn-color-fitted-level-2);\n",
       "}\n",
       "\n",
       "/* Estimator label */\n",
       "\n",
       "#sk-container-id-1 div.sk-label label {\n",
       "  font-family: monospace;\n",
       "  font-weight: bold;\n",
       "  display: inline-block;\n",
       "  line-height: 1.2em;\n",
       "}\n",
       "\n",
       "#sk-container-id-1 div.sk-label-container {\n",
       "  text-align: center;\n",
       "}\n",
       "\n",
       "/* Estimator-specific */\n",
       "#sk-container-id-1 div.sk-estimator {\n",
       "  font-family: monospace;\n",
       "  border: 1px dotted var(--sklearn-color-border-box);\n",
       "  border-radius: 0.25em;\n",
       "  box-sizing: border-box;\n",
       "  margin-bottom: 0.5em;\n",
       "  /* unfitted */\n",
       "  background-color: var(--sklearn-color-unfitted-level-0);\n",
       "}\n",
       "\n",
       "#sk-container-id-1 div.sk-estimator.fitted {\n",
       "  /* fitted */\n",
       "  background-color: var(--sklearn-color-fitted-level-0);\n",
       "}\n",
       "\n",
       "/* on hover */\n",
       "#sk-container-id-1 div.sk-estimator:hover {\n",
       "  /* unfitted */\n",
       "  background-color: var(--sklearn-color-unfitted-level-2);\n",
       "}\n",
       "\n",
       "#sk-container-id-1 div.sk-estimator.fitted:hover {\n",
       "  /* fitted */\n",
       "  background-color: var(--sklearn-color-fitted-level-2);\n",
       "}\n",
       "\n",
       "/* Specification for estimator info (e.g. \"i\" and \"?\") */\n",
       "\n",
       "/* Common style for \"i\" and \"?\" */\n",
       "\n",
       ".sk-estimator-doc-link,\n",
       "a:link.sk-estimator-doc-link,\n",
       "a:visited.sk-estimator-doc-link {\n",
       "  float: right;\n",
       "  font-size: smaller;\n",
       "  line-height: 1em;\n",
       "  font-family: monospace;\n",
       "  background-color: var(--sklearn-color-background);\n",
       "  border-radius: 1em;\n",
       "  height: 1em;\n",
       "  width: 1em;\n",
       "  text-decoration: none !important;\n",
       "  margin-left: 1ex;\n",
       "  /* unfitted */\n",
       "  border: var(--sklearn-color-unfitted-level-1) 1pt solid;\n",
       "  color: var(--sklearn-color-unfitted-level-1);\n",
       "}\n",
       "\n",
       ".sk-estimator-doc-link.fitted,\n",
       "a:link.sk-estimator-doc-link.fitted,\n",
       "a:visited.sk-estimator-doc-link.fitted {\n",
       "  /* fitted */\n",
       "  border: var(--sklearn-color-fitted-level-1) 1pt solid;\n",
       "  color: var(--sklearn-color-fitted-level-1);\n",
       "}\n",
       "\n",
       "/* On hover */\n",
       "div.sk-estimator:hover .sk-estimator-doc-link:hover,\n",
       ".sk-estimator-doc-link:hover,\n",
       "div.sk-label-container:hover .sk-estimator-doc-link:hover,\n",
       ".sk-estimator-doc-link:hover {\n",
       "  /* unfitted */\n",
       "  background-color: var(--sklearn-color-unfitted-level-3);\n",
       "  color: var(--sklearn-color-background);\n",
       "  text-decoration: none;\n",
       "}\n",
       "\n",
       "div.sk-estimator.fitted:hover .sk-estimator-doc-link.fitted:hover,\n",
       ".sk-estimator-doc-link.fitted:hover,\n",
       "div.sk-label-container:hover .sk-estimator-doc-link.fitted:hover,\n",
       ".sk-estimator-doc-link.fitted:hover {\n",
       "  /* fitted */\n",
       "  background-color: var(--sklearn-color-fitted-level-3);\n",
       "  color: var(--sklearn-color-background);\n",
       "  text-decoration: none;\n",
       "}\n",
       "\n",
       "/* Span, style for the box shown on hovering the info icon */\n",
       ".sk-estimator-doc-link span {\n",
       "  display: none;\n",
       "  z-index: 9999;\n",
       "  position: relative;\n",
       "  font-weight: normal;\n",
       "  right: .2ex;\n",
       "  padding: .5ex;\n",
       "  margin: .5ex;\n",
       "  width: min-content;\n",
       "  min-width: 20ex;\n",
       "  max-width: 50ex;\n",
       "  color: var(--sklearn-color-text);\n",
       "  box-shadow: 2pt 2pt 4pt #999;\n",
       "  /* unfitted */\n",
       "  background: var(--sklearn-color-unfitted-level-0);\n",
       "  border: .5pt solid var(--sklearn-color-unfitted-level-3);\n",
       "}\n",
       "\n",
       ".sk-estimator-doc-link.fitted span {\n",
       "  /* fitted */\n",
       "  background: var(--sklearn-color-fitted-level-0);\n",
       "  border: var(--sklearn-color-fitted-level-3);\n",
       "}\n",
       "\n",
       ".sk-estimator-doc-link:hover span {\n",
       "  display: block;\n",
       "}\n",
       "\n",
       "/* \"?\"-specific style due to the `<a>` HTML tag */\n",
       "\n",
       "#sk-container-id-1 a.estimator_doc_link {\n",
       "  float: right;\n",
       "  font-size: 1rem;\n",
       "  line-height: 1em;\n",
       "  font-family: monospace;\n",
       "  background-color: var(--sklearn-color-background);\n",
       "  border-radius: 1rem;\n",
       "  height: 1rem;\n",
       "  width: 1rem;\n",
       "  text-decoration: none;\n",
       "  /* unfitted */\n",
       "  color: var(--sklearn-color-unfitted-level-1);\n",
       "  border: var(--sklearn-color-unfitted-level-1) 1pt solid;\n",
       "}\n",
       "\n",
       "#sk-container-id-1 a.estimator_doc_link.fitted {\n",
       "  /* fitted */\n",
       "  border: var(--sklearn-color-fitted-level-1) 1pt solid;\n",
       "  color: var(--sklearn-color-fitted-level-1);\n",
       "}\n",
       "\n",
       "/* On hover */\n",
       "#sk-container-id-1 a.estimator_doc_link:hover {\n",
       "  /* unfitted */\n",
       "  background-color: var(--sklearn-color-unfitted-level-3);\n",
       "  color: var(--sklearn-color-background);\n",
       "  text-decoration: none;\n",
       "}\n",
       "\n",
       "#sk-container-id-1 a.estimator_doc_link.fitted:hover {\n",
       "  /* fitted */\n",
       "  background-color: var(--sklearn-color-fitted-level-3);\n",
       "}\n",
       "</style><div id=\"sk-container-id-1\" class=\"sk-top-container\"><div class=\"sk-text-repr-fallback\"><pre>Pipeline(steps=[(&#x27;functiontransformer&#x27;,\n",
       "                 FunctionTransformer(func=&lt;function average_rides_last_4_weeks at 0x0000026CFF376340&gt;)),\n",
       "                (&#x27;temporalfeaturesengineer&#x27;, TemporalFeaturesEngineer()),\n",
       "                (&#x27;lgbmregressor&#x27;,\n",
       "                 LGBMRegressor(bagging_fraction=0.7544936138234537,\n",
       "                               feature_fraction=0.42040324707773735,\n",
       "                               min_child_samples=66, num_leaves=154))])</pre><b>In a Jupyter environment, please rerun this cell to show the HTML representation or trust the notebook. <br />On GitHub, the HTML representation is unable to render, please try loading this page with nbviewer.org.</b></div><div class=\"sk-container\" hidden><div class=\"sk-item sk-dashed-wrapped\"><div class=\"sk-label-container\"><div class=\"sk-label fitted sk-toggleable\"><input class=\"sk-toggleable__control sk-hidden--visually\" id=\"sk-estimator-id-1\" type=\"checkbox\" ><label for=\"sk-estimator-id-1\" class=\"sk-toggleable__label fitted sk-toggleable__label-arrow fitted\">&nbsp;&nbsp;Pipeline<a class=\"sk-estimator-doc-link fitted\" rel=\"noreferrer\" target=\"_blank\" href=\"https://scikit-learn.org/1.4/modules/generated/sklearn.pipeline.Pipeline.html\">?<span>Documentation for Pipeline</span></a><span class=\"sk-estimator-doc-link fitted\">i<span>Fitted</span></span></label><div class=\"sk-toggleable__content fitted\"><pre>Pipeline(steps=[(&#x27;functiontransformer&#x27;,\n",
       "                 FunctionTransformer(func=&lt;function average_rides_last_4_weeks at 0x0000026CFF376340&gt;)),\n",
       "                (&#x27;temporalfeaturesengineer&#x27;, TemporalFeaturesEngineer()),\n",
       "                (&#x27;lgbmregressor&#x27;,\n",
       "                 LGBMRegressor(bagging_fraction=0.7544936138234537,\n",
       "                               feature_fraction=0.42040324707773735,\n",
       "                               min_child_samples=66, num_leaves=154))])</pre></div> </div></div><div class=\"sk-serial\"><div class=\"sk-item\"><div class=\"sk-estimator fitted sk-toggleable\"><input class=\"sk-toggleable__control sk-hidden--visually\" id=\"sk-estimator-id-2\" type=\"checkbox\" ><label for=\"sk-estimator-id-2\" class=\"sk-toggleable__label fitted sk-toggleable__label-arrow fitted\">&nbsp;FunctionTransformer<a class=\"sk-estimator-doc-link fitted\" rel=\"noreferrer\" target=\"_blank\" href=\"https://scikit-learn.org/1.4/modules/generated/sklearn.preprocessing.FunctionTransformer.html\">?<span>Documentation for FunctionTransformer</span></a></label><div class=\"sk-toggleable__content fitted\"><pre>FunctionTransformer(func=&lt;function average_rides_last_4_weeks at 0x0000026CFF376340&gt;)</pre></div> </div></div><div class=\"sk-item\"><div class=\"sk-estimator fitted sk-toggleable\"><input class=\"sk-toggleable__control sk-hidden--visually\" id=\"sk-estimator-id-3\" type=\"checkbox\" ><label for=\"sk-estimator-id-3\" class=\"sk-toggleable__label fitted sk-toggleable__label-arrow fitted\">TemporalFeaturesEngineer</label><div class=\"sk-toggleable__content fitted\"><pre>TemporalFeaturesEngineer()</pre></div> </div></div><div class=\"sk-item\"><div class=\"sk-estimator fitted sk-toggleable\"><input class=\"sk-toggleable__control sk-hidden--visually\" id=\"sk-estimator-id-4\" type=\"checkbox\" ><label for=\"sk-estimator-id-4\" class=\"sk-toggleable__label fitted sk-toggleable__label-arrow fitted\">LGBMRegressor</label><div class=\"sk-toggleable__content fitted\"><pre>LGBMRegressor(bagging_fraction=0.7544936138234537,\n",
       "              feature_fraction=0.42040324707773735, min_child_samples=66,\n",
       "              num_leaves=154)</pre></div> </div></div></div></div></div></div>"
      ],
      "text/plain": [
       "Pipeline(steps=[('functiontransformer',\n",
       "                 FunctionTransformer(func=<function average_rides_last_4_weeks at 0x0000026CFF376340>)),\n",
       "                ('temporalfeaturesengineer', TemporalFeaturesEngineer()),\n",
       "                ('lgbmregressor',\n",
       "                 LGBMRegressor(bagging_fraction=0.7544936138234537,\n",
       "                               feature_fraction=0.42040324707773735,\n",
       "                               min_child_samples=66, num_leaves=154))])"
      ]
     },
     "execution_count": 9,
     "metadata": {},
     "output_type": "execute_result"
    }
   ],
   "source": [
    "pipeline = get_pipeline(**best_params)\n",
    "pipeline.fit(X_train, y_train)"
   ]
  },
  {
   "cell_type": "code",
   "execution_count": 10,
   "metadata": {},
   "outputs": [
    {
     "name": "stdout",
     "output_type": "stream",
     "text": [
      "[LightGBM] [Warning] feature_fraction is set=0.42040324707773735, colsample_bytree=1.0 will be ignored. Current value: feature_fraction=0.42040324707773735\n",
      "[LightGBM] [Warning] bagging_fraction is set=0.7544936138234537, subsample=1.0 will be ignored. Current value: bagging_fraction=0.7544936138234537\n",
      "test_mae=19.6349\n"
     ]
    }
   ],
   "source": [
    "predictions = pipeline.predict(X_test)\n",
    "test_mae = mean_absolute_error(y_test, predictions)\n",
    "print(f'{test_mae=:.4f}')"
   ]
  },
  {
   "cell_type": "code",
   "execution_count": 87,
   "metadata": {},
   "outputs": [
    {
     "data": {
      "application/vnd.plotly.v1+json": {
       "config": {
        "plotlyServerURL": "https://plot.ly"
       },
       "data": [
        {
         "hovertemplate": "x=%{x}<br>y=%{y}<extra></extra>",
         "legendgroup": "",
         "line": {
          "color": "#636efa",
          "dash": "solid"
         },
         "marker": {
          "symbol": "circle"
         },
         "mode": "markers+lines",
         "name": "",
         "orientation": "v",
         "showlegend": false,
         "type": "scatter",
         "x": [
          "2022-07-27T00:00:00",
          "2022-07-27T01:00:00",
          "2022-07-27T02:00:00",
          "2022-07-27T03:00:00",
          "2022-07-27T04:00:00",
          "2022-07-27T05:00:00",
          "2022-07-27T06:00:00",
          "2022-07-27T07:00:00",
          "2022-07-27T08:00:00",
          "2022-07-27T09:00:00",
          "2022-07-27T10:00:00",
          "2022-07-27T11:00:00",
          "2022-07-27T12:00:00",
          "2022-07-27T13:00:00",
          "2022-07-27T14:00:00",
          "2022-07-27T15:00:00",
          "2022-07-27T16:00:00",
          "2022-07-27T17:00:00",
          "2022-07-27T18:00:00",
          "2022-07-27T19:00:00",
          "2022-07-27T20:00:00",
          "2022-07-27T21:00:00",
          "2022-07-27T22:00:00",
          "2022-07-27T23:00:00",
          "2022-07-28T00:00:00",
          "2022-07-28T01:00:00",
          "2022-07-28T02:00:00",
          "2022-07-28T03:00:00",
          "2022-07-28T04:00:00",
          "2022-07-28T05:00:00",
          "2022-07-28T06:00:00",
          "2022-07-28T07:00:00",
          "2022-07-28T08:00:00",
          "2022-07-28T09:00:00",
          "2022-07-28T10:00:00",
          "2022-07-28T11:00:00",
          "2022-07-28T12:00:00",
          "2022-07-28T13:00:00",
          "2022-07-28T14:00:00",
          "2022-07-28T15:00:00",
          "2022-07-28T16:00:00",
          "2022-07-28T17:00:00",
          "2022-07-28T18:00:00",
          "2022-07-28T19:00:00",
          "2022-07-28T20:00:00",
          "2022-07-28T21:00:00",
          "2022-07-28T22:00:00",
          "2022-07-28T23:00:00",
          "2022-07-29T00:00:00",
          "2022-07-29T01:00:00",
          "2022-07-29T02:00:00",
          "2022-07-29T03:00:00",
          "2022-07-29T04:00:00",
          "2022-07-29T05:00:00",
          "2022-07-29T06:00:00",
          "2022-07-29T07:00:00",
          "2022-07-29T08:00:00",
          "2022-07-29T09:00:00",
          "2022-07-29T10:00:00",
          "2022-07-29T11:00:00",
          "2022-07-29T12:00:00",
          "2022-07-29T13:00:00",
          "2022-07-29T14:00:00",
          "2022-07-29T15:00:00",
          "2022-07-29T16:00:00",
          "2022-07-29T17:00:00",
          "2022-07-29T18:00:00",
          "2022-07-29T19:00:00",
          "2022-07-29T20:00:00",
          "2022-07-29T21:00:00",
          "2022-07-29T22:00:00",
          "2022-07-29T23:00:00",
          "2022-07-30T00:00:00",
          "2022-07-30T01:00:00",
          "2022-07-30T02:00:00",
          "2022-07-30T03:00:00",
          "2022-07-30T04:00:00",
          "2022-07-30T05:00:00",
          "2022-07-30T06:00:00",
          "2022-07-30T07:00:00",
          "2022-07-30T08:00:00",
          "2022-07-30T09:00:00",
          "2022-07-30T10:00:00",
          "2022-07-30T11:00:00",
          "2022-07-30T12:00:00",
          "2022-07-30T13:00:00",
          "2022-07-30T14:00:00",
          "2022-07-30T15:00:00",
          "2022-07-30T16:00:00",
          "2022-07-30T17:00:00",
          "2022-07-30T18:00:00",
          "2022-07-30T19:00:00",
          "2022-07-30T20:00:00",
          "2022-07-30T21:00:00",
          "2022-07-30T22:00:00",
          "2022-07-30T23:00:00",
          "2022-07-31T00:00:00",
          "2022-07-31T01:00:00",
          "2022-07-31T02:00:00",
          "2022-07-31T03:00:00",
          "2022-07-31T04:00:00",
          "2022-07-31T05:00:00",
          "2022-07-31T06:00:00",
          "2022-07-31T07:00:00",
          "2022-07-31T08:00:00",
          "2022-07-31T09:00:00",
          "2022-07-31T10:00:00",
          "2022-07-31T11:00:00",
          "2022-07-31T12:00:00",
          "2022-07-31T13:00:00",
          "2022-07-31T14:00:00",
          "2022-07-31T15:00:00",
          "2022-07-31T16:00:00",
          "2022-07-31T17:00:00",
          "2022-07-31T18:00:00",
          "2022-07-31T19:00:00",
          "2022-07-31T20:00:00",
          "2022-07-31T21:00:00",
          "2022-07-31T22:00:00",
          "2022-07-31T23:00:00",
          "2022-08-01T00:00:00",
          "2022-08-01T01:00:00",
          "2022-08-01T02:00:00",
          "2022-08-01T03:00:00",
          "2022-08-01T04:00:00",
          "2022-08-01T05:00:00",
          "2022-08-01T06:00:00",
          "2022-08-01T07:00:00",
          "2022-08-01T08:00:00",
          "2022-08-01T09:00:00",
          "2022-08-01T10:00:00",
          "2022-08-01T11:00:00",
          "2022-08-01T12:00:00",
          "2022-08-01T13:00:00",
          "2022-08-01T14:00:00",
          "2022-08-01T15:00:00",
          "2022-08-01T16:00:00",
          "2022-08-01T17:00:00",
          "2022-08-01T18:00:00",
          "2022-08-01T19:00:00",
          "2022-08-01T20:00:00",
          "2022-08-01T21:00:00",
          "2022-08-01T22:00:00",
          "2022-08-01T23:00:00",
          "2022-08-02T00:00:00",
          "2022-08-02T01:00:00",
          "2022-08-02T02:00:00",
          "2022-08-02T03:00:00",
          "2022-08-02T04:00:00",
          "2022-08-02T05:00:00",
          "2022-08-02T06:00:00",
          "2022-08-02T07:00:00",
          "2022-08-02T08:00:00",
          "2022-08-02T09:00:00",
          "2022-08-02T10:00:00",
          "2022-08-02T11:00:00",
          "2022-08-02T12:00:00",
          "2022-08-02T13:00:00",
          "2022-08-02T14:00:00",
          "2022-08-02T15:00:00",
          "2022-08-02T16:00:00",
          "2022-08-02T17:00:00",
          "2022-08-02T18:00:00",
          "2022-08-02T19:00:00",
          "2022-08-02T20:00:00",
          "2022-08-02T21:00:00",
          "2022-08-02T22:00:00",
          "2022-08-02T23:00:00",
          "2022-08-03T00:00:00",
          "2022-08-03T01:00:00",
          "2022-08-03T02:00:00",
          "2022-08-03T03:00:00",
          "2022-08-03T04:00:00",
          "2022-08-03T05:00:00",
          "2022-08-03T06:00:00",
          "2022-08-03T07:00:00",
          "2022-08-03T08:00:00",
          "2022-08-03T09:00:00",
          "2022-08-03T10:00:00",
          "2022-08-03T11:00:00",
          "2022-08-03T12:00:00",
          "2022-08-03T13:00:00",
          "2022-08-03T14:00:00",
          "2022-08-03T15:00:00",
          "2022-08-03T16:00:00",
          "2022-08-03T17:00:00",
          "2022-08-03T18:00:00",
          "2022-08-03T19:00:00",
          "2022-08-03T20:00:00",
          "2022-08-03T21:00:00",
          "2022-08-03T22:00:00",
          "2022-08-03T23:00:00",
          "2022-08-04T00:00:00",
          "2022-08-04T01:00:00",
          "2022-08-04T02:00:00",
          "2022-08-04T03:00:00",
          "2022-08-04T04:00:00",
          "2022-08-04T05:00:00",
          "2022-08-04T06:00:00",
          "2022-08-04T07:00:00",
          "2022-08-04T08:00:00",
          "2022-08-04T09:00:00",
          "2022-08-04T10:00:00",
          "2022-08-04T11:00:00",
          "2022-08-04T12:00:00",
          "2022-08-04T13:00:00",
          "2022-08-04T14:00:00",
          "2022-08-04T15:00:00",
          "2022-08-04T16:00:00",
          "2022-08-04T17:00:00",
          "2022-08-04T18:00:00",
          "2022-08-04T19:00:00",
          "2022-08-04T20:00:00",
          "2022-08-04T21:00:00",
          "2022-08-04T22:00:00",
          "2022-08-04T23:00:00",
          "2022-08-05T00:00:00",
          "2022-08-05T01:00:00",
          "2022-08-05T02:00:00",
          "2022-08-05T03:00:00",
          "2022-08-05T04:00:00",
          "2022-08-05T05:00:00",
          "2022-08-05T06:00:00",
          "2022-08-05T07:00:00",
          "2022-08-05T08:00:00",
          "2022-08-05T09:00:00",
          "2022-08-05T10:00:00",
          "2022-08-05T11:00:00",
          "2022-08-05T12:00:00",
          "2022-08-05T13:00:00",
          "2022-08-05T14:00:00",
          "2022-08-05T15:00:00",
          "2022-08-05T16:00:00",
          "2022-08-05T17:00:00",
          "2022-08-05T18:00:00",
          "2022-08-05T19:00:00",
          "2022-08-05T20:00:00",
          "2022-08-05T21:00:00",
          "2022-08-05T22:00:00",
          "2022-08-05T23:00:00",
          "2022-08-06T00:00:00",
          "2022-08-06T01:00:00",
          "2022-08-06T02:00:00",
          "2022-08-06T03:00:00",
          "2022-08-06T04:00:00",
          "2022-08-06T05:00:00",
          "2022-08-06T06:00:00",
          "2022-08-06T07:00:00",
          "2022-08-06T08:00:00",
          "2022-08-06T09:00:00",
          "2022-08-06T10:00:00",
          "2022-08-06T11:00:00",
          "2022-08-06T12:00:00",
          "2022-08-06T13:00:00",
          "2022-08-06T14:00:00",
          "2022-08-06T15:00:00",
          "2022-08-06T16:00:00",
          "2022-08-06T17:00:00",
          "2022-08-06T18:00:00",
          "2022-08-06T19:00:00",
          "2022-08-06T20:00:00",
          "2022-08-06T21:00:00",
          "2022-08-06T22:00:00",
          "2022-08-06T23:00:00",
          "2022-08-07T00:00:00",
          "2022-08-07T01:00:00",
          "2022-08-07T02:00:00",
          "2022-08-07T03:00:00",
          "2022-08-07T04:00:00",
          "2022-08-07T05:00:00",
          "2022-08-07T06:00:00",
          "2022-08-07T07:00:00",
          "2022-08-07T08:00:00",
          "2022-08-07T09:00:00",
          "2022-08-07T10:00:00",
          "2022-08-07T11:00:00",
          "2022-08-07T12:00:00",
          "2022-08-07T13:00:00",
          "2022-08-07T14:00:00",
          "2022-08-07T15:00:00",
          "2022-08-07T16:00:00",
          "2022-08-07T17:00:00",
          "2022-08-07T18:00:00",
          "2022-08-07T19:00:00",
          "2022-08-07T20:00:00",
          "2022-08-07T21:00:00",
          "2022-08-07T22:00:00",
          "2022-08-07T23:00:00",
          "2022-08-08T00:00:00",
          "2022-08-08T01:00:00",
          "2022-08-08T02:00:00",
          "2022-08-08T03:00:00",
          "2022-08-08T04:00:00",
          "2022-08-08T05:00:00",
          "2022-08-08T06:00:00",
          "2022-08-08T07:00:00",
          "2022-08-08T08:00:00",
          "2022-08-08T09:00:00",
          "2022-08-08T10:00:00",
          "2022-08-08T11:00:00",
          "2022-08-08T12:00:00",
          "2022-08-08T13:00:00",
          "2022-08-08T14:00:00",
          "2022-08-08T15:00:00",
          "2022-08-08T16:00:00",
          "2022-08-08T17:00:00",
          "2022-08-08T18:00:00",
          "2022-08-08T19:00:00",
          "2022-08-08T20:00:00",
          "2022-08-08T21:00:00",
          "2022-08-08T22:00:00",
          "2022-08-08T23:00:00",
          "2022-08-09T00:00:00",
          "2022-08-09T01:00:00",
          "2022-08-09T02:00:00",
          "2022-08-09T03:00:00",
          "2022-08-09T04:00:00",
          "2022-08-09T05:00:00",
          "2022-08-09T06:00:00",
          "2022-08-09T07:00:00",
          "2022-08-09T08:00:00",
          "2022-08-09T09:00:00",
          "2022-08-09T10:00:00",
          "2022-08-09T11:00:00",
          "2022-08-09T12:00:00",
          "2022-08-09T13:00:00",
          "2022-08-09T14:00:00",
          "2022-08-09T15:00:00",
          "2022-08-09T16:00:00",
          "2022-08-09T17:00:00",
          "2022-08-09T18:00:00",
          "2022-08-09T19:00:00",
          "2022-08-09T20:00:00",
          "2022-08-09T21:00:00",
          "2022-08-09T22:00:00",
          "2022-08-09T23:00:00",
          "2022-08-10T00:00:00",
          "2022-08-10T01:00:00",
          "2022-08-10T02:00:00",
          "2022-08-10T03:00:00",
          "2022-08-10T04:00:00",
          "2022-08-10T05:00:00",
          "2022-08-10T06:00:00",
          "2022-08-10T07:00:00",
          "2022-08-10T08:00:00",
          "2022-08-10T09:00:00",
          "2022-08-10T10:00:00",
          "2022-08-10T11:00:00",
          "2022-08-10T12:00:00",
          "2022-08-10T13:00:00",
          "2022-08-10T14:00:00",
          "2022-08-10T15:00:00",
          "2022-08-10T16:00:00",
          "2022-08-10T17:00:00",
          "2022-08-10T18:00:00",
          "2022-08-10T19:00:00",
          "2022-08-10T20:00:00",
          "2022-08-10T21:00:00",
          "2022-08-10T22:00:00",
          "2022-08-10T23:00:00",
          "2022-08-11T00:00:00",
          "2022-08-11T01:00:00",
          "2022-08-11T02:00:00",
          "2022-08-11T03:00:00",
          "2022-08-11T04:00:00",
          "2022-08-11T05:00:00",
          "2022-08-11T06:00:00",
          "2022-08-11T07:00:00",
          "2022-08-11T08:00:00",
          "2022-08-11T09:00:00",
          "2022-08-11T10:00:00",
          "2022-08-11T11:00:00",
          "2022-08-11T12:00:00",
          "2022-08-11T13:00:00",
          "2022-08-11T14:00:00",
          "2022-08-11T15:00:00",
          "2022-08-11T16:00:00",
          "2022-08-11T17:00:00",
          "2022-08-11T18:00:00",
          "2022-08-11T19:00:00",
          "2022-08-11T20:00:00",
          "2022-08-11T21:00:00",
          "2022-08-11T22:00:00",
          "2022-08-11T23:00:00",
          "2022-08-12T00:00:00",
          "2022-08-12T01:00:00",
          "2022-08-12T02:00:00",
          "2022-08-12T03:00:00",
          "2022-08-12T04:00:00",
          "2022-08-12T05:00:00",
          "2022-08-12T06:00:00",
          "2022-08-12T07:00:00",
          "2022-08-12T08:00:00",
          "2022-08-12T09:00:00",
          "2022-08-12T10:00:00",
          "2022-08-12T11:00:00",
          "2022-08-12T12:00:00",
          "2022-08-12T13:00:00",
          "2022-08-12T14:00:00",
          "2022-08-12T15:00:00",
          "2022-08-12T16:00:00",
          "2022-08-12T17:00:00",
          "2022-08-12T18:00:00",
          "2022-08-12T19:00:00",
          "2022-08-12T20:00:00",
          "2022-08-12T21:00:00",
          "2022-08-12T22:00:00",
          "2022-08-12T23:00:00",
          "2022-08-13T00:00:00",
          "2022-08-13T01:00:00",
          "2022-08-13T02:00:00",
          "2022-08-13T03:00:00",
          "2022-08-13T04:00:00",
          "2022-08-13T05:00:00",
          "2022-08-13T06:00:00",
          "2022-08-13T07:00:00",
          "2022-08-13T08:00:00",
          "2022-08-13T09:00:00",
          "2022-08-13T10:00:00",
          "2022-08-13T11:00:00",
          "2022-08-13T12:00:00",
          "2022-08-13T13:00:00",
          "2022-08-13T14:00:00",
          "2022-08-13T15:00:00",
          "2022-08-13T16:00:00",
          "2022-08-13T17:00:00",
          "2022-08-13T18:00:00",
          "2022-08-13T19:00:00",
          "2022-08-13T20:00:00",
          "2022-08-13T21:00:00",
          "2022-08-13T22:00:00",
          "2022-08-13T23:00:00",
          "2022-08-14T00:00:00",
          "2022-08-14T01:00:00",
          "2022-08-14T02:00:00",
          "2022-08-14T03:00:00",
          "2022-08-14T04:00:00",
          "2022-08-14T05:00:00",
          "2022-08-14T06:00:00",
          "2022-08-14T07:00:00",
          "2022-08-14T08:00:00",
          "2022-08-14T09:00:00",
          "2022-08-14T10:00:00",
          "2022-08-14T11:00:00",
          "2022-08-14T12:00:00",
          "2022-08-14T13:00:00",
          "2022-08-14T14:00:00",
          "2022-08-14T15:00:00",
          "2022-08-14T16:00:00",
          "2022-08-14T17:00:00",
          "2022-08-14T18:00:00",
          "2022-08-14T19:00:00",
          "2022-08-14T20:00:00",
          "2022-08-14T21:00:00",
          "2022-08-14T22:00:00",
          "2022-08-14T23:00:00",
          "2022-08-15T00:00:00",
          "2022-08-15T01:00:00",
          "2022-08-15T02:00:00",
          "2022-08-15T03:00:00",
          "2022-08-15T04:00:00",
          "2022-08-15T05:00:00",
          "2022-08-15T06:00:00",
          "2022-08-15T07:00:00",
          "2022-08-15T08:00:00",
          "2022-08-15T09:00:00",
          "2022-08-15T10:00:00",
          "2022-08-15T11:00:00",
          "2022-08-15T12:00:00",
          "2022-08-15T13:00:00",
          "2022-08-15T14:00:00",
          "2022-08-15T15:00:00",
          "2022-08-15T16:00:00",
          "2022-08-15T17:00:00",
          "2022-08-15T18:00:00",
          "2022-08-15T19:00:00",
          "2022-08-15T20:00:00",
          "2022-08-15T21:00:00",
          "2022-08-15T22:00:00",
          "2022-08-15T23:00:00",
          "2022-08-16T00:00:00",
          "2022-08-16T01:00:00",
          "2022-08-16T02:00:00",
          "2022-08-16T03:00:00",
          "2022-08-16T04:00:00",
          "2022-08-16T05:00:00",
          "2022-08-16T06:00:00",
          "2022-08-16T07:00:00",
          "2022-08-16T08:00:00",
          "2022-08-16T09:00:00",
          "2022-08-16T10:00:00",
          "2022-08-16T11:00:00",
          "2022-08-16T12:00:00",
          "2022-08-16T13:00:00",
          "2022-08-16T14:00:00",
          "2022-08-16T15:00:00",
          "2022-08-16T16:00:00",
          "2022-08-16T17:00:00",
          "2022-08-16T18:00:00",
          "2022-08-16T19:00:00",
          "2022-08-16T20:00:00",
          "2022-08-16T21:00:00",
          "2022-08-16T22:00:00",
          "2022-08-16T23:00:00",
          "2022-08-17T00:00:00",
          "2022-08-17T01:00:00",
          "2022-08-17T02:00:00",
          "2022-08-17T03:00:00",
          "2022-08-17T04:00:00",
          "2022-08-17T05:00:00",
          "2022-08-17T06:00:00",
          "2022-08-17T07:00:00",
          "2022-08-17T08:00:00",
          "2022-08-17T09:00:00",
          "2022-08-17T10:00:00",
          "2022-08-17T11:00:00",
          "2022-08-17T12:00:00",
          "2022-08-17T13:00:00",
          "2022-08-17T14:00:00",
          "2022-08-17T15:00:00",
          "2022-08-17T16:00:00",
          "2022-08-17T17:00:00",
          "2022-08-17T18:00:00",
          "2022-08-17T19:00:00",
          "2022-08-17T20:00:00",
          "2022-08-17T21:00:00",
          "2022-08-17T22:00:00",
          "2022-08-17T23:00:00",
          "2022-08-18T00:00:00",
          "2022-08-18T01:00:00",
          "2022-08-18T02:00:00",
          "2022-08-18T03:00:00",
          "2022-08-18T04:00:00",
          "2022-08-18T05:00:00",
          "2022-08-18T06:00:00",
          "2022-08-18T07:00:00",
          "2022-08-18T08:00:00",
          "2022-08-18T09:00:00",
          "2022-08-18T10:00:00",
          "2022-08-18T11:00:00",
          "2022-08-18T12:00:00",
          "2022-08-18T13:00:00",
          "2022-08-18T14:00:00",
          "2022-08-18T15:00:00",
          "2022-08-18T16:00:00",
          "2022-08-18T17:00:00",
          "2022-08-18T18:00:00",
          "2022-08-18T19:00:00",
          "2022-08-18T20:00:00",
          "2022-08-18T21:00:00",
          "2022-08-18T22:00:00",
          "2022-08-18T23:00:00",
          "2022-08-19T00:00:00",
          "2022-08-19T01:00:00",
          "2022-08-19T02:00:00",
          "2022-08-19T03:00:00",
          "2022-08-19T04:00:00",
          "2022-08-19T05:00:00",
          "2022-08-19T06:00:00",
          "2022-08-19T07:00:00",
          "2022-08-19T08:00:00",
          "2022-08-19T09:00:00",
          "2022-08-19T10:00:00",
          "2022-08-19T11:00:00",
          "2022-08-19T12:00:00",
          "2022-08-19T13:00:00",
          "2022-08-19T14:00:00",
          "2022-08-19T15:00:00",
          "2022-08-19T16:00:00",
          "2022-08-19T17:00:00",
          "2022-08-19T18:00:00",
          "2022-08-19T19:00:00",
          "2022-08-19T20:00:00",
          "2022-08-19T21:00:00",
          "2022-08-19T22:00:00",
          "2022-08-19T23:00:00",
          "2022-08-20T00:00:00",
          "2022-08-20T01:00:00",
          "2022-08-20T02:00:00",
          "2022-08-20T03:00:00",
          "2022-08-20T04:00:00",
          "2022-08-20T05:00:00",
          "2022-08-20T06:00:00",
          "2022-08-20T07:00:00",
          "2022-08-20T08:00:00",
          "2022-08-20T09:00:00",
          "2022-08-20T10:00:00",
          "2022-08-20T11:00:00",
          "2022-08-20T12:00:00",
          "2022-08-20T13:00:00",
          "2022-08-20T14:00:00",
          "2022-08-20T15:00:00",
          "2022-08-20T16:00:00",
          "2022-08-20T17:00:00",
          "2022-08-20T18:00:00",
          "2022-08-20T19:00:00",
          "2022-08-20T20:00:00",
          "2022-08-20T21:00:00",
          "2022-08-20T22:00:00",
          "2022-08-20T23:00:00",
          "2022-08-21T00:00:00",
          "2022-08-21T01:00:00",
          "2022-08-21T02:00:00",
          "2022-08-21T03:00:00",
          "2022-08-21T04:00:00",
          "2022-08-21T05:00:00",
          "2022-08-21T06:00:00",
          "2022-08-21T07:00:00",
          "2022-08-21T08:00:00",
          "2022-08-21T09:00:00",
          "2022-08-21T10:00:00",
          "2022-08-21T11:00:00",
          "2022-08-21T12:00:00",
          "2022-08-21T13:00:00",
          "2022-08-21T14:00:00",
          "2022-08-21T15:00:00",
          "2022-08-21T16:00:00",
          "2022-08-21T17:00:00",
          "2022-08-21T18:00:00",
          "2022-08-21T19:00:00",
          "2022-08-21T20:00:00",
          "2022-08-21T21:00:00",
          "2022-08-21T22:00:00",
          "2022-08-21T23:00:00",
          "2022-08-22T00:00:00",
          "2022-08-22T01:00:00",
          "2022-08-22T02:00:00",
          "2022-08-22T03:00:00",
          "2022-08-22T04:00:00",
          "2022-08-22T05:00:00",
          "2022-08-22T06:00:00",
          "2022-08-22T07:00:00",
          "2022-08-22T08:00:00",
          "2022-08-22T09:00:00",
          "2022-08-22T10:00:00",
          "2022-08-22T11:00:00",
          "2022-08-22T12:00:00",
          "2022-08-22T13:00:00",
          "2022-08-22T14:00:00",
          "2022-08-22T15:00:00",
          "2022-08-22T16:00:00",
          "2022-08-22T17:00:00",
          "2022-08-22T18:00:00",
          "2022-08-22T19:00:00",
          "2022-08-22T20:00:00",
          "2022-08-22T21:00:00",
          "2022-08-22T22:00:00",
          "2022-08-22T23:00:00",
          "2022-08-23T00:00:00",
          "2022-08-23T01:00:00",
          "2022-08-23T02:00:00",
          "2022-08-23T03:00:00",
          "2022-08-23T04:00:00",
          "2022-08-23T05:00:00",
          "2022-08-23T06:00:00",
          "2022-08-23T07:00:00",
          "2022-08-23T08:00:00",
          "2022-08-23T09:00:00",
          "2022-08-23T10:00:00",
          "2022-08-23T11:00:00",
          "2022-08-23T12:00:00",
          "2022-08-23T13:00:00",
          "2022-08-23T14:00:00",
          "2022-08-23T15:00:00",
          "2022-08-23T16:00:00",
          "2022-08-23T17:00:00",
          "2022-08-23T18:00:00",
          "2022-08-23T19:00:00",
          "2022-08-23T20:00:00",
          "2022-08-23T21:00:00",
          "2022-08-23T22:00:00",
          "2022-08-23T23:00:00",
          "2022-08-24T00:00:00"
         ],
         "xaxis": "x",
         "y": [
          2,
          1,
          2,
          0,
          0,
          0,
          1,
          7,
          7,
          5,
          2,
          8,
          4,
          2,
          4,
          3,
          3,
          5,
          8,
          5,
          4,
          4,
          7,
          4,
          1,
          3,
          3,
          0,
          1,
          0,
          1,
          4,
          9,
          4,
          1,
          2,
          3,
          0,
          4,
          3,
          5,
          3,
          3,
          6,
          3,
          4,
          9,
          7,
          7,
          9,
          7,
          2,
          1,
          0,
          2,
          5,
          5,
          4,
          3,
          3,
          2,
          4,
          5,
          5,
          9,
          7,
          10,
          6,
          10,
          12,
          12,
          21,
          25,
          23,
          38,
          23,
          10,
          0,
          3,
          1,
          2,
          1,
          3,
          3,
          5,
          7,
          4,
          7,
          3,
          3,
          10,
          9,
          8,
          7,
          14,
          20,
          34,
          25,
          21,
          15,
          7,
          4,
          2,
          0,
          1,
          0,
          2,
          7,
          5,
          4,
          9,
          6,
          8,
          4,
          9,
          4,
          5,
          2,
          1,
          0,
          1,
          2,
          0,
          0,
          0,
          0,
          3,
          4,
          7,
          6,
          2,
          1,
          1,
          1,
          2,
          6,
          5,
          2,
          5,
          4,
          2,
          1,
          1,
          2,
          0,
          0,
          0,
          0,
          1,
          1,
          2,
          2,
          8,
          6,
          1,
          1,
          4,
          2,
          4,
          3,
          3,
          2,
          4,
          7,
          8,
          2,
          3,
          3,
          4,
          2,
          0,
          0,
          0,
          0,
          2,
          3,
          10,
          9,
          2,
          4,
          7,
          4,
          4,
          6,
          4,
          3,
          5,
          5,
          2,
          4,
          6,
          4,
          3,
          2,
          0,
          0,
          0,
          0,
          3,
          4,
          7,
          8,
          6,
          1,
          8,
          1,
          3,
          3,
          3,
          8,
          10,
          6,
          4,
          9,
          11,
          15,
          8,
          8,
          5,
          3,
          2,
          1,
          0,
          2,
          8,
          6,
          6,
          3,
          3,
          4,
          5,
          4,
          3,
          7,
          4,
          18,
          3,
          5,
          8,
          17,
          39,
          46,
          25,
          24,
          4,
          1,
          1,
          0,
          2,
          1,
          6,
          6,
          6,
          15,
          4,
          7,
          4,
          12,
          7,
          5,
          9,
          12,
          5,
          15,
          25,
          32,
          26,
          10,
          7,
          2,
          0,
          0,
          3,
          1,
          4,
          4,
          4,
          8,
          4,
          3,
          4,
          3,
          4,
          5,
          3,
          5,
          2,
          4,
          1,
          0,
          0,
          0,
          0,
          0,
          3,
          1,
          9,
          4,
          1,
          1,
          5,
          2,
          4,
          1,
          3,
          4,
          7,
          4,
          4,
          3,
          2,
          1,
          3,
          2,
          1,
          0,
          1,
          0,
          2,
          7,
          10,
          4,
          5,
          2,
          7,
          6,
          4,
          6,
          5,
          5,
          3,
          4,
          3,
          7,
          9,
          3,
          5,
          3,
          1,
          3,
          0,
          0,
          2,
          2,
          11,
          8,
          2,
          2,
          1,
          1,
          2,
          0,
          5,
          1,
          6,
          2,
          1,
          2,
          3,
          3,
          9,
          3,
          1,
          0,
          0,
          0,
          3,
          6,
          7,
          3,
          3,
          3,
          5,
          6,
          4,
          3,
          4,
          7,
          8,
          0,
          2,
          6,
          8,
          15,
          14,
          8,
          7,
          2,
          1,
          1,
          1,
          3,
          6,
          4,
          4,
          4,
          2,
          8,
          9,
          8,
          4,
          7,
          8,
          5,
          4,
          6,
          11,
          24,
          21,
          32,
          38,
          31,
          7,
          2,
          3,
          1,
          1,
          2,
          1,
          4,
          6,
          3,
          9,
          4,
          1,
          11,
          4,
          6,
          5,
          7,
          10,
          23,
          34,
          34,
          41,
          31,
          5,
          0,
          1,
          3,
          2,
          2,
          2,
          0,
          6,
          3,
          5,
          4,
          2,
          4,
          10,
          4,
          2,
          2,
          4,
          1,
          0,
          0,
          0,
          0,
          0,
          1,
          3,
          1,
          4,
          2,
          5,
          4,
          2,
          0,
          4,
          5,
          0,
          2,
          4,
          2,
          2,
          8,
          4,
          1,
          2,
          1,
          1,
          0,
          3,
          0,
          2,
          3,
          6,
          4,
          4,
          3,
          6,
          5,
          4,
          2,
          7,
          3,
          1,
          2,
          2,
          1,
          3,
          4,
          1,
          0,
          0,
          1,
          0,
          1,
          2,
          2,
          8,
          8,
          2,
          1,
          1,
          4,
          2,
          1,
          2,
          6,
          4,
          2,
          3,
          6,
          8,
          10,
          2,
          2,
          0,
          2,
          1,
          2,
          2,
          1,
          8,
          8,
          1,
          0,
          3,
          0,
          5,
          2,
          6,
          4,
          4,
          8,
          5,
          6,
          5,
          8,
          9,
          5,
          8,
          0,
          0,
          1,
          3,
          4,
          2,
          4,
          1,
          3,
          3,
          2,
          5,
          5,
          2,
          5,
          10,
          11,
          5,
          6,
          7,
          22,
          34,
          34,
          37,
          27,
          5,
          2,
          0,
          3,
          3,
          1,
          5,
          5,
          5,
          4,
          5,
          8,
          5,
          6,
          8,
          4,
          7,
          11,
          9,
          21,
          34,
          30,
          21,
          9,
          6,
          3,
          2,
          1,
          1,
          2,
          4,
          1,
          4,
          8,
          2,
          6,
          4,
          2,
          3,
          2,
          3,
          2,
          1,
          5,
          1,
          0,
          0,
          0,
          0,
          0,
          3,
          1,
          4,
          2,
          7,
          3,
          2,
          0,
          4,
          2,
          3,
          2,
          2,
          2,
          1,
          2,
          3,
          3,
          1,
          0,
          0,
          1,
          0,
          1,
          0,
          1,
          6,
          8,
          5,
          3,
          2,
          3,
          1,
          1,
          4,
          7,
          5,
          2,
          4,
          1,
          7,
          8,
          2
         ],
         "yaxis": "y"
        },
        {
         "line": {
          "color": "green"
         },
         "marker": {
          "size": 10
         },
         "mode": "markers",
         "name": "actual value",
         "type": "scatter",
         "x": [
          "2022-08-24T00:00:00"
         ],
         "y": [
          2
         ]
        },
        {
         "line": {
          "color": "red"
         },
         "marker": {
          "size": 15,
          "symbol": "x"
         },
         "mode": "markers",
         "name": "prediction",
         "type": "scatter",
         "x": [
          "2022-08-24T00:00:00"
         ],
         "y": [
          22.85884286266575
         ]
        }
       ],
       "layout": {
        "legend": {
         "tracegroupgap": 0
        },
        "template": {
         "data": {
          "bar": [
           {
            "error_x": {
             "color": "#f2f5fa"
            },
            "error_y": {
             "color": "#f2f5fa"
            },
            "marker": {
             "line": {
              "color": "rgb(17,17,17)",
              "width": 0.5
             },
             "pattern": {
              "fillmode": "overlay",
              "size": 10,
              "solidity": 0.2
             }
            },
            "type": "bar"
           }
          ],
          "barpolar": [
           {
            "marker": {
             "line": {
              "color": "rgb(17,17,17)",
              "width": 0.5
             },
             "pattern": {
              "fillmode": "overlay",
              "size": 10,
              "solidity": 0.2
             }
            },
            "type": "barpolar"
           }
          ],
          "carpet": [
           {
            "aaxis": {
             "endlinecolor": "#A2B1C6",
             "gridcolor": "#506784",
             "linecolor": "#506784",
             "minorgridcolor": "#506784",
             "startlinecolor": "#A2B1C6"
            },
            "baxis": {
             "endlinecolor": "#A2B1C6",
             "gridcolor": "#506784",
             "linecolor": "#506784",
             "minorgridcolor": "#506784",
             "startlinecolor": "#A2B1C6"
            },
            "type": "carpet"
           }
          ],
          "choropleth": [
           {
            "colorbar": {
             "outlinewidth": 0,
             "ticks": ""
            },
            "type": "choropleth"
           }
          ],
          "contour": [
           {
            "colorbar": {
             "outlinewidth": 0,
             "ticks": ""
            },
            "colorscale": [
             [
              0,
              "#0d0887"
             ],
             [
              0.1111111111111111,
              "#46039f"
             ],
             [
              0.2222222222222222,
              "#7201a8"
             ],
             [
              0.3333333333333333,
              "#9c179e"
             ],
             [
              0.4444444444444444,
              "#bd3786"
             ],
             [
              0.5555555555555556,
              "#d8576b"
             ],
             [
              0.6666666666666666,
              "#ed7953"
             ],
             [
              0.7777777777777778,
              "#fb9f3a"
             ],
             [
              0.8888888888888888,
              "#fdca26"
             ],
             [
              1,
              "#f0f921"
             ]
            ],
            "type": "contour"
           }
          ],
          "contourcarpet": [
           {
            "colorbar": {
             "outlinewidth": 0,
             "ticks": ""
            },
            "type": "contourcarpet"
           }
          ],
          "heatmap": [
           {
            "colorbar": {
             "outlinewidth": 0,
             "ticks": ""
            },
            "colorscale": [
             [
              0,
              "#0d0887"
             ],
             [
              0.1111111111111111,
              "#46039f"
             ],
             [
              0.2222222222222222,
              "#7201a8"
             ],
             [
              0.3333333333333333,
              "#9c179e"
             ],
             [
              0.4444444444444444,
              "#bd3786"
             ],
             [
              0.5555555555555556,
              "#d8576b"
             ],
             [
              0.6666666666666666,
              "#ed7953"
             ],
             [
              0.7777777777777778,
              "#fb9f3a"
             ],
             [
              0.8888888888888888,
              "#fdca26"
             ],
             [
              1,
              "#f0f921"
             ]
            ],
            "type": "heatmap"
           }
          ],
          "heatmapgl": [
           {
            "colorbar": {
             "outlinewidth": 0,
             "ticks": ""
            },
            "colorscale": [
             [
              0,
              "#0d0887"
             ],
             [
              0.1111111111111111,
              "#46039f"
             ],
             [
              0.2222222222222222,
              "#7201a8"
             ],
             [
              0.3333333333333333,
              "#9c179e"
             ],
             [
              0.4444444444444444,
              "#bd3786"
             ],
             [
              0.5555555555555556,
              "#d8576b"
             ],
             [
              0.6666666666666666,
              "#ed7953"
             ],
             [
              0.7777777777777778,
              "#fb9f3a"
             ],
             [
              0.8888888888888888,
              "#fdca26"
             ],
             [
              1,
              "#f0f921"
             ]
            ],
            "type": "heatmapgl"
           }
          ],
          "histogram": [
           {
            "marker": {
             "pattern": {
              "fillmode": "overlay",
              "size": 10,
              "solidity": 0.2
             }
            },
            "type": "histogram"
           }
          ],
          "histogram2d": [
           {
            "colorbar": {
             "outlinewidth": 0,
             "ticks": ""
            },
            "colorscale": [
             [
              0,
              "#0d0887"
             ],
             [
              0.1111111111111111,
              "#46039f"
             ],
             [
              0.2222222222222222,
              "#7201a8"
             ],
             [
              0.3333333333333333,
              "#9c179e"
             ],
             [
              0.4444444444444444,
              "#bd3786"
             ],
             [
              0.5555555555555556,
              "#d8576b"
             ],
             [
              0.6666666666666666,
              "#ed7953"
             ],
             [
              0.7777777777777778,
              "#fb9f3a"
             ],
             [
              0.8888888888888888,
              "#fdca26"
             ],
             [
              1,
              "#f0f921"
             ]
            ],
            "type": "histogram2d"
           }
          ],
          "histogram2dcontour": [
           {
            "colorbar": {
             "outlinewidth": 0,
             "ticks": ""
            },
            "colorscale": [
             [
              0,
              "#0d0887"
             ],
             [
              0.1111111111111111,
              "#46039f"
             ],
             [
              0.2222222222222222,
              "#7201a8"
             ],
             [
              0.3333333333333333,
              "#9c179e"
             ],
             [
              0.4444444444444444,
              "#bd3786"
             ],
             [
              0.5555555555555556,
              "#d8576b"
             ],
             [
              0.6666666666666666,
              "#ed7953"
             ],
             [
              0.7777777777777778,
              "#fb9f3a"
             ],
             [
              0.8888888888888888,
              "#fdca26"
             ],
             [
              1,
              "#f0f921"
             ]
            ],
            "type": "histogram2dcontour"
           }
          ],
          "mesh3d": [
           {
            "colorbar": {
             "outlinewidth": 0,
             "ticks": ""
            },
            "type": "mesh3d"
           }
          ],
          "parcoords": [
           {
            "line": {
             "colorbar": {
              "outlinewidth": 0,
              "ticks": ""
             }
            },
            "type": "parcoords"
           }
          ],
          "pie": [
           {
            "automargin": true,
            "type": "pie"
           }
          ],
          "scatter": [
           {
            "marker": {
             "line": {
              "color": "#283442"
             }
            },
            "type": "scatter"
           }
          ],
          "scatter3d": [
           {
            "line": {
             "colorbar": {
              "outlinewidth": 0,
              "ticks": ""
             }
            },
            "marker": {
             "colorbar": {
              "outlinewidth": 0,
              "ticks": ""
             }
            },
            "type": "scatter3d"
           }
          ],
          "scattercarpet": [
           {
            "marker": {
             "colorbar": {
              "outlinewidth": 0,
              "ticks": ""
             }
            },
            "type": "scattercarpet"
           }
          ],
          "scattergeo": [
           {
            "marker": {
             "colorbar": {
              "outlinewidth": 0,
              "ticks": ""
             }
            },
            "type": "scattergeo"
           }
          ],
          "scattergl": [
           {
            "marker": {
             "line": {
              "color": "#283442"
             }
            },
            "type": "scattergl"
           }
          ],
          "scattermapbox": [
           {
            "marker": {
             "colorbar": {
              "outlinewidth": 0,
              "ticks": ""
             }
            },
            "type": "scattermapbox"
           }
          ],
          "scatterpolar": [
           {
            "marker": {
             "colorbar": {
              "outlinewidth": 0,
              "ticks": ""
             }
            },
            "type": "scatterpolar"
           }
          ],
          "scatterpolargl": [
           {
            "marker": {
             "colorbar": {
              "outlinewidth": 0,
              "ticks": ""
             }
            },
            "type": "scatterpolargl"
           }
          ],
          "scatterternary": [
           {
            "marker": {
             "colorbar": {
              "outlinewidth": 0,
              "ticks": ""
             }
            },
            "type": "scatterternary"
           }
          ],
          "surface": [
           {
            "colorbar": {
             "outlinewidth": 0,
             "ticks": ""
            },
            "colorscale": [
             [
              0,
              "#0d0887"
             ],
             [
              0.1111111111111111,
              "#46039f"
             ],
             [
              0.2222222222222222,
              "#7201a8"
             ],
             [
              0.3333333333333333,
              "#9c179e"
             ],
             [
              0.4444444444444444,
              "#bd3786"
             ],
             [
              0.5555555555555556,
              "#d8576b"
             ],
             [
              0.6666666666666666,
              "#ed7953"
             ],
             [
              0.7777777777777778,
              "#fb9f3a"
             ],
             [
              0.8888888888888888,
              "#fdca26"
             ],
             [
              1,
              "#f0f921"
             ]
            ],
            "type": "surface"
           }
          ],
          "table": [
           {
            "cells": {
             "fill": {
              "color": "#506784"
             },
             "line": {
              "color": "rgb(17,17,17)"
             }
            },
            "header": {
             "fill": {
              "color": "#2a3f5f"
             },
             "line": {
              "color": "rgb(17,17,17)"
             }
            },
            "type": "table"
           }
          ]
         },
         "layout": {
          "annotationdefaults": {
           "arrowcolor": "#f2f5fa",
           "arrowhead": 0,
           "arrowwidth": 1
          },
          "autotypenumbers": "strict",
          "coloraxis": {
           "colorbar": {
            "outlinewidth": 0,
            "ticks": ""
           }
          },
          "colorscale": {
           "diverging": [
            [
             0,
             "#8e0152"
            ],
            [
             0.1,
             "#c51b7d"
            ],
            [
             0.2,
             "#de77ae"
            ],
            [
             0.3,
             "#f1b6da"
            ],
            [
             0.4,
             "#fde0ef"
            ],
            [
             0.5,
             "#f7f7f7"
            ],
            [
             0.6,
             "#e6f5d0"
            ],
            [
             0.7,
             "#b8e186"
            ],
            [
             0.8,
             "#7fbc41"
            ],
            [
             0.9,
             "#4d9221"
            ],
            [
             1,
             "#276419"
            ]
           ],
           "sequential": [
            [
             0,
             "#0d0887"
            ],
            [
             0.1111111111111111,
             "#46039f"
            ],
            [
             0.2222222222222222,
             "#7201a8"
            ],
            [
             0.3333333333333333,
             "#9c179e"
            ],
            [
             0.4444444444444444,
             "#bd3786"
            ],
            [
             0.5555555555555556,
             "#d8576b"
            ],
            [
             0.6666666666666666,
             "#ed7953"
            ],
            [
             0.7777777777777778,
             "#fb9f3a"
            ],
            [
             0.8888888888888888,
             "#fdca26"
            ],
            [
             1,
             "#f0f921"
            ]
           ],
           "sequentialminus": [
            [
             0,
             "#0d0887"
            ],
            [
             0.1111111111111111,
             "#46039f"
            ],
            [
             0.2222222222222222,
             "#7201a8"
            ],
            [
             0.3333333333333333,
             "#9c179e"
            ],
            [
             0.4444444444444444,
             "#bd3786"
            ],
            [
             0.5555555555555556,
             "#d8576b"
            ],
            [
             0.6666666666666666,
             "#ed7953"
            ],
            [
             0.7777777777777778,
             "#fb9f3a"
            ],
            [
             0.8888888888888888,
             "#fdca26"
            ],
            [
             1,
             "#f0f921"
            ]
           ]
          },
          "colorway": [
           "#636efa",
           "#EF553B",
           "#00cc96",
           "#ab63fa",
           "#FFA15A",
           "#19d3f3",
           "#FF6692",
           "#B6E880",
           "#FF97FF",
           "#FECB52"
          ],
          "font": {
           "color": "#f2f5fa"
          },
          "geo": {
           "bgcolor": "rgb(17,17,17)",
           "lakecolor": "rgb(17,17,17)",
           "landcolor": "rgb(17,17,17)",
           "showlakes": true,
           "showland": true,
           "subunitcolor": "#506784"
          },
          "hoverlabel": {
           "align": "left"
          },
          "hovermode": "closest",
          "mapbox": {
           "style": "dark"
          },
          "paper_bgcolor": "rgb(17,17,17)",
          "plot_bgcolor": "rgb(17,17,17)",
          "polar": {
           "angularaxis": {
            "gridcolor": "#506784",
            "linecolor": "#506784",
            "ticks": ""
           },
           "bgcolor": "rgb(17,17,17)",
           "radialaxis": {
            "gridcolor": "#506784",
            "linecolor": "#506784",
            "ticks": ""
           }
          },
          "scene": {
           "xaxis": {
            "backgroundcolor": "rgb(17,17,17)",
            "gridcolor": "#506784",
            "gridwidth": 2,
            "linecolor": "#506784",
            "showbackground": true,
            "ticks": "",
            "zerolinecolor": "#C8D4E3"
           },
           "yaxis": {
            "backgroundcolor": "rgb(17,17,17)",
            "gridcolor": "#506784",
            "gridwidth": 2,
            "linecolor": "#506784",
            "showbackground": true,
            "ticks": "",
            "zerolinecolor": "#C8D4E3"
           },
           "zaxis": {
            "backgroundcolor": "rgb(17,17,17)",
            "gridcolor": "#506784",
            "gridwidth": 2,
            "linecolor": "#506784",
            "showbackground": true,
            "ticks": "",
            "zerolinecolor": "#C8D4E3"
           }
          },
          "shapedefaults": {
           "line": {
            "color": "#f2f5fa"
           }
          },
          "sliderdefaults": {
           "bgcolor": "#C8D4E3",
           "bordercolor": "rgb(17,17,17)",
           "borderwidth": 1,
           "tickwidth": 0
          },
          "ternary": {
           "aaxis": {
            "gridcolor": "#506784",
            "linecolor": "#506784",
            "ticks": ""
           },
           "baxis": {
            "gridcolor": "#506784",
            "linecolor": "#506784",
            "ticks": ""
           },
           "bgcolor": "rgb(17,17,17)",
           "caxis": {
            "gridcolor": "#506784",
            "linecolor": "#506784",
            "ticks": ""
           }
          },
          "title": {
           "x": 0.05
          },
          "updatemenudefaults": {
           "bgcolor": "#506784",
           "borderwidth": 0
          },
          "xaxis": {
           "automargin": true,
           "gridcolor": "#283442",
           "linecolor": "#506784",
           "ticks": "",
           "title": {
            "standoff": 15
           },
           "zerolinecolor": "#283442",
           "zerolinewidth": 2
          },
          "yaxis": {
           "automargin": true,
           "gridcolor": "#283442",
           "linecolor": "#506784",
           "ticks": "",
           "title": {
            "standoff": 15
           },
           "zerolinecolor": "#283442",
           "zerolinewidth": 2
          }
         }
        },
        "title": {
         "text": "Pick up hour=2022-08-24 00:00:00, location_id=4"
        },
        "xaxis": {
         "anchor": "y",
         "domain": [
          0,
          1
         ],
         "title": {
          "text": "x"
         }
        },
        "yaxis": {
         "anchor": "x",
         "domain": [
          0,
          1
         ],
         "title": {
          "text": "y"
         }
        }
       }
      }
     },
     "metadata": {},
     "output_type": "display_data"
    }
   ],
   "source": [
    "from plot import plot_one_sample\n",
    "\n",
    "plot_one_sample(\n",
    "    example_id=54,\n",
    "    features=X_test,\n",
    "    targets=y_test,\n",
    "    predictions=pd.Series(predictions)\n",
    ")"
   ]
  },
  {
   "cell_type": "code",
   "execution_count": 86,
   "metadata": {},
   "outputs": [
    {
     "data": {
      "application/vnd.plotly.v1+json": {
       "config": {
        "plotlyServerURL": "https://plot.ly"
       },
       "data": [
        {
         "hovertemplate": "x=%{x}<br>y=%{y}<extra></extra>",
         "legendgroup": "",
         "line": {
          "color": "#636efa",
          "dash": "solid"
         },
         "marker": {
          "symbol": "circle"
         },
         "mode": "markers+lines",
         "name": "",
         "orientation": "v",
         "showlegend": false,
         "type": "scatter",
         "x": [
          "2022-10-11T00:00:00",
          "2022-10-11T01:00:00",
          "2022-10-11T02:00:00",
          "2022-10-11T03:00:00",
          "2022-10-11T04:00:00",
          "2022-10-11T05:00:00",
          "2022-10-11T06:00:00",
          "2022-10-11T07:00:00",
          "2022-10-11T08:00:00",
          "2022-10-11T09:00:00",
          "2022-10-11T10:00:00",
          "2022-10-11T11:00:00",
          "2022-10-11T12:00:00",
          "2022-10-11T13:00:00",
          "2022-10-11T14:00:00",
          "2022-10-11T15:00:00",
          "2022-10-11T16:00:00",
          "2022-10-11T17:00:00",
          "2022-10-11T18:00:00",
          "2022-10-11T19:00:00",
          "2022-10-11T20:00:00",
          "2022-10-11T21:00:00",
          "2022-10-11T22:00:00",
          "2022-10-11T23:00:00",
          "2022-10-12T00:00:00",
          "2022-10-12T01:00:00",
          "2022-10-12T02:00:00",
          "2022-10-12T03:00:00",
          "2022-10-12T04:00:00",
          "2022-10-12T05:00:00",
          "2022-10-12T06:00:00",
          "2022-10-12T07:00:00",
          "2022-10-12T08:00:00",
          "2022-10-12T09:00:00",
          "2022-10-12T10:00:00",
          "2022-10-12T11:00:00",
          "2022-10-12T12:00:00",
          "2022-10-12T13:00:00",
          "2022-10-12T14:00:00",
          "2022-10-12T15:00:00",
          "2022-10-12T16:00:00",
          "2022-10-12T17:00:00",
          "2022-10-12T18:00:00",
          "2022-10-12T19:00:00",
          "2022-10-12T20:00:00",
          "2022-10-12T21:00:00",
          "2022-10-12T22:00:00",
          "2022-10-12T23:00:00",
          "2022-10-13T00:00:00",
          "2022-10-13T01:00:00",
          "2022-10-13T02:00:00",
          "2022-10-13T03:00:00",
          "2022-10-13T04:00:00",
          "2022-10-13T05:00:00",
          "2022-10-13T06:00:00",
          "2022-10-13T07:00:00",
          "2022-10-13T08:00:00",
          "2022-10-13T09:00:00",
          "2022-10-13T10:00:00",
          "2022-10-13T11:00:00",
          "2022-10-13T12:00:00",
          "2022-10-13T13:00:00",
          "2022-10-13T14:00:00",
          "2022-10-13T15:00:00",
          "2022-10-13T16:00:00",
          "2022-10-13T17:00:00",
          "2022-10-13T18:00:00",
          "2022-10-13T19:00:00",
          "2022-10-13T20:00:00",
          "2022-10-13T21:00:00",
          "2022-10-13T22:00:00",
          "2022-10-13T23:00:00",
          "2022-10-14T00:00:00",
          "2022-10-14T01:00:00",
          "2022-10-14T02:00:00",
          "2022-10-14T03:00:00",
          "2022-10-14T04:00:00",
          "2022-10-14T05:00:00",
          "2022-10-14T06:00:00",
          "2022-10-14T07:00:00",
          "2022-10-14T08:00:00",
          "2022-10-14T09:00:00",
          "2022-10-14T10:00:00",
          "2022-10-14T11:00:00",
          "2022-10-14T12:00:00",
          "2022-10-14T13:00:00",
          "2022-10-14T14:00:00",
          "2022-10-14T15:00:00",
          "2022-10-14T16:00:00",
          "2022-10-14T17:00:00",
          "2022-10-14T18:00:00",
          "2022-10-14T19:00:00",
          "2022-10-14T20:00:00",
          "2022-10-14T21:00:00",
          "2022-10-14T22:00:00",
          "2022-10-14T23:00:00",
          "2022-10-15T00:00:00",
          "2022-10-15T01:00:00",
          "2022-10-15T02:00:00",
          "2022-10-15T03:00:00",
          "2022-10-15T04:00:00",
          "2022-10-15T05:00:00",
          "2022-10-15T06:00:00",
          "2022-10-15T07:00:00",
          "2022-10-15T08:00:00",
          "2022-10-15T09:00:00",
          "2022-10-15T10:00:00",
          "2022-10-15T11:00:00",
          "2022-10-15T12:00:00",
          "2022-10-15T13:00:00",
          "2022-10-15T14:00:00",
          "2022-10-15T15:00:00",
          "2022-10-15T16:00:00",
          "2022-10-15T17:00:00",
          "2022-10-15T18:00:00",
          "2022-10-15T19:00:00",
          "2022-10-15T20:00:00",
          "2022-10-15T21:00:00",
          "2022-10-15T22:00:00",
          "2022-10-15T23:00:00",
          "2022-10-16T00:00:00",
          "2022-10-16T01:00:00",
          "2022-10-16T02:00:00",
          "2022-10-16T03:00:00",
          "2022-10-16T04:00:00",
          "2022-10-16T05:00:00",
          "2022-10-16T06:00:00",
          "2022-10-16T07:00:00",
          "2022-10-16T08:00:00",
          "2022-10-16T09:00:00",
          "2022-10-16T10:00:00",
          "2022-10-16T11:00:00",
          "2022-10-16T12:00:00",
          "2022-10-16T13:00:00",
          "2022-10-16T14:00:00",
          "2022-10-16T15:00:00",
          "2022-10-16T16:00:00",
          "2022-10-16T17:00:00",
          "2022-10-16T18:00:00",
          "2022-10-16T19:00:00",
          "2022-10-16T20:00:00",
          "2022-10-16T21:00:00",
          "2022-10-16T22:00:00",
          "2022-10-16T23:00:00",
          "2022-10-17T00:00:00",
          "2022-10-17T01:00:00",
          "2022-10-17T02:00:00",
          "2022-10-17T03:00:00",
          "2022-10-17T04:00:00",
          "2022-10-17T05:00:00",
          "2022-10-17T06:00:00",
          "2022-10-17T07:00:00",
          "2022-10-17T08:00:00",
          "2022-10-17T09:00:00",
          "2022-10-17T10:00:00",
          "2022-10-17T11:00:00",
          "2022-10-17T12:00:00",
          "2022-10-17T13:00:00",
          "2022-10-17T14:00:00",
          "2022-10-17T15:00:00",
          "2022-10-17T16:00:00",
          "2022-10-17T17:00:00",
          "2022-10-17T18:00:00",
          "2022-10-17T19:00:00",
          "2022-10-17T20:00:00",
          "2022-10-17T21:00:00",
          "2022-10-17T22:00:00",
          "2022-10-17T23:00:00",
          "2022-10-18T00:00:00",
          "2022-10-18T01:00:00",
          "2022-10-18T02:00:00",
          "2022-10-18T03:00:00",
          "2022-10-18T04:00:00",
          "2022-10-18T05:00:00",
          "2022-10-18T06:00:00",
          "2022-10-18T07:00:00",
          "2022-10-18T08:00:00",
          "2022-10-18T09:00:00",
          "2022-10-18T10:00:00",
          "2022-10-18T11:00:00",
          "2022-10-18T12:00:00",
          "2022-10-18T13:00:00",
          "2022-10-18T14:00:00",
          "2022-10-18T15:00:00",
          "2022-10-18T16:00:00",
          "2022-10-18T17:00:00",
          "2022-10-18T18:00:00",
          "2022-10-18T19:00:00",
          "2022-10-18T20:00:00",
          "2022-10-18T21:00:00",
          "2022-10-18T22:00:00",
          "2022-10-18T23:00:00",
          "2022-10-19T00:00:00",
          "2022-10-19T01:00:00",
          "2022-10-19T02:00:00",
          "2022-10-19T03:00:00",
          "2022-10-19T04:00:00",
          "2022-10-19T05:00:00",
          "2022-10-19T06:00:00",
          "2022-10-19T07:00:00",
          "2022-10-19T08:00:00",
          "2022-10-19T09:00:00",
          "2022-10-19T10:00:00",
          "2022-10-19T11:00:00",
          "2022-10-19T12:00:00",
          "2022-10-19T13:00:00",
          "2022-10-19T14:00:00",
          "2022-10-19T15:00:00",
          "2022-10-19T16:00:00",
          "2022-10-19T17:00:00",
          "2022-10-19T18:00:00",
          "2022-10-19T19:00:00",
          "2022-10-19T20:00:00",
          "2022-10-19T21:00:00",
          "2022-10-19T22:00:00",
          "2022-10-19T23:00:00",
          "2022-10-20T00:00:00",
          "2022-10-20T01:00:00",
          "2022-10-20T02:00:00",
          "2022-10-20T03:00:00",
          "2022-10-20T04:00:00",
          "2022-10-20T05:00:00",
          "2022-10-20T06:00:00",
          "2022-10-20T07:00:00",
          "2022-10-20T08:00:00",
          "2022-10-20T09:00:00",
          "2022-10-20T10:00:00",
          "2022-10-20T11:00:00",
          "2022-10-20T12:00:00",
          "2022-10-20T13:00:00",
          "2022-10-20T14:00:00",
          "2022-10-20T15:00:00",
          "2022-10-20T16:00:00",
          "2022-10-20T17:00:00",
          "2022-10-20T18:00:00",
          "2022-10-20T19:00:00",
          "2022-10-20T20:00:00",
          "2022-10-20T21:00:00",
          "2022-10-20T22:00:00",
          "2022-10-20T23:00:00",
          "2022-10-21T00:00:00",
          "2022-10-21T01:00:00",
          "2022-10-21T02:00:00",
          "2022-10-21T03:00:00",
          "2022-10-21T04:00:00",
          "2022-10-21T05:00:00",
          "2022-10-21T06:00:00",
          "2022-10-21T07:00:00",
          "2022-10-21T08:00:00",
          "2022-10-21T09:00:00",
          "2022-10-21T10:00:00",
          "2022-10-21T11:00:00",
          "2022-10-21T12:00:00",
          "2022-10-21T13:00:00",
          "2022-10-21T14:00:00",
          "2022-10-21T15:00:00",
          "2022-10-21T16:00:00",
          "2022-10-21T17:00:00",
          "2022-10-21T18:00:00",
          "2022-10-21T19:00:00",
          "2022-10-21T20:00:00",
          "2022-10-21T21:00:00",
          "2022-10-21T22:00:00",
          "2022-10-21T23:00:00",
          "2022-10-22T00:00:00",
          "2022-10-22T01:00:00",
          "2022-10-22T02:00:00",
          "2022-10-22T03:00:00",
          "2022-10-22T04:00:00",
          "2022-10-22T05:00:00",
          "2022-10-22T06:00:00",
          "2022-10-22T07:00:00",
          "2022-10-22T08:00:00",
          "2022-10-22T09:00:00",
          "2022-10-22T10:00:00",
          "2022-10-22T11:00:00",
          "2022-10-22T12:00:00",
          "2022-10-22T13:00:00",
          "2022-10-22T14:00:00",
          "2022-10-22T15:00:00",
          "2022-10-22T16:00:00",
          "2022-10-22T17:00:00",
          "2022-10-22T18:00:00",
          "2022-10-22T19:00:00",
          "2022-10-22T20:00:00",
          "2022-10-22T21:00:00",
          "2022-10-22T22:00:00",
          "2022-10-22T23:00:00",
          "2022-10-23T00:00:00",
          "2022-10-23T01:00:00",
          "2022-10-23T02:00:00",
          "2022-10-23T03:00:00",
          "2022-10-23T04:00:00",
          "2022-10-23T05:00:00",
          "2022-10-23T06:00:00",
          "2022-10-23T07:00:00",
          "2022-10-23T08:00:00",
          "2022-10-23T09:00:00",
          "2022-10-23T10:00:00",
          "2022-10-23T11:00:00",
          "2022-10-23T12:00:00",
          "2022-10-23T13:00:00",
          "2022-10-23T14:00:00",
          "2022-10-23T15:00:00",
          "2022-10-23T16:00:00",
          "2022-10-23T17:00:00",
          "2022-10-23T18:00:00",
          "2022-10-23T19:00:00",
          "2022-10-23T20:00:00",
          "2022-10-23T21:00:00",
          "2022-10-23T22:00:00",
          "2022-10-23T23:00:00",
          "2022-10-24T00:00:00",
          "2022-10-24T01:00:00",
          "2022-10-24T02:00:00",
          "2022-10-24T03:00:00",
          "2022-10-24T04:00:00",
          "2022-10-24T05:00:00",
          "2022-10-24T06:00:00",
          "2022-10-24T07:00:00",
          "2022-10-24T08:00:00",
          "2022-10-24T09:00:00",
          "2022-10-24T10:00:00",
          "2022-10-24T11:00:00",
          "2022-10-24T12:00:00",
          "2022-10-24T13:00:00",
          "2022-10-24T14:00:00",
          "2022-10-24T15:00:00",
          "2022-10-24T16:00:00",
          "2022-10-24T17:00:00",
          "2022-10-24T18:00:00",
          "2022-10-24T19:00:00",
          "2022-10-24T20:00:00",
          "2022-10-24T21:00:00",
          "2022-10-24T22:00:00",
          "2022-10-24T23:00:00",
          "2022-10-25T00:00:00",
          "2022-10-25T01:00:00",
          "2022-10-25T02:00:00",
          "2022-10-25T03:00:00",
          "2022-10-25T04:00:00",
          "2022-10-25T05:00:00",
          "2022-10-25T06:00:00",
          "2022-10-25T07:00:00",
          "2022-10-25T08:00:00",
          "2022-10-25T09:00:00",
          "2022-10-25T10:00:00",
          "2022-10-25T11:00:00",
          "2022-10-25T12:00:00",
          "2022-10-25T13:00:00",
          "2022-10-25T14:00:00",
          "2022-10-25T15:00:00",
          "2022-10-25T16:00:00",
          "2022-10-25T17:00:00",
          "2022-10-25T18:00:00",
          "2022-10-25T19:00:00",
          "2022-10-25T20:00:00",
          "2022-10-25T21:00:00",
          "2022-10-25T22:00:00",
          "2022-10-25T23:00:00",
          "2022-10-26T00:00:00",
          "2022-10-26T01:00:00",
          "2022-10-26T02:00:00",
          "2022-10-26T03:00:00",
          "2022-10-26T04:00:00",
          "2022-10-26T05:00:00",
          "2022-10-26T06:00:00",
          "2022-10-26T07:00:00",
          "2022-10-26T08:00:00",
          "2022-10-26T09:00:00",
          "2022-10-26T10:00:00",
          "2022-10-26T11:00:00",
          "2022-10-26T12:00:00",
          "2022-10-26T13:00:00",
          "2022-10-26T14:00:00",
          "2022-10-26T15:00:00",
          "2022-10-26T16:00:00",
          "2022-10-26T17:00:00",
          "2022-10-26T18:00:00",
          "2022-10-26T19:00:00",
          "2022-10-26T20:00:00",
          "2022-10-26T21:00:00",
          "2022-10-26T22:00:00",
          "2022-10-26T23:00:00",
          "2022-10-27T00:00:00",
          "2022-10-27T01:00:00",
          "2022-10-27T02:00:00",
          "2022-10-27T03:00:00",
          "2022-10-27T04:00:00",
          "2022-10-27T05:00:00",
          "2022-10-27T06:00:00",
          "2022-10-27T07:00:00",
          "2022-10-27T08:00:00",
          "2022-10-27T09:00:00",
          "2022-10-27T10:00:00",
          "2022-10-27T11:00:00",
          "2022-10-27T12:00:00",
          "2022-10-27T13:00:00",
          "2022-10-27T14:00:00",
          "2022-10-27T15:00:00",
          "2022-10-27T16:00:00",
          "2022-10-27T17:00:00",
          "2022-10-27T18:00:00",
          "2022-10-27T19:00:00",
          "2022-10-27T20:00:00",
          "2022-10-27T21:00:00",
          "2022-10-27T22:00:00",
          "2022-10-27T23:00:00",
          "2022-10-28T00:00:00",
          "2022-10-28T01:00:00",
          "2022-10-28T02:00:00",
          "2022-10-28T03:00:00",
          "2022-10-28T04:00:00",
          "2022-10-28T05:00:00",
          "2022-10-28T06:00:00",
          "2022-10-28T07:00:00",
          "2022-10-28T08:00:00",
          "2022-10-28T09:00:00",
          "2022-10-28T10:00:00",
          "2022-10-28T11:00:00",
          "2022-10-28T12:00:00",
          "2022-10-28T13:00:00",
          "2022-10-28T14:00:00",
          "2022-10-28T15:00:00",
          "2022-10-28T16:00:00",
          "2022-10-28T17:00:00",
          "2022-10-28T18:00:00",
          "2022-10-28T19:00:00",
          "2022-10-28T20:00:00",
          "2022-10-28T21:00:00",
          "2022-10-28T22:00:00",
          "2022-10-28T23:00:00",
          "2022-10-29T00:00:00",
          "2022-10-29T01:00:00",
          "2022-10-29T02:00:00",
          "2022-10-29T03:00:00",
          "2022-10-29T04:00:00",
          "2022-10-29T05:00:00",
          "2022-10-29T06:00:00",
          "2022-10-29T07:00:00",
          "2022-10-29T08:00:00",
          "2022-10-29T09:00:00",
          "2022-10-29T10:00:00",
          "2022-10-29T11:00:00",
          "2022-10-29T12:00:00",
          "2022-10-29T13:00:00",
          "2022-10-29T14:00:00",
          "2022-10-29T15:00:00",
          "2022-10-29T16:00:00",
          "2022-10-29T17:00:00",
          "2022-10-29T18:00:00",
          "2022-10-29T19:00:00",
          "2022-10-29T20:00:00",
          "2022-10-29T21:00:00",
          "2022-10-29T22:00:00",
          "2022-10-29T23:00:00",
          "2022-10-30T00:00:00",
          "2022-10-30T01:00:00",
          "2022-10-30T02:00:00",
          "2022-10-30T03:00:00",
          "2022-10-30T04:00:00",
          "2022-10-30T05:00:00",
          "2022-10-30T06:00:00",
          "2022-10-30T07:00:00",
          "2022-10-30T08:00:00",
          "2022-10-30T09:00:00",
          "2022-10-30T10:00:00",
          "2022-10-30T11:00:00",
          "2022-10-30T12:00:00",
          "2022-10-30T13:00:00",
          "2022-10-30T14:00:00",
          "2022-10-30T15:00:00",
          "2022-10-30T16:00:00",
          "2022-10-30T17:00:00",
          "2022-10-30T18:00:00",
          "2022-10-30T19:00:00",
          "2022-10-30T20:00:00",
          "2022-10-30T21:00:00",
          "2022-10-30T22:00:00",
          "2022-10-30T23:00:00",
          "2022-10-31T00:00:00",
          "2022-10-31T01:00:00",
          "2022-10-31T02:00:00",
          "2022-10-31T03:00:00",
          "2022-10-31T04:00:00",
          "2022-10-31T05:00:00",
          "2022-10-31T06:00:00",
          "2022-10-31T07:00:00",
          "2022-10-31T08:00:00",
          "2022-10-31T09:00:00",
          "2022-10-31T10:00:00",
          "2022-10-31T11:00:00",
          "2022-10-31T12:00:00",
          "2022-10-31T13:00:00",
          "2022-10-31T14:00:00",
          "2022-10-31T15:00:00",
          "2022-10-31T16:00:00",
          "2022-10-31T17:00:00",
          "2022-10-31T18:00:00",
          "2022-10-31T19:00:00",
          "2022-10-31T20:00:00",
          "2022-10-31T21:00:00",
          "2022-10-31T22:00:00",
          "2022-10-31T23:00:00",
          "2022-11-01T00:00:00",
          "2022-11-01T01:00:00",
          "2022-11-01T02:00:00",
          "2022-11-01T03:00:00",
          "2022-11-01T04:00:00",
          "2022-11-01T05:00:00",
          "2022-11-01T06:00:00",
          "2022-11-01T07:00:00",
          "2022-11-01T08:00:00",
          "2022-11-01T09:00:00",
          "2022-11-01T10:00:00",
          "2022-11-01T11:00:00",
          "2022-11-01T12:00:00",
          "2022-11-01T13:00:00",
          "2022-11-01T14:00:00",
          "2022-11-01T15:00:00",
          "2022-11-01T16:00:00",
          "2022-11-01T17:00:00",
          "2022-11-01T18:00:00",
          "2022-11-01T19:00:00",
          "2022-11-01T20:00:00",
          "2022-11-01T21:00:00",
          "2022-11-01T22:00:00",
          "2022-11-01T23:00:00",
          "2022-11-02T00:00:00",
          "2022-11-02T01:00:00",
          "2022-11-02T02:00:00",
          "2022-11-02T03:00:00",
          "2022-11-02T04:00:00",
          "2022-11-02T05:00:00",
          "2022-11-02T06:00:00",
          "2022-11-02T07:00:00",
          "2022-11-02T08:00:00",
          "2022-11-02T09:00:00",
          "2022-11-02T10:00:00",
          "2022-11-02T11:00:00",
          "2022-11-02T12:00:00",
          "2022-11-02T13:00:00",
          "2022-11-02T14:00:00",
          "2022-11-02T15:00:00",
          "2022-11-02T16:00:00",
          "2022-11-02T17:00:00",
          "2022-11-02T18:00:00",
          "2022-11-02T19:00:00",
          "2022-11-02T20:00:00",
          "2022-11-02T21:00:00",
          "2022-11-02T22:00:00",
          "2022-11-02T23:00:00",
          "2022-11-03T00:00:00",
          "2022-11-03T01:00:00",
          "2022-11-03T02:00:00",
          "2022-11-03T03:00:00",
          "2022-11-03T04:00:00",
          "2022-11-03T05:00:00",
          "2022-11-03T06:00:00",
          "2022-11-03T07:00:00",
          "2022-11-03T08:00:00",
          "2022-11-03T09:00:00",
          "2022-11-03T10:00:00",
          "2022-11-03T11:00:00",
          "2022-11-03T12:00:00",
          "2022-11-03T13:00:00",
          "2022-11-03T14:00:00",
          "2022-11-03T15:00:00",
          "2022-11-03T16:00:00",
          "2022-11-03T17:00:00",
          "2022-11-03T18:00:00",
          "2022-11-03T19:00:00",
          "2022-11-03T20:00:00",
          "2022-11-03T21:00:00",
          "2022-11-03T22:00:00",
          "2022-11-03T23:00:00",
          "2022-11-04T00:00:00",
          "2022-11-04T01:00:00",
          "2022-11-04T02:00:00",
          "2022-11-04T03:00:00",
          "2022-11-04T04:00:00",
          "2022-11-04T05:00:00",
          "2022-11-04T06:00:00",
          "2022-11-04T07:00:00",
          "2022-11-04T08:00:00",
          "2022-11-04T09:00:00",
          "2022-11-04T10:00:00",
          "2022-11-04T11:00:00",
          "2022-11-04T12:00:00",
          "2022-11-04T13:00:00",
          "2022-11-04T14:00:00",
          "2022-11-04T15:00:00",
          "2022-11-04T16:00:00",
          "2022-11-04T17:00:00",
          "2022-11-04T18:00:00",
          "2022-11-04T19:00:00",
          "2022-11-04T20:00:00",
          "2022-11-04T21:00:00",
          "2022-11-04T22:00:00",
          "2022-11-04T23:00:00",
          "2022-11-05T00:00:00",
          "2022-11-05T01:00:00",
          "2022-11-05T02:00:00",
          "2022-11-05T03:00:00",
          "2022-11-05T04:00:00",
          "2022-11-05T05:00:00",
          "2022-11-05T06:00:00",
          "2022-11-05T07:00:00",
          "2022-11-05T08:00:00",
          "2022-11-05T09:00:00",
          "2022-11-05T10:00:00",
          "2022-11-05T11:00:00",
          "2022-11-05T12:00:00",
          "2022-11-05T13:00:00",
          "2022-11-05T14:00:00",
          "2022-11-05T15:00:00",
          "2022-11-05T16:00:00",
          "2022-11-05T17:00:00",
          "2022-11-05T18:00:00",
          "2022-11-05T19:00:00",
          "2022-11-05T20:00:00",
          "2022-11-05T21:00:00",
          "2022-11-05T22:00:00",
          "2022-11-05T23:00:00",
          "2022-11-06T00:00:00",
          "2022-11-06T01:00:00",
          "2022-11-06T02:00:00",
          "2022-11-06T03:00:00",
          "2022-11-06T04:00:00",
          "2022-11-06T05:00:00",
          "2022-11-06T06:00:00",
          "2022-11-06T07:00:00",
          "2022-11-06T08:00:00",
          "2022-11-06T09:00:00",
          "2022-11-06T10:00:00",
          "2022-11-06T11:00:00",
          "2022-11-06T12:00:00",
          "2022-11-06T13:00:00",
          "2022-11-06T14:00:00",
          "2022-11-06T15:00:00",
          "2022-11-06T16:00:00",
          "2022-11-06T17:00:00",
          "2022-11-06T18:00:00",
          "2022-11-06T19:00:00",
          "2022-11-06T20:00:00",
          "2022-11-06T21:00:00",
          "2022-11-06T22:00:00",
          "2022-11-06T23:00:00",
          "2022-11-07T00:00:00",
          "2022-11-07T01:00:00",
          "2022-11-07T02:00:00",
          "2022-11-07T03:00:00",
          "2022-11-07T04:00:00",
          "2022-11-07T05:00:00",
          "2022-11-07T06:00:00",
          "2022-11-07T07:00:00",
          "2022-11-07T08:00:00",
          "2022-11-07T09:00:00",
          "2022-11-07T10:00:00",
          "2022-11-07T11:00:00",
          "2022-11-07T12:00:00",
          "2022-11-07T13:00:00",
          "2022-11-07T14:00:00",
          "2022-11-07T15:00:00",
          "2022-11-07T16:00:00",
          "2022-11-07T17:00:00",
          "2022-11-07T18:00:00",
          "2022-11-07T19:00:00",
          "2022-11-07T20:00:00",
          "2022-11-07T21:00:00",
          "2022-11-07T22:00:00",
          "2022-11-07T23:00:00",
          "2022-11-08T00:00:00"
         ],
         "xaxis": "x",
         "y": [
          2,
          0,
          2,
          0,
          0,
          0,
          2,
          3,
          11,
          4,
          4,
          5,
          1,
          3,
          3,
          5,
          2,
          2,
          4,
          2,
          4,
          3,
          3,
          6,
          2,
          1,
          2,
          0,
          0,
          1,
          2,
          7,
          11,
          5,
          1,
          1,
          6,
          2,
          3,
          2,
          3,
          4,
          7,
          4,
          4,
          4,
          7,
          5,
          2,
          4,
          1,
          4,
          1,
          1,
          3,
          6,
          10,
          7,
          4,
          5,
          6,
          4,
          3,
          6,
          6,
          9,
          3,
          14,
          8,
          9,
          14,
          5,
          12,
          10,
          5,
          2,
          1,
          0,
          6,
          5,
          5,
          8,
          8,
          6,
          4,
          4,
          5,
          2,
          5,
          11,
          12,
          14,
          12,
          11,
          15,
          19,
          34,
          38,
          34,
          27,
          14,
          1,
          2,
          4,
          2,
          0,
          9,
          9,
          7,
          12,
          6,
          10,
          10,
          13,
          12,
          9,
          5,
          6,
          22,
          23,
          31,
          43,
          42,
          23,
          7,
          2,
          1,
          3,
          3,
          1,
          9,
          2,
          2,
          6,
          10,
          2,
          2,
          3,
          3,
          11,
          3,
          4,
          3,
          4,
          4,
          1,
          3,
          0,
          1,
          1,
          5,
          5,
          10,
          2,
          4,
          6,
          3,
          7,
          4,
          1,
          1,
          7,
          2,
          6,
          4,
          6,
          5,
          6,
          3,
          0,
          5,
          0,
          1,
          0,
          4,
          4,
          10,
          3,
          2,
          2,
          3,
          2,
          1,
          0,
          1,
          6,
          6,
          4,
          9,
          9,
          4,
          1,
          3,
          0,
          0,
          0,
          1,
          0,
          5,
          3,
          9,
          6,
          3,
          4,
          2,
          4,
          2,
          2,
          2,
          6,
          13,
          6,
          0,
          3,
          11,
          8,
          5,
          3,
          0,
          2,
          0,
          3,
          5,
          6,
          7,
          9,
          5,
          4,
          1,
          2,
          3,
          3,
          2,
          5,
          5,
          6,
          5,
          9,
          4,
          12,
          14,
          7,
          11,
          4,
          1,
          0,
          4,
          5,
          2,
          4,
          7,
          4,
          3,
          3,
          5,
          4,
          7,
          3,
          4,
          11,
          12,
          7,
          16,
          19,
          40,
          39,
          44,
          26,
          6,
          0,
          4,
          1,
          1,
          4,
          2,
          14,
          7,
          5,
          7,
          10,
          6,
          9,
          10,
          10,
          9,
          14,
          9,
          24,
          41,
          38,
          48,
          25,
          11,
          0,
          3,
          1,
          2,
          1,
          2,
          4,
          6,
          3,
          6,
          2,
          7,
          4,
          3,
          4,
          5,
          2,
          3,
          0,
          4,
          1,
          0,
          0,
          1,
          1,
          2,
          4,
          12,
          8,
          2,
          3,
          4,
          3,
          0,
          2,
          2,
          5,
          7,
          3,
          1,
          4,
          3,
          5,
          5,
          1,
          1,
          0,
          0,
          1,
          3,
          4,
          3,
          5,
          4,
          7,
          2,
          4,
          6,
          3,
          8,
          2,
          3,
          7,
          3,
          6,
          3,
          6,
          8,
          3,
          0,
          0,
          0,
          1,
          2,
          8,
          6,
          6,
          5,
          3,
          2,
          1,
          4,
          2,
          0,
          3,
          3,
          6,
          5,
          3,
          6,
          9,
          7,
          3,
          2,
          1,
          1,
          1,
          2,
          2,
          7,
          4,
          6,
          3,
          3,
          1,
          3,
          3,
          3,
          5,
          10,
          4,
          6,
          8,
          4,
          11,
          18,
          12,
          14,
          3,
          2,
          0,
          3,
          8,
          7,
          5,
          4,
          7,
          3,
          7,
          5,
          6,
          5,
          7,
          7,
          9,
          16,
          17,
          20,
          22,
          48,
          40,
          51,
          19,
          7,
          3,
          1,
          1,
          5,
          3,
          6,
          3,
          1,
          4,
          3,
          8,
          5,
          11,
          17,
          20,
          9,
          25,
          23,
          34,
          35,
          51,
          43,
          33,
          10,
          2,
          2,
          1,
          0,
          7,
          5,
          11,
          8,
          7,
          7,
          7,
          7,
          7,
          7,
          4,
          3,
          3,
          1,
          2,
          4,
          0,
          1,
          1,
          3,
          0,
          2,
          4,
          6,
          6,
          3,
          3,
          1,
          4,
          1,
          1,
          3,
          2,
          6,
          3,
          1,
          2,
          5,
          8,
          7,
          9,
          3,
          2,
          3,
          0,
          4,
          2,
          5,
          6,
          3,
          4,
          1,
          3,
          3,
          3,
          4,
          5,
          1,
          6,
          4,
          4,
          2,
          2,
          7,
          5,
          0,
          0,
          1,
          0,
          4,
          2,
          11,
          7,
          6,
          3,
          3,
          3,
          3,
          8,
          2,
          1,
          6,
          1,
          1,
          2,
          4,
          1,
          3,
          2,
          2,
          0,
          0,
          1,
          3,
          4,
          8,
          9,
          1,
          4,
          5,
          3,
          1,
          2,
          3,
          3,
          4,
          7,
          6,
          5,
          5,
          9,
          12,
          6,
          3,
          3,
          2,
          2,
          2,
          7,
          7,
          7,
          3,
          3,
          8,
          3,
          4,
          4,
          7,
          6,
          11,
          11,
          16,
          12,
          6,
          16,
          28,
          41,
          56,
          40,
          10,
          1,
          0,
          2,
          2,
          1,
          4,
          8,
          2,
          2,
          6,
          5,
          9,
          9,
          9,
          10,
          5,
          10,
          13,
          31,
          29,
          74,
          28,
          13,
          1,
          0,
          1,
          3,
          0,
          2,
          6,
          6,
          7,
          5,
          2,
          6,
          4,
          6,
          7,
          9,
          2,
          1,
          4,
          4,
          1,
          2,
          1,
          0,
          0,
          0,
          2,
          1,
          6,
          5,
          1,
          2,
          2,
          2,
          3,
          2,
          4,
          5,
          4,
          7,
          1,
          0,
          4,
          9,
          2
         ],
         "yaxis": "y"
        },
        {
         "line": {
          "color": "green"
         },
         "marker": {
          "size": 10
         },
         "mode": "markers",
         "name": "actual value",
         "type": "scatter",
         "x": [
          "2022-11-08T00:00:00"
         ],
         "y": [
          2
         ]
        },
        {
         "line": {
          "color": "red"
         },
         "marker": {
          "size": 15,
          "symbol": "x"
         },
         "mode": "markers",
         "name": "prediction",
         "type": "scatter",
         "x": [
          "2022-11-08T00:00:00"
         ],
         "y": [
          5.702899597599783
         ]
        }
       ],
       "layout": {
        "legend": {
         "tracegroupgap": 0
        },
        "template": {
         "data": {
          "bar": [
           {
            "error_x": {
             "color": "#f2f5fa"
            },
            "error_y": {
             "color": "#f2f5fa"
            },
            "marker": {
             "line": {
              "color": "rgb(17,17,17)",
              "width": 0.5
             },
             "pattern": {
              "fillmode": "overlay",
              "size": 10,
              "solidity": 0.2
             }
            },
            "type": "bar"
           }
          ],
          "barpolar": [
           {
            "marker": {
             "line": {
              "color": "rgb(17,17,17)",
              "width": 0.5
             },
             "pattern": {
              "fillmode": "overlay",
              "size": 10,
              "solidity": 0.2
             }
            },
            "type": "barpolar"
           }
          ],
          "carpet": [
           {
            "aaxis": {
             "endlinecolor": "#A2B1C6",
             "gridcolor": "#506784",
             "linecolor": "#506784",
             "minorgridcolor": "#506784",
             "startlinecolor": "#A2B1C6"
            },
            "baxis": {
             "endlinecolor": "#A2B1C6",
             "gridcolor": "#506784",
             "linecolor": "#506784",
             "minorgridcolor": "#506784",
             "startlinecolor": "#A2B1C6"
            },
            "type": "carpet"
           }
          ],
          "choropleth": [
           {
            "colorbar": {
             "outlinewidth": 0,
             "ticks": ""
            },
            "type": "choropleth"
           }
          ],
          "contour": [
           {
            "colorbar": {
             "outlinewidth": 0,
             "ticks": ""
            },
            "colorscale": [
             [
              0,
              "#0d0887"
             ],
             [
              0.1111111111111111,
              "#46039f"
             ],
             [
              0.2222222222222222,
              "#7201a8"
             ],
             [
              0.3333333333333333,
              "#9c179e"
             ],
             [
              0.4444444444444444,
              "#bd3786"
             ],
             [
              0.5555555555555556,
              "#d8576b"
             ],
             [
              0.6666666666666666,
              "#ed7953"
             ],
             [
              0.7777777777777778,
              "#fb9f3a"
             ],
             [
              0.8888888888888888,
              "#fdca26"
             ],
             [
              1,
              "#f0f921"
             ]
            ],
            "type": "contour"
           }
          ],
          "contourcarpet": [
           {
            "colorbar": {
             "outlinewidth": 0,
             "ticks": ""
            },
            "type": "contourcarpet"
           }
          ],
          "heatmap": [
           {
            "colorbar": {
             "outlinewidth": 0,
             "ticks": ""
            },
            "colorscale": [
             [
              0,
              "#0d0887"
             ],
             [
              0.1111111111111111,
              "#46039f"
             ],
             [
              0.2222222222222222,
              "#7201a8"
             ],
             [
              0.3333333333333333,
              "#9c179e"
             ],
             [
              0.4444444444444444,
              "#bd3786"
             ],
             [
              0.5555555555555556,
              "#d8576b"
             ],
             [
              0.6666666666666666,
              "#ed7953"
             ],
             [
              0.7777777777777778,
              "#fb9f3a"
             ],
             [
              0.8888888888888888,
              "#fdca26"
             ],
             [
              1,
              "#f0f921"
             ]
            ],
            "type": "heatmap"
           }
          ],
          "heatmapgl": [
           {
            "colorbar": {
             "outlinewidth": 0,
             "ticks": ""
            },
            "colorscale": [
             [
              0,
              "#0d0887"
             ],
             [
              0.1111111111111111,
              "#46039f"
             ],
             [
              0.2222222222222222,
              "#7201a8"
             ],
             [
              0.3333333333333333,
              "#9c179e"
             ],
             [
              0.4444444444444444,
              "#bd3786"
             ],
             [
              0.5555555555555556,
              "#d8576b"
             ],
             [
              0.6666666666666666,
              "#ed7953"
             ],
             [
              0.7777777777777778,
              "#fb9f3a"
             ],
             [
              0.8888888888888888,
              "#fdca26"
             ],
             [
              1,
              "#f0f921"
             ]
            ],
            "type": "heatmapgl"
           }
          ],
          "histogram": [
           {
            "marker": {
             "pattern": {
              "fillmode": "overlay",
              "size": 10,
              "solidity": 0.2
             }
            },
            "type": "histogram"
           }
          ],
          "histogram2d": [
           {
            "colorbar": {
             "outlinewidth": 0,
             "ticks": ""
            },
            "colorscale": [
             [
              0,
              "#0d0887"
             ],
             [
              0.1111111111111111,
              "#46039f"
             ],
             [
              0.2222222222222222,
              "#7201a8"
             ],
             [
              0.3333333333333333,
              "#9c179e"
             ],
             [
              0.4444444444444444,
              "#bd3786"
             ],
             [
              0.5555555555555556,
              "#d8576b"
             ],
             [
              0.6666666666666666,
              "#ed7953"
             ],
             [
              0.7777777777777778,
              "#fb9f3a"
             ],
             [
              0.8888888888888888,
              "#fdca26"
             ],
             [
              1,
              "#f0f921"
             ]
            ],
            "type": "histogram2d"
           }
          ],
          "histogram2dcontour": [
           {
            "colorbar": {
             "outlinewidth": 0,
             "ticks": ""
            },
            "colorscale": [
             [
              0,
              "#0d0887"
             ],
             [
              0.1111111111111111,
              "#46039f"
             ],
             [
              0.2222222222222222,
              "#7201a8"
             ],
             [
              0.3333333333333333,
              "#9c179e"
             ],
             [
              0.4444444444444444,
              "#bd3786"
             ],
             [
              0.5555555555555556,
              "#d8576b"
             ],
             [
              0.6666666666666666,
              "#ed7953"
             ],
             [
              0.7777777777777778,
              "#fb9f3a"
             ],
             [
              0.8888888888888888,
              "#fdca26"
             ],
             [
              1,
              "#f0f921"
             ]
            ],
            "type": "histogram2dcontour"
           }
          ],
          "mesh3d": [
           {
            "colorbar": {
             "outlinewidth": 0,
             "ticks": ""
            },
            "type": "mesh3d"
           }
          ],
          "parcoords": [
           {
            "line": {
             "colorbar": {
              "outlinewidth": 0,
              "ticks": ""
             }
            },
            "type": "parcoords"
           }
          ],
          "pie": [
           {
            "automargin": true,
            "type": "pie"
           }
          ],
          "scatter": [
           {
            "marker": {
             "line": {
              "color": "#283442"
             }
            },
            "type": "scatter"
           }
          ],
          "scatter3d": [
           {
            "line": {
             "colorbar": {
              "outlinewidth": 0,
              "ticks": ""
             }
            },
            "marker": {
             "colorbar": {
              "outlinewidth": 0,
              "ticks": ""
             }
            },
            "type": "scatter3d"
           }
          ],
          "scattercarpet": [
           {
            "marker": {
             "colorbar": {
              "outlinewidth": 0,
              "ticks": ""
             }
            },
            "type": "scattercarpet"
           }
          ],
          "scattergeo": [
           {
            "marker": {
             "colorbar": {
              "outlinewidth": 0,
              "ticks": ""
             }
            },
            "type": "scattergeo"
           }
          ],
          "scattergl": [
           {
            "marker": {
             "line": {
              "color": "#283442"
             }
            },
            "type": "scattergl"
           }
          ],
          "scattermapbox": [
           {
            "marker": {
             "colorbar": {
              "outlinewidth": 0,
              "ticks": ""
             }
            },
            "type": "scattermapbox"
           }
          ],
          "scatterpolar": [
           {
            "marker": {
             "colorbar": {
              "outlinewidth": 0,
              "ticks": ""
             }
            },
            "type": "scatterpolar"
           }
          ],
          "scatterpolargl": [
           {
            "marker": {
             "colorbar": {
              "outlinewidth": 0,
              "ticks": ""
             }
            },
            "type": "scatterpolargl"
           }
          ],
          "scatterternary": [
           {
            "marker": {
             "colorbar": {
              "outlinewidth": 0,
              "ticks": ""
             }
            },
            "type": "scatterternary"
           }
          ],
          "surface": [
           {
            "colorbar": {
             "outlinewidth": 0,
             "ticks": ""
            },
            "colorscale": [
             [
              0,
              "#0d0887"
             ],
             [
              0.1111111111111111,
              "#46039f"
             ],
             [
              0.2222222222222222,
              "#7201a8"
             ],
             [
              0.3333333333333333,
              "#9c179e"
             ],
             [
              0.4444444444444444,
              "#bd3786"
             ],
             [
              0.5555555555555556,
              "#d8576b"
             ],
             [
              0.6666666666666666,
              "#ed7953"
             ],
             [
              0.7777777777777778,
              "#fb9f3a"
             ],
             [
              0.8888888888888888,
              "#fdca26"
             ],
             [
              1,
              "#f0f921"
             ]
            ],
            "type": "surface"
           }
          ],
          "table": [
           {
            "cells": {
             "fill": {
              "color": "#506784"
             },
             "line": {
              "color": "rgb(17,17,17)"
             }
            },
            "header": {
             "fill": {
              "color": "#2a3f5f"
             },
             "line": {
              "color": "rgb(17,17,17)"
             }
            },
            "type": "table"
           }
          ]
         },
         "layout": {
          "annotationdefaults": {
           "arrowcolor": "#f2f5fa",
           "arrowhead": 0,
           "arrowwidth": 1
          },
          "autotypenumbers": "strict",
          "coloraxis": {
           "colorbar": {
            "outlinewidth": 0,
            "ticks": ""
           }
          },
          "colorscale": {
           "diverging": [
            [
             0,
             "#8e0152"
            ],
            [
             0.1,
             "#c51b7d"
            ],
            [
             0.2,
             "#de77ae"
            ],
            [
             0.3,
             "#f1b6da"
            ],
            [
             0.4,
             "#fde0ef"
            ],
            [
             0.5,
             "#f7f7f7"
            ],
            [
             0.6,
             "#e6f5d0"
            ],
            [
             0.7,
             "#b8e186"
            ],
            [
             0.8,
             "#7fbc41"
            ],
            [
             0.9,
             "#4d9221"
            ],
            [
             1,
             "#276419"
            ]
           ],
           "sequential": [
            [
             0,
             "#0d0887"
            ],
            [
             0.1111111111111111,
             "#46039f"
            ],
            [
             0.2222222222222222,
             "#7201a8"
            ],
            [
             0.3333333333333333,
             "#9c179e"
            ],
            [
             0.4444444444444444,
             "#bd3786"
            ],
            [
             0.5555555555555556,
             "#d8576b"
            ],
            [
             0.6666666666666666,
             "#ed7953"
            ],
            [
             0.7777777777777778,
             "#fb9f3a"
            ],
            [
             0.8888888888888888,
             "#fdca26"
            ],
            [
             1,
             "#f0f921"
            ]
           ],
           "sequentialminus": [
            [
             0,
             "#0d0887"
            ],
            [
             0.1111111111111111,
             "#46039f"
            ],
            [
             0.2222222222222222,
             "#7201a8"
            ],
            [
             0.3333333333333333,
             "#9c179e"
            ],
            [
             0.4444444444444444,
             "#bd3786"
            ],
            [
             0.5555555555555556,
             "#d8576b"
            ],
            [
             0.6666666666666666,
             "#ed7953"
            ],
            [
             0.7777777777777778,
             "#fb9f3a"
            ],
            [
             0.8888888888888888,
             "#fdca26"
            ],
            [
             1,
             "#f0f921"
            ]
           ]
          },
          "colorway": [
           "#636efa",
           "#EF553B",
           "#00cc96",
           "#ab63fa",
           "#FFA15A",
           "#19d3f3",
           "#FF6692",
           "#B6E880",
           "#FF97FF",
           "#FECB52"
          ],
          "font": {
           "color": "#f2f5fa"
          },
          "geo": {
           "bgcolor": "rgb(17,17,17)",
           "lakecolor": "rgb(17,17,17)",
           "landcolor": "rgb(17,17,17)",
           "showlakes": true,
           "showland": true,
           "subunitcolor": "#506784"
          },
          "hoverlabel": {
           "align": "left"
          },
          "hovermode": "closest",
          "mapbox": {
           "style": "dark"
          },
          "paper_bgcolor": "rgb(17,17,17)",
          "plot_bgcolor": "rgb(17,17,17)",
          "polar": {
           "angularaxis": {
            "gridcolor": "#506784",
            "linecolor": "#506784",
            "ticks": ""
           },
           "bgcolor": "rgb(17,17,17)",
           "radialaxis": {
            "gridcolor": "#506784",
            "linecolor": "#506784",
            "ticks": ""
           }
          },
          "scene": {
           "xaxis": {
            "backgroundcolor": "rgb(17,17,17)",
            "gridcolor": "#506784",
            "gridwidth": 2,
            "linecolor": "#506784",
            "showbackground": true,
            "ticks": "",
            "zerolinecolor": "#C8D4E3"
           },
           "yaxis": {
            "backgroundcolor": "rgb(17,17,17)",
            "gridcolor": "#506784",
            "gridwidth": 2,
            "linecolor": "#506784",
            "showbackground": true,
            "ticks": "",
            "zerolinecolor": "#C8D4E3"
           },
           "zaxis": {
            "backgroundcolor": "rgb(17,17,17)",
            "gridcolor": "#506784",
            "gridwidth": 2,
            "linecolor": "#506784",
            "showbackground": true,
            "ticks": "",
            "zerolinecolor": "#C8D4E3"
           }
          },
          "shapedefaults": {
           "line": {
            "color": "#f2f5fa"
           }
          },
          "sliderdefaults": {
           "bgcolor": "#C8D4E3",
           "bordercolor": "rgb(17,17,17)",
           "borderwidth": 1,
           "tickwidth": 0
          },
          "ternary": {
           "aaxis": {
            "gridcolor": "#506784",
            "linecolor": "#506784",
            "ticks": ""
           },
           "baxis": {
            "gridcolor": "#506784",
            "linecolor": "#506784",
            "ticks": ""
           },
           "bgcolor": "rgb(17,17,17)",
           "caxis": {
            "gridcolor": "#506784",
            "linecolor": "#506784",
            "ticks": ""
           }
          },
          "title": {
           "x": 0.05
          },
          "updatemenudefaults": {
           "bgcolor": "#506784",
           "borderwidth": 0
          },
          "xaxis": {
           "automargin": true,
           "gridcolor": "#283442",
           "linecolor": "#506784",
           "ticks": "",
           "title": {
            "standoff": 15
           },
           "zerolinecolor": "#283442",
           "zerolinewidth": 2
          },
          "yaxis": {
           "automargin": true,
           "gridcolor": "#283442",
           "linecolor": "#506784",
           "ticks": "",
           "title": {
            "standoff": 15
           },
           "zerolinecolor": "#283442",
           "zerolinewidth": 2
          }
         }
        },
        "title": {
         "text": "Pick up hour=2022-11-08 00:00:00, location_id=4"
        },
        "xaxis": {
         "anchor": "y",
         "domain": [
          0,
          1
         ],
         "title": {
          "text": "x"
         }
        },
        "yaxis": {
         "anchor": "x",
         "domain": [
          0,
          1
         ],
         "title": {
          "text": "y"
         }
        }
       }
      }
     },
     "metadata": {},
     "output_type": "display_data"
    }
   ],
   "source": [
    "plot_one_sample(\n",
    "    example_id=130,\n",
    "    features=X_test,\n",
    "    targets=y_test,\n",
    "    predictions=pd.Series(predictions)\n",
    ")"
   ]
  }
 ],
 "metadata": {
  "kernelspec": {
   "display_name": ".venv",
   "language": "python",
   "name": "python3"
  },
  "language_info": {
   "codemirror_mode": {
    "name": "ipython",
    "version": 3
   },
   "file_extension": ".py",
   "mimetype": "text/x-python",
   "name": "python",
   "nbconvert_exporter": "python",
   "pygments_lexer": "ipython3",
   "version": "3.11.5"
  }
 },
 "nbformat": 4,
 "nbformat_minor": 2
}
