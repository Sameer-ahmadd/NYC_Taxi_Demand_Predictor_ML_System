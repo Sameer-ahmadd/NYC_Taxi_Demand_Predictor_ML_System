{
 "cells": [
  {
   "cell_type": "code",
   "execution_count": 22,
   "metadata": {},
   "outputs": [],
   "source": [
    "import warnings\n",
    "warnings.filterwarnings(\"ignore\")\n"
   ]
  },
  {
   "cell_type": "code",
   "execution_count": 23,
   "metadata": {},
   "outputs": [
    {
     "data": {
      "text/html": [
       "<div>\n",
       "<style scoped>\n",
       "    .dataframe tbody tr th:only-of-type {\n",
       "        vertical-align: middle;\n",
       "    }\n",
       "\n",
       "    .dataframe tbody tr th {\n",
       "        vertical-align: top;\n",
       "    }\n",
       "\n",
       "    .dataframe thead th {\n",
       "        text-align: right;\n",
       "    }\n",
       "</style>\n",
       "<table border=\"1\" class=\"dataframe\">\n",
       "  <thead>\n",
       "    <tr style=\"text-align: right;\">\n",
       "      <th></th>\n",
       "      <th>rides_previous_672_hour</th>\n",
       "      <th>rides_previous_671_hour</th>\n",
       "      <th>rides_previous_670_hour</th>\n",
       "      <th>rides_previous_669_hour</th>\n",
       "      <th>rides_previous_668_hour</th>\n",
       "      <th>rides_previous_667_hour</th>\n",
       "      <th>rides_previous_666_hour</th>\n",
       "      <th>rides_previous_665_hour</th>\n",
       "      <th>rides_previous_664_hour</th>\n",
       "      <th>rides_previous_663_hour</th>\n",
       "      <th>...</th>\n",
       "      <th>rides_previous_7_hour</th>\n",
       "      <th>rides_previous_6_hour</th>\n",
       "      <th>rides_previous_5_hour</th>\n",
       "      <th>rides_previous_4_hour</th>\n",
       "      <th>rides_previous_3_hour</th>\n",
       "      <th>rides_previous_2_hour</th>\n",
       "      <th>rides_previous_1_hour</th>\n",
       "      <th>pickup_hour</th>\n",
       "      <th>pickup_location_id</th>\n",
       "      <th>target_rides_next_hour</th>\n",
       "    </tr>\n",
       "  </thead>\n",
       "  <tbody>\n",
       "    <tr>\n",
       "      <th>0</th>\n",
       "      <td>11.0</td>\n",
       "      <td>15.0</td>\n",
       "      <td>26.0</td>\n",
       "      <td>8.0</td>\n",
       "      <td>9.0</td>\n",
       "      <td>7.0</td>\n",
       "      <td>3.0</td>\n",
       "      <td>1.0</td>\n",
       "      <td>0.0</td>\n",
       "      <td>3.0</td>\n",
       "      <td>...</td>\n",
       "      <td>11.0</td>\n",
       "      <td>7.0</td>\n",
       "      <td>4.0</td>\n",
       "      <td>3.0</td>\n",
       "      <td>4.0</td>\n",
       "      <td>9.0</td>\n",
       "      <td>19.0</td>\n",
       "      <td>2022-01-29</td>\n",
       "      <td>4</td>\n",
       "      <td>17.0</td>\n",
       "    </tr>\n",
       "    <tr>\n",
       "      <th>1</th>\n",
       "      <td>1.0</td>\n",
       "      <td>0.0</td>\n",
       "      <td>2.0</td>\n",
       "      <td>0.0</td>\n",
       "      <td>0.0</td>\n",
       "      <td>0.0</td>\n",
       "      <td>0.0</td>\n",
       "      <td>0.0</td>\n",
       "      <td>1.0</td>\n",
       "      <td>1.0</td>\n",
       "      <td>...</td>\n",
       "      <td>5.0</td>\n",
       "      <td>4.0</td>\n",
       "      <td>10.0</td>\n",
       "      <td>7.0</td>\n",
       "      <td>5.0</td>\n",
       "      <td>9.0</td>\n",
       "      <td>10.0</td>\n",
       "      <td>2022-01-30</td>\n",
       "      <td>4</td>\n",
       "      <td>9.0</td>\n",
       "    </tr>\n",
       "    <tr>\n",
       "      <th>2</th>\n",
       "      <td>0.0</td>\n",
       "      <td>1.0</td>\n",
       "      <td>0.0</td>\n",
       "      <td>0.0</td>\n",
       "      <td>1.0</td>\n",
       "      <td>1.0</td>\n",
       "      <td>1.0</td>\n",
       "      <td>3.0</td>\n",
       "      <td>2.0</td>\n",
       "      <td>3.0</td>\n",
       "      <td>...</td>\n",
       "      <td>8.0</td>\n",
       "      <td>7.0</td>\n",
       "      <td>8.0</td>\n",
       "      <td>5.0</td>\n",
       "      <td>5.0</td>\n",
       "      <td>10.0</td>\n",
       "      <td>0.0</td>\n",
       "      <td>2022-01-31</td>\n",
       "      <td>4</td>\n",
       "      <td>3.0</td>\n",
       "    </tr>\n",
       "    <tr>\n",
       "      <th>3</th>\n",
       "      <td>1.0</td>\n",
       "      <td>1.0</td>\n",
       "      <td>0.0</td>\n",
       "      <td>0.0</td>\n",
       "      <td>0.0</td>\n",
       "      <td>3.0</td>\n",
       "      <td>2.0</td>\n",
       "      <td>3.0</td>\n",
       "      <td>4.0</td>\n",
       "      <td>5.0</td>\n",
       "      <td>...</td>\n",
       "      <td>3.0</td>\n",
       "      <td>16.0</td>\n",
       "      <td>7.0</td>\n",
       "      <td>1.0</td>\n",
       "      <td>0.0</td>\n",
       "      <td>1.0</td>\n",
       "      <td>3.0</td>\n",
       "      <td>2022-02-01</td>\n",
       "      <td>4</td>\n",
       "      <td>3.0</td>\n",
       "    </tr>\n",
       "    <tr>\n",
       "      <th>4</th>\n",
       "      <td>0.0</td>\n",
       "      <td>0.0</td>\n",
       "      <td>0.0</td>\n",
       "      <td>0.0</td>\n",
       "      <td>0.0</td>\n",
       "      <td>0.0</td>\n",
       "      <td>3.0</td>\n",
       "      <td>4.0</td>\n",
       "      <td>1.0</td>\n",
       "      <td>2.0</td>\n",
       "      <td>...</td>\n",
       "      <td>3.0</td>\n",
       "      <td>8.0</td>\n",
       "      <td>3.0</td>\n",
       "      <td>0.0</td>\n",
       "      <td>4.0</td>\n",
       "      <td>4.0</td>\n",
       "      <td>3.0</td>\n",
       "      <td>2022-02-02</td>\n",
       "      <td>4</td>\n",
       "      <td>1.0</td>\n",
       "    </tr>\n",
       "    <tr>\n",
       "      <th>...</th>\n",
       "      <td>...</td>\n",
       "      <td>...</td>\n",
       "      <td>...</td>\n",
       "      <td>...</td>\n",
       "      <td>...</td>\n",
       "      <td>...</td>\n",
       "      <td>...</td>\n",
       "      <td>...</td>\n",
       "      <td>...</td>\n",
       "      <td>...</td>\n",
       "      <td>...</td>\n",
       "      <td>...</td>\n",
       "      <td>...</td>\n",
       "      <td>...</td>\n",
       "      <td>...</td>\n",
       "      <td>...</td>\n",
       "      <td>...</td>\n",
       "      <td>...</td>\n",
       "      <td>...</td>\n",
       "      <td>...</td>\n",
       "      <td>...</td>\n",
       "    </tr>\n",
       "    <tr>\n",
       "      <th>88289</th>\n",
       "      <td>0.0</td>\n",
       "      <td>0.0</td>\n",
       "      <td>0.0</td>\n",
       "      <td>0.0</td>\n",
       "      <td>0.0</td>\n",
       "      <td>0.0</td>\n",
       "      <td>0.0</td>\n",
       "      <td>0.0</td>\n",
       "      <td>0.0</td>\n",
       "      <td>0.0</td>\n",
       "      <td>...</td>\n",
       "      <td>0.0</td>\n",
       "      <td>0.0</td>\n",
       "      <td>0.0</td>\n",
       "      <td>0.0</td>\n",
       "      <td>0.0</td>\n",
       "      <td>0.0</td>\n",
       "      <td>0.0</td>\n",
       "      <td>2022-12-27</td>\n",
       "      <td>199</td>\n",
       "      <td>0.0</td>\n",
       "    </tr>\n",
       "    <tr>\n",
       "      <th>88290</th>\n",
       "      <td>0.0</td>\n",
       "      <td>0.0</td>\n",
       "      <td>0.0</td>\n",
       "      <td>0.0</td>\n",
       "      <td>0.0</td>\n",
       "      <td>0.0</td>\n",
       "      <td>0.0</td>\n",
       "      <td>0.0</td>\n",
       "      <td>0.0</td>\n",
       "      <td>0.0</td>\n",
       "      <td>...</td>\n",
       "      <td>0.0</td>\n",
       "      <td>0.0</td>\n",
       "      <td>0.0</td>\n",
       "      <td>0.0</td>\n",
       "      <td>0.0</td>\n",
       "      <td>0.0</td>\n",
       "      <td>0.0</td>\n",
       "      <td>2022-12-28</td>\n",
       "      <td>199</td>\n",
       "      <td>0.0</td>\n",
       "    </tr>\n",
       "    <tr>\n",
       "      <th>88291</th>\n",
       "      <td>0.0</td>\n",
       "      <td>0.0</td>\n",
       "      <td>0.0</td>\n",
       "      <td>0.0</td>\n",
       "      <td>0.0</td>\n",
       "      <td>0.0</td>\n",
       "      <td>0.0</td>\n",
       "      <td>0.0</td>\n",
       "      <td>0.0</td>\n",
       "      <td>0.0</td>\n",
       "      <td>...</td>\n",
       "      <td>0.0</td>\n",
       "      <td>0.0</td>\n",
       "      <td>0.0</td>\n",
       "      <td>0.0</td>\n",
       "      <td>0.0</td>\n",
       "      <td>0.0</td>\n",
       "      <td>0.0</td>\n",
       "      <td>2022-12-29</td>\n",
       "      <td>199</td>\n",
       "      <td>0.0</td>\n",
       "    </tr>\n",
       "    <tr>\n",
       "      <th>88292</th>\n",
       "      <td>0.0</td>\n",
       "      <td>0.0</td>\n",
       "      <td>0.0</td>\n",
       "      <td>0.0</td>\n",
       "      <td>0.0</td>\n",
       "      <td>0.0</td>\n",
       "      <td>0.0</td>\n",
       "      <td>0.0</td>\n",
       "      <td>0.0</td>\n",
       "      <td>0.0</td>\n",
       "      <td>...</td>\n",
       "      <td>0.0</td>\n",
       "      <td>0.0</td>\n",
       "      <td>0.0</td>\n",
       "      <td>0.0</td>\n",
       "      <td>0.0</td>\n",
       "      <td>0.0</td>\n",
       "      <td>0.0</td>\n",
       "      <td>2022-12-30</td>\n",
       "      <td>199</td>\n",
       "      <td>0.0</td>\n",
       "    </tr>\n",
       "    <tr>\n",
       "      <th>88293</th>\n",
       "      <td>0.0</td>\n",
       "      <td>0.0</td>\n",
       "      <td>0.0</td>\n",
       "      <td>0.0</td>\n",
       "      <td>0.0</td>\n",
       "      <td>0.0</td>\n",
       "      <td>0.0</td>\n",
       "      <td>0.0</td>\n",
       "      <td>0.0</td>\n",
       "      <td>0.0</td>\n",
       "      <td>...</td>\n",
       "      <td>0.0</td>\n",
       "      <td>0.0</td>\n",
       "      <td>0.0</td>\n",
       "      <td>0.0</td>\n",
       "      <td>0.0</td>\n",
       "      <td>0.0</td>\n",
       "      <td>0.0</td>\n",
       "      <td>2022-12-31</td>\n",
       "      <td>199</td>\n",
       "      <td>0.0</td>\n",
       "    </tr>\n",
       "  </tbody>\n",
       "</table>\n",
       "<p>88294 rows × 675 columns</p>\n",
       "</div>"
      ],
      "text/plain": [
       "       rides_previous_672_hour  rides_previous_671_hour  \\\n",
       "0                         11.0                     15.0   \n",
       "1                          1.0                      0.0   \n",
       "2                          0.0                      1.0   \n",
       "3                          1.0                      1.0   \n",
       "4                          0.0                      0.0   \n",
       "...                        ...                      ...   \n",
       "88289                      0.0                      0.0   \n",
       "88290                      0.0                      0.0   \n",
       "88291                      0.0                      0.0   \n",
       "88292                      0.0                      0.0   \n",
       "88293                      0.0                      0.0   \n",
       "\n",
       "       rides_previous_670_hour  rides_previous_669_hour  \\\n",
       "0                         26.0                      8.0   \n",
       "1                          2.0                      0.0   \n",
       "2                          0.0                      0.0   \n",
       "3                          0.0                      0.0   \n",
       "4                          0.0                      0.0   \n",
       "...                        ...                      ...   \n",
       "88289                      0.0                      0.0   \n",
       "88290                      0.0                      0.0   \n",
       "88291                      0.0                      0.0   \n",
       "88292                      0.0                      0.0   \n",
       "88293                      0.0                      0.0   \n",
       "\n",
       "       rides_previous_668_hour  rides_previous_667_hour  \\\n",
       "0                          9.0                      7.0   \n",
       "1                          0.0                      0.0   \n",
       "2                          1.0                      1.0   \n",
       "3                          0.0                      3.0   \n",
       "4                          0.0                      0.0   \n",
       "...                        ...                      ...   \n",
       "88289                      0.0                      0.0   \n",
       "88290                      0.0                      0.0   \n",
       "88291                      0.0                      0.0   \n",
       "88292                      0.0                      0.0   \n",
       "88293                      0.0                      0.0   \n",
       "\n",
       "       rides_previous_666_hour  rides_previous_665_hour  \\\n",
       "0                          3.0                      1.0   \n",
       "1                          0.0                      0.0   \n",
       "2                          1.0                      3.0   \n",
       "3                          2.0                      3.0   \n",
       "4                          3.0                      4.0   \n",
       "...                        ...                      ...   \n",
       "88289                      0.0                      0.0   \n",
       "88290                      0.0                      0.0   \n",
       "88291                      0.0                      0.0   \n",
       "88292                      0.0                      0.0   \n",
       "88293                      0.0                      0.0   \n",
       "\n",
       "       rides_previous_664_hour  rides_previous_663_hour  ...  \\\n",
       "0                          0.0                      3.0  ...   \n",
       "1                          1.0                      1.0  ...   \n",
       "2                          2.0                      3.0  ...   \n",
       "3                          4.0                      5.0  ...   \n",
       "4                          1.0                      2.0  ...   \n",
       "...                        ...                      ...  ...   \n",
       "88289                      0.0                      0.0  ...   \n",
       "88290                      0.0                      0.0  ...   \n",
       "88291                      0.0                      0.0  ...   \n",
       "88292                      0.0                      0.0  ...   \n",
       "88293                      0.0                      0.0  ...   \n",
       "\n",
       "       rides_previous_7_hour  rides_previous_6_hour  rides_previous_5_hour  \\\n",
       "0                       11.0                    7.0                    4.0   \n",
       "1                        5.0                    4.0                   10.0   \n",
       "2                        8.0                    7.0                    8.0   \n",
       "3                        3.0                   16.0                    7.0   \n",
       "4                        3.0                    8.0                    3.0   \n",
       "...                      ...                    ...                    ...   \n",
       "88289                    0.0                    0.0                    0.0   \n",
       "88290                    0.0                    0.0                    0.0   \n",
       "88291                    0.0                    0.0                    0.0   \n",
       "88292                    0.0                    0.0                    0.0   \n",
       "88293                    0.0                    0.0                    0.0   \n",
       "\n",
       "       rides_previous_4_hour  rides_previous_3_hour  rides_previous_2_hour  \\\n",
       "0                        3.0                    4.0                    9.0   \n",
       "1                        7.0                    5.0                    9.0   \n",
       "2                        5.0                    5.0                   10.0   \n",
       "3                        1.0                    0.0                    1.0   \n",
       "4                        0.0                    4.0                    4.0   \n",
       "...                      ...                    ...                    ...   \n",
       "88289                    0.0                    0.0                    0.0   \n",
       "88290                    0.0                    0.0                    0.0   \n",
       "88291                    0.0                    0.0                    0.0   \n",
       "88292                    0.0                    0.0                    0.0   \n",
       "88293                    0.0                    0.0                    0.0   \n",
       "\n",
       "       rides_previous_1_hour  pickup_hour  pickup_location_id  \\\n",
       "0                       19.0   2022-01-29                   4   \n",
       "1                       10.0   2022-01-30                   4   \n",
       "2                        0.0   2022-01-31                   4   \n",
       "3                        3.0   2022-02-01                   4   \n",
       "4                        3.0   2022-02-02                   4   \n",
       "...                      ...          ...                 ...   \n",
       "88289                    0.0   2022-12-27                 199   \n",
       "88290                    0.0   2022-12-28                 199   \n",
       "88291                    0.0   2022-12-29                 199   \n",
       "88292                    0.0   2022-12-30                 199   \n",
       "88293                    0.0   2022-12-31                 199   \n",
       "\n",
       "       target_rides_next_hour  \n",
       "0                        17.0  \n",
       "1                         9.0  \n",
       "2                         3.0  \n",
       "3                         3.0  \n",
       "4                         1.0  \n",
       "...                       ...  \n",
       "88289                     0.0  \n",
       "88290                     0.0  \n",
       "88291                     0.0  \n",
       "88292                     0.0  \n",
       "88293                     0.0  \n",
       "\n",
       "[88294 rows x 675 columns]"
      ]
     },
     "execution_count": 23,
     "metadata": {},
     "output_type": "execute_result"
    }
   ],
   "source": [
    "import pandas as pd\n",
    "from src.paths import TRANSFORMED_DATA_DIR\n",
    "df = pd.read_parquet(TRANSFORMED_DATA_DIR / 'tabular_data.parquet')\n",
    "df"
   ]
  },
  {
   "cell_type": "code",
   "execution_count": 24,
   "metadata": {},
   "outputs": [
    {
     "name": "stdout",
     "output_type": "stream",
     "text": [
      "X_train.shape=(32226, 674)\n",
      "y_train.shape=(32226,)\n",
      "X_test.shape=(56068, 674)\n",
      "y_test.shape=(56068,)\n"
     ]
    }
   ],
   "source": [
    "from datetime import datetime\n",
    "from src.data_split import  train_test_split\n",
    "\n",
    "X_train, y_train, X_test, y_test = train_test_split(\n",
    "    df,\n",
    "    cutoff_date=datetime(2022, 6, 1, 0, 0, 0),\n",
    "    target_column_name='target_rides_next_hour'\n",
    ")\n",
    "\n",
    "print(f'{X_train.shape=}')\n",
    "print(f'{y_train.shape=}')\n",
    "print(f'{X_test.shape=}')\n",
    "print(f'{y_test.shape=}')"
   ]
  },
  {
   "cell_type": "code",
   "execution_count": 25,
   "metadata": {},
   "outputs": [],
   "source": [
    "import numpy as np\n",
    "from sklearn.model_selection import KFold, TimeSeriesSplit\n",
    "from sklearn.pipeline import make_pipeline\n",
    "from sklearn.metrics import mean_absolute_error\n",
    "import optuna\n",
    "\n",
    "from src.model import get_pipeline\n",
    "\n",
    "def objective(trial: optuna.trial.Trial) -> float:\n",
    "    \"\"\"\n",
    "    Given a set of hyper-parameters, it trains a model and computes an average\n",
    "    validation error based on a TimeSeriesSplit\n",
    "    \"\"\"\n",
    "    # pick hyper-parameters\n",
    "    hyperparams = {\n",
    "        \"metric\": 'mae',\n",
    "        \"verbose\": -1,\n",
    "        \"num_leaves\": trial.suggest_int(\"num_leaves\", 2, 256),\n",
    "        \"feature_fraction\": trial.suggest_float(\"feature_fraction\", 0.2, 1.0),\n",
    "        \"bagging_fraction\": trial.suggest_float(\"bagging_fraction\", 0.2, 1.0),\n",
    "        \"min_child_samples\": trial.suggest_int(\"min_child_samples\", 3, 100),   \n",
    "    }\n",
    "       \n",
    "    tss = KFold(n_splits=3)\n",
    "    scores = []\n",
    "        \n",
    "    for train_index, val_index in tss.split(X_train):\n",
    "\n",
    "        # split data for training and validation\n",
    "        X_train_, X_val_ = X_train.iloc[train_index, :], X_train.iloc[val_index,:]\n",
    "        y_train_, y_val_ = y_train.iloc[train_index], y_train.iloc[val_index]\n",
    "         \n",
    "        # train the model\n",
    "        pipeline = get_pipeline(**hyperparams)\n",
    "        pipeline.fit(X_train_, y_train_)\n",
    "        \n",
    "        # evaluate the model\n",
    "        y_pred = pipeline.predict(X_val_)\n",
    "        mae = mean_absolute_error(y_val_, y_pred)\n",
    "\n",
    "        scores.append(mae)\n",
    "   \n",
    "    # Return the mean score\n",
    "    return np.array(scores).mean()"
   ]
  },
  {
   "cell_type": "code",
   "execution_count": 34,
   "metadata": {},
   "outputs": [
    {
     "name": "stderr",
     "output_type": "stream",
     "text": [
      "[I 2024-03-12 19:44:28,358] A new study created in memory with name: no-name-8a229a85-cce2-437f-98b8-6307867cb7d0\n"
     ]
    },
    {
     "name": "stderr",
     "output_type": "stream",
     "text": [
      "[I 2024-03-12 19:44:47,146] Trial 0 finished with value: 3.4736819891178263 and parameters: {'num_leaves': 28, 'feature_fraction': 0.45552675319908453, 'bagging_fraction': 0.23374529056265053, 'min_child_samples': 39}. Best is trial 0 with value: 3.4736819891178263.\n",
      "[I 2024-03-12 19:45:05,661] Trial 1 finished with value: 3.3010282141928085 and parameters: {'num_leaves': 36, 'feature_fraction': 0.4179622500924738, 'bagging_fraction': 0.9301628983838077, 'min_child_samples': 14}. Best is trial 1 with value: 3.3010282141928085.\n",
      "[I 2024-03-12 19:46:13,747] Trial 2 finished with value: 3.349739343896582 and parameters: {'num_leaves': 225, 'feature_fraction': 0.9231368779848472, 'bagging_fraction': 0.745998914919199, 'min_child_samples': 27}. Best is trial 1 with value: 3.3010282141928085.\n",
      "[I 2024-03-12 19:47:04,046] Trial 3 finished with value: 3.1058449884445096 and parameters: {'num_leaves': 194, 'feature_fraction': 0.7387593145376956, 'bagging_fraction': 0.623082871284614, 'min_child_samples': 17}. Best is trial 3 with value: 3.1058449884445096.\n",
      "[I 2024-03-12 19:47:41,423] Trial 4 finished with value: 3.7479064372546222 and parameters: {'num_leaves': 134, 'feature_fraction': 0.43972129608235727, 'bagging_fraction': 0.5862051804156461, 'min_child_samples': 80}. Best is trial 3 with value: 3.1058449884445096.\n"
     ]
    }
   ],
   "source": [
    "study = optuna.create_study(direction=\"minimize\")\n",
    "study.optimize(objective, n_trials=5)"
   ]
  },
  {
   "cell_type": "code",
   "execution_count": 35,
   "metadata": {},
   "outputs": [
    {
     "name": "stdout",
     "output_type": "stream",
     "text": [
      "best_params={'num_leaves': 194, 'feature_fraction': 0.7387593145376956, 'bagging_fraction': 0.623082871284614, 'min_child_samples': 17}\n"
     ]
    }
   ],
   "source": [
    "best_params = study.best_trial.params\n",
    "print(f'{best_params=}')"
   ]
  },
  {
   "cell_type": "code",
   "execution_count": 36,
   "metadata": {},
   "outputs": [
    {
     "name": "stdout",
     "output_type": "stream",
     "text": [
      "[LightGBM] [Warning] feature_fraction is set=0.7387593145376956, colsample_bytree=1.0 will be ignored. Current value: feature_fraction=0.7387593145376956\n",
      "[LightGBM] [Warning] bagging_fraction is set=0.623082871284614, subsample=1.0 will be ignored. Current value: bagging_fraction=0.623082871284614\n",
      "[LightGBM] [Warning] feature_fraction is set=0.7387593145376956, colsample_bytree=1.0 will be ignored. Current value: feature_fraction=0.7387593145376956\n",
      "[LightGBM] [Warning] bagging_fraction is set=0.623082871284614, subsample=1.0 will be ignored. Current value: bagging_fraction=0.623082871284614\n",
      "[LightGBM] [Info] Auto-choosing col-wise multi-threading, the overhead of testing was 0.727835 seconds.\n",
      "You can set `force_col_wise=true` to remove the overhead.\n",
      "[LightGBM] [Info] Total Bins 154527\n",
      "[LightGBM] [Info] Number of data points in the train set: 32226, number of used features: 675\n",
      "[LightGBM] [Info] Start training from score 11.703562\n"
     ]
    },
    {
     "data": {
      "text/html": [
       "<style>#sk-container-id-4 {color: black;}#sk-container-id-4 pre{padding: 0;}#sk-container-id-4 div.sk-toggleable {background-color: white;}#sk-container-id-4 label.sk-toggleable__label {cursor: pointer;display: block;width: 100%;margin-bottom: 0;padding: 0.3em;box-sizing: border-box;text-align: center;}#sk-container-id-4 label.sk-toggleable__label-arrow:before {content: \"▸\";float: left;margin-right: 0.25em;color: #696969;}#sk-container-id-4 label.sk-toggleable__label-arrow:hover:before {color: black;}#sk-container-id-4 div.sk-estimator:hover label.sk-toggleable__label-arrow:before {color: black;}#sk-container-id-4 div.sk-toggleable__content {max-height: 0;max-width: 0;overflow: hidden;text-align: left;background-color: #f0f8ff;}#sk-container-id-4 div.sk-toggleable__content pre {margin: 0.2em;color: black;border-radius: 0.25em;background-color: #f0f8ff;}#sk-container-id-4 input.sk-toggleable__control:checked~div.sk-toggleable__content {max-height: 200px;max-width: 100%;overflow: auto;}#sk-container-id-4 input.sk-toggleable__control:checked~label.sk-toggleable__label-arrow:before {content: \"▾\";}#sk-container-id-4 div.sk-estimator input.sk-toggleable__control:checked~label.sk-toggleable__label {background-color: #d4ebff;}#sk-container-id-4 div.sk-label input.sk-toggleable__control:checked~label.sk-toggleable__label {background-color: #d4ebff;}#sk-container-id-4 input.sk-hidden--visually {border: 0;clip: rect(1px 1px 1px 1px);clip: rect(1px, 1px, 1px, 1px);height: 1px;margin: -1px;overflow: hidden;padding: 0;position: absolute;width: 1px;}#sk-container-id-4 div.sk-estimator {font-family: monospace;background-color: #f0f8ff;border: 1px dotted black;border-radius: 0.25em;box-sizing: border-box;margin-bottom: 0.5em;}#sk-container-id-4 div.sk-estimator:hover {background-color: #d4ebff;}#sk-container-id-4 div.sk-parallel-item::after {content: \"\";width: 100%;border-bottom: 1px solid gray;flex-grow: 1;}#sk-container-id-4 div.sk-label:hover label.sk-toggleable__label {background-color: #d4ebff;}#sk-container-id-4 div.sk-serial::before {content: \"\";position: absolute;border-left: 1px solid gray;box-sizing: border-box;top: 0;bottom: 0;left: 50%;z-index: 0;}#sk-container-id-4 div.sk-serial {display: flex;flex-direction: column;align-items: center;background-color: white;padding-right: 0.2em;padding-left: 0.2em;position: relative;}#sk-container-id-4 div.sk-item {position: relative;z-index: 1;}#sk-container-id-4 div.sk-parallel {display: flex;align-items: stretch;justify-content: center;background-color: white;position: relative;}#sk-container-id-4 div.sk-item::before, #sk-container-id-4 div.sk-parallel-item::before {content: \"\";position: absolute;border-left: 1px solid gray;box-sizing: border-box;top: 0;bottom: 0;left: 50%;z-index: -1;}#sk-container-id-4 div.sk-parallel-item {display: flex;flex-direction: column;z-index: 1;position: relative;background-color: white;}#sk-container-id-4 div.sk-parallel-item:first-child::after {align-self: flex-end;width: 50%;}#sk-container-id-4 div.sk-parallel-item:last-child::after {align-self: flex-start;width: 50%;}#sk-container-id-4 div.sk-parallel-item:only-child::after {width: 0;}#sk-container-id-4 div.sk-dashed-wrapped {border: 1px dashed gray;margin: 0 0.4em 0.5em 0.4em;box-sizing: border-box;padding-bottom: 0.4em;background-color: white;}#sk-container-id-4 div.sk-label label {font-family: monospace;font-weight: bold;display: inline-block;line-height: 1.2em;}#sk-container-id-4 div.sk-label-container {text-align: center;}#sk-container-id-4 div.sk-container {/* jupyter's `normalize.less` sets `[hidden] { display: none; }` but bootstrap.min.css set `[hidden] { display: none !important; }` so we also need the `!important` here to be able to override the default hidden behavior on the sphinx rendered scikit-learn.org. See: https://github.com/scikit-learn/scikit-learn/issues/21755 */display: inline-block !important;position: relative;}#sk-container-id-4 div.sk-text-repr-fallback {display: none;}</style><div id=\"sk-container-id-4\" class=\"sk-top-container\"><div class=\"sk-text-repr-fallback\"><pre>Pipeline(steps=[(&#x27;functiontransformer&#x27;,\n",
       "                 FunctionTransformer(func=&lt;function average_rides_last_4_weeks at 0x00000252CE8D4040&gt;)),\n",
       "                (&#x27;temporalfeaturesengineer&#x27;, TemporalFeaturesEngineer()),\n",
       "                (&#x27;lgbmregressor&#x27;,\n",
       "                 LGBMRegressor(bagging_fraction=0.623082871284614,\n",
       "                               feature_fraction=0.7387593145376956,\n",
       "                               min_child_samples=17, num_leaves=194))])</pre><b>In a Jupyter environment, please rerun this cell to show the HTML representation or trust the notebook. <br />On GitHub, the HTML representation is unable to render, please try loading this page with nbviewer.org.</b></div><div class=\"sk-container\" hidden><div class=\"sk-item sk-dashed-wrapped\"><div class=\"sk-label-container\"><div class=\"sk-label sk-toggleable\"><input class=\"sk-toggleable__control sk-hidden--visually\" id=\"sk-estimator-id-13\" type=\"checkbox\" ><label for=\"sk-estimator-id-13\" class=\"sk-toggleable__label sk-toggleable__label-arrow\">Pipeline</label><div class=\"sk-toggleable__content\"><pre>Pipeline(steps=[(&#x27;functiontransformer&#x27;,\n",
       "                 FunctionTransformer(func=&lt;function average_rides_last_4_weeks at 0x00000252CE8D4040&gt;)),\n",
       "                (&#x27;temporalfeaturesengineer&#x27;, TemporalFeaturesEngineer()),\n",
       "                (&#x27;lgbmregressor&#x27;,\n",
       "                 LGBMRegressor(bagging_fraction=0.623082871284614,\n",
       "                               feature_fraction=0.7387593145376956,\n",
       "                               min_child_samples=17, num_leaves=194))])</pre></div></div></div><div class=\"sk-serial\"><div class=\"sk-item\"><div class=\"sk-estimator sk-toggleable\"><input class=\"sk-toggleable__control sk-hidden--visually\" id=\"sk-estimator-id-14\" type=\"checkbox\" ><label for=\"sk-estimator-id-14\" class=\"sk-toggleable__label sk-toggleable__label-arrow\">FunctionTransformer</label><div class=\"sk-toggleable__content\"><pre>FunctionTransformer(func=&lt;function average_rides_last_4_weeks at 0x00000252CE8D4040&gt;)</pre></div></div></div><div class=\"sk-item\"><div class=\"sk-estimator sk-toggleable\"><input class=\"sk-toggleable__control sk-hidden--visually\" id=\"sk-estimator-id-15\" type=\"checkbox\" ><label for=\"sk-estimator-id-15\" class=\"sk-toggleable__label sk-toggleable__label-arrow\">TemporalFeaturesEngineer</label><div class=\"sk-toggleable__content\"><pre>TemporalFeaturesEngineer()</pre></div></div></div><div class=\"sk-item\"><div class=\"sk-estimator sk-toggleable\"><input class=\"sk-toggleable__control sk-hidden--visually\" id=\"sk-estimator-id-16\" type=\"checkbox\" ><label for=\"sk-estimator-id-16\" class=\"sk-toggleable__label sk-toggleable__label-arrow\">LGBMRegressor</label><div class=\"sk-toggleable__content\"><pre>LGBMRegressor(bagging_fraction=0.623082871284614,\n",
       "              feature_fraction=0.7387593145376956, min_child_samples=17,\n",
       "              num_leaves=194)</pre></div></div></div></div></div></div></div>"
      ],
      "text/plain": [
       "Pipeline(steps=[('functiontransformer',\n",
       "                 FunctionTransformer(func=<function average_rides_last_4_weeks at 0x00000252CE8D4040>)),\n",
       "                ('temporalfeaturesengineer', TemporalFeaturesEngineer()),\n",
       "                ('lgbmregressor',\n",
       "                 LGBMRegressor(bagging_fraction=0.623082871284614,\n",
       "                               feature_fraction=0.7387593145376956,\n",
       "                               min_child_samples=17, num_leaves=194))])"
      ]
     },
     "execution_count": 36,
     "metadata": {},
     "output_type": "execute_result"
    }
   ],
   "source": [
    "pipeline = get_pipeline(**best_params)\n",
    "pipeline.fit(X_train, y_train)"
   ]
  },
  {
   "cell_type": "code",
   "execution_count": 39,
   "metadata": {},
   "outputs": [
    {
     "name": "stdout",
     "output_type": "stream",
     "text": [
      "[LightGBM] [Warning] feature_fraction is set=0.7387593145376956, colsample_bytree=1.0 will be ignored. Current value: feature_fraction=0.7387593145376956\n",
      "[LightGBM] [Warning] bagging_fraction is set=0.623082871284614, subsample=1.0 will be ignored. Current value: bagging_fraction=0.623082871284614\n",
      "test_mae=2.5934\n"
     ]
    }
   ],
   "source": [
    "predictions = pipeline.predict(X_test)\n",
    "from sklearn.metrics import  mean_absolute_error\n",
    "test_mae = mean_absolute_error(y_test, predictions)\n",
    "print(f'{test_mae=:.4f}')"
   ]
  },
  {
   "cell_type": "code",
   "execution_count": 40,
   "metadata": {},
   "outputs": [
    {
     "data": {
      "application/vnd.plotly.v1+json": {
       "config": {
        "plotlyServerURL": "https://plot.ly"
       },
       "data": [
        {
         "hovertemplate": "x=%{x}<br>y=%{y}<extra></extra>",
         "legendgroup": "",
         "line": {
          "color": "#636efa",
          "dash": "solid"
         },
         "marker": {
          "symbol": "circle"
         },
         "mode": "markers+lines",
         "name": "",
         "orientation": "v",
         "showlegend": false,
         "type": "scatter",
         "x": [
          "2022-08-02T00:00:00",
          "2022-08-02T01:00:00",
          "2022-08-02T02:00:00",
          "2022-08-02T03:00:00",
          "2022-08-02T04:00:00",
          "2022-08-02T05:00:00",
          "2022-08-02T06:00:00",
          "2022-08-02T07:00:00",
          "2022-08-02T08:00:00",
          "2022-08-02T09:00:00",
          "2022-08-02T10:00:00",
          "2022-08-02T11:00:00",
          "2022-08-02T12:00:00",
          "2022-08-02T13:00:00",
          "2022-08-02T14:00:00",
          "2022-08-02T15:00:00",
          "2022-08-02T16:00:00",
          "2022-08-02T17:00:00",
          "2022-08-02T18:00:00",
          "2022-08-02T19:00:00",
          "2022-08-02T20:00:00",
          "2022-08-02T21:00:00",
          "2022-08-02T22:00:00",
          "2022-08-02T23:00:00",
          "2022-08-03T00:00:00",
          "2022-08-03T01:00:00",
          "2022-08-03T02:00:00",
          "2022-08-03T03:00:00",
          "2022-08-03T04:00:00",
          "2022-08-03T05:00:00",
          "2022-08-03T06:00:00",
          "2022-08-03T07:00:00",
          "2022-08-03T08:00:00",
          "2022-08-03T09:00:00",
          "2022-08-03T10:00:00",
          "2022-08-03T11:00:00",
          "2022-08-03T12:00:00",
          "2022-08-03T13:00:00",
          "2022-08-03T14:00:00",
          "2022-08-03T15:00:00",
          "2022-08-03T16:00:00",
          "2022-08-03T17:00:00",
          "2022-08-03T18:00:00",
          "2022-08-03T19:00:00",
          "2022-08-03T20:00:00",
          "2022-08-03T21:00:00",
          "2022-08-03T22:00:00",
          "2022-08-03T23:00:00",
          "2022-08-04T00:00:00",
          "2022-08-04T01:00:00",
          "2022-08-04T02:00:00",
          "2022-08-04T03:00:00",
          "2022-08-04T04:00:00",
          "2022-08-04T05:00:00",
          "2022-08-04T06:00:00",
          "2022-08-04T07:00:00",
          "2022-08-04T08:00:00",
          "2022-08-04T09:00:00",
          "2022-08-04T10:00:00",
          "2022-08-04T11:00:00",
          "2022-08-04T12:00:00",
          "2022-08-04T13:00:00",
          "2022-08-04T14:00:00",
          "2022-08-04T15:00:00",
          "2022-08-04T16:00:00",
          "2022-08-04T17:00:00",
          "2022-08-04T18:00:00",
          "2022-08-04T19:00:00",
          "2022-08-04T20:00:00",
          "2022-08-04T21:00:00",
          "2022-08-04T22:00:00",
          "2022-08-04T23:00:00",
          "2022-08-05T00:00:00",
          "2022-08-05T01:00:00",
          "2022-08-05T02:00:00",
          "2022-08-05T03:00:00",
          "2022-08-05T04:00:00",
          "2022-08-05T05:00:00",
          "2022-08-05T06:00:00",
          "2022-08-05T07:00:00",
          "2022-08-05T08:00:00",
          "2022-08-05T09:00:00",
          "2022-08-05T10:00:00",
          "2022-08-05T11:00:00",
          "2022-08-05T12:00:00",
          "2022-08-05T13:00:00",
          "2022-08-05T14:00:00",
          "2022-08-05T15:00:00",
          "2022-08-05T16:00:00",
          "2022-08-05T17:00:00",
          "2022-08-05T18:00:00",
          "2022-08-05T19:00:00",
          "2022-08-05T20:00:00",
          "2022-08-05T21:00:00",
          "2022-08-05T22:00:00",
          "2022-08-05T23:00:00",
          "2022-08-06T00:00:00",
          "2022-08-06T01:00:00",
          "2022-08-06T02:00:00",
          "2022-08-06T03:00:00",
          "2022-08-06T04:00:00",
          "2022-08-06T05:00:00",
          "2022-08-06T06:00:00",
          "2022-08-06T07:00:00",
          "2022-08-06T08:00:00",
          "2022-08-06T09:00:00",
          "2022-08-06T10:00:00",
          "2022-08-06T11:00:00",
          "2022-08-06T12:00:00",
          "2022-08-06T13:00:00",
          "2022-08-06T14:00:00",
          "2022-08-06T15:00:00",
          "2022-08-06T16:00:00",
          "2022-08-06T17:00:00",
          "2022-08-06T18:00:00",
          "2022-08-06T19:00:00",
          "2022-08-06T20:00:00",
          "2022-08-06T21:00:00",
          "2022-08-06T22:00:00",
          "2022-08-06T23:00:00",
          "2022-08-07T00:00:00",
          "2022-08-07T01:00:00",
          "2022-08-07T02:00:00",
          "2022-08-07T03:00:00",
          "2022-08-07T04:00:00",
          "2022-08-07T05:00:00",
          "2022-08-07T06:00:00",
          "2022-08-07T07:00:00",
          "2022-08-07T08:00:00",
          "2022-08-07T09:00:00",
          "2022-08-07T10:00:00",
          "2022-08-07T11:00:00",
          "2022-08-07T12:00:00",
          "2022-08-07T13:00:00",
          "2022-08-07T14:00:00",
          "2022-08-07T15:00:00",
          "2022-08-07T16:00:00",
          "2022-08-07T17:00:00",
          "2022-08-07T18:00:00",
          "2022-08-07T19:00:00",
          "2022-08-07T20:00:00",
          "2022-08-07T21:00:00",
          "2022-08-07T22:00:00",
          "2022-08-07T23:00:00",
          "2022-08-08T00:00:00",
          "2022-08-08T01:00:00",
          "2022-08-08T02:00:00",
          "2022-08-08T03:00:00",
          "2022-08-08T04:00:00",
          "2022-08-08T05:00:00",
          "2022-08-08T06:00:00",
          "2022-08-08T07:00:00",
          "2022-08-08T08:00:00",
          "2022-08-08T09:00:00",
          "2022-08-08T10:00:00",
          "2022-08-08T11:00:00",
          "2022-08-08T12:00:00",
          "2022-08-08T13:00:00",
          "2022-08-08T14:00:00",
          "2022-08-08T15:00:00",
          "2022-08-08T16:00:00",
          "2022-08-08T17:00:00",
          "2022-08-08T18:00:00",
          "2022-08-08T19:00:00",
          "2022-08-08T20:00:00",
          "2022-08-08T21:00:00",
          "2022-08-08T22:00:00",
          "2022-08-08T23:00:00",
          "2022-08-09T00:00:00",
          "2022-08-09T01:00:00",
          "2022-08-09T02:00:00",
          "2022-08-09T03:00:00",
          "2022-08-09T04:00:00",
          "2022-08-09T05:00:00",
          "2022-08-09T06:00:00",
          "2022-08-09T07:00:00",
          "2022-08-09T08:00:00",
          "2022-08-09T09:00:00",
          "2022-08-09T10:00:00",
          "2022-08-09T11:00:00",
          "2022-08-09T12:00:00",
          "2022-08-09T13:00:00",
          "2022-08-09T14:00:00",
          "2022-08-09T15:00:00",
          "2022-08-09T16:00:00",
          "2022-08-09T17:00:00",
          "2022-08-09T18:00:00",
          "2022-08-09T19:00:00",
          "2022-08-09T20:00:00",
          "2022-08-09T21:00:00",
          "2022-08-09T22:00:00",
          "2022-08-09T23:00:00",
          "2022-08-10T00:00:00",
          "2022-08-10T01:00:00",
          "2022-08-10T02:00:00",
          "2022-08-10T03:00:00",
          "2022-08-10T04:00:00",
          "2022-08-10T05:00:00",
          "2022-08-10T06:00:00",
          "2022-08-10T07:00:00",
          "2022-08-10T08:00:00",
          "2022-08-10T09:00:00",
          "2022-08-10T10:00:00",
          "2022-08-10T11:00:00",
          "2022-08-10T12:00:00",
          "2022-08-10T13:00:00",
          "2022-08-10T14:00:00",
          "2022-08-10T15:00:00",
          "2022-08-10T16:00:00",
          "2022-08-10T17:00:00",
          "2022-08-10T18:00:00",
          "2022-08-10T19:00:00",
          "2022-08-10T20:00:00",
          "2022-08-10T21:00:00",
          "2022-08-10T22:00:00",
          "2022-08-10T23:00:00",
          "2022-08-11T00:00:00",
          "2022-08-11T01:00:00",
          "2022-08-11T02:00:00",
          "2022-08-11T03:00:00",
          "2022-08-11T04:00:00",
          "2022-08-11T05:00:00",
          "2022-08-11T06:00:00",
          "2022-08-11T07:00:00",
          "2022-08-11T08:00:00",
          "2022-08-11T09:00:00",
          "2022-08-11T10:00:00",
          "2022-08-11T11:00:00",
          "2022-08-11T12:00:00",
          "2022-08-11T13:00:00",
          "2022-08-11T14:00:00",
          "2022-08-11T15:00:00",
          "2022-08-11T16:00:00",
          "2022-08-11T17:00:00",
          "2022-08-11T18:00:00",
          "2022-08-11T19:00:00",
          "2022-08-11T20:00:00",
          "2022-08-11T21:00:00",
          "2022-08-11T22:00:00",
          "2022-08-11T23:00:00",
          "2022-08-12T00:00:00",
          "2022-08-12T01:00:00",
          "2022-08-12T02:00:00",
          "2022-08-12T03:00:00",
          "2022-08-12T04:00:00",
          "2022-08-12T05:00:00",
          "2022-08-12T06:00:00",
          "2022-08-12T07:00:00",
          "2022-08-12T08:00:00",
          "2022-08-12T09:00:00",
          "2022-08-12T10:00:00",
          "2022-08-12T11:00:00",
          "2022-08-12T12:00:00",
          "2022-08-12T13:00:00",
          "2022-08-12T14:00:00",
          "2022-08-12T15:00:00",
          "2022-08-12T16:00:00",
          "2022-08-12T17:00:00",
          "2022-08-12T18:00:00",
          "2022-08-12T19:00:00",
          "2022-08-12T20:00:00",
          "2022-08-12T21:00:00",
          "2022-08-12T22:00:00",
          "2022-08-12T23:00:00",
          "2022-08-13T00:00:00",
          "2022-08-13T01:00:00",
          "2022-08-13T02:00:00",
          "2022-08-13T03:00:00",
          "2022-08-13T04:00:00",
          "2022-08-13T05:00:00",
          "2022-08-13T06:00:00",
          "2022-08-13T07:00:00",
          "2022-08-13T08:00:00",
          "2022-08-13T09:00:00",
          "2022-08-13T10:00:00",
          "2022-08-13T11:00:00",
          "2022-08-13T12:00:00",
          "2022-08-13T13:00:00",
          "2022-08-13T14:00:00",
          "2022-08-13T15:00:00",
          "2022-08-13T16:00:00",
          "2022-08-13T17:00:00",
          "2022-08-13T18:00:00",
          "2022-08-13T19:00:00",
          "2022-08-13T20:00:00",
          "2022-08-13T21:00:00",
          "2022-08-13T22:00:00",
          "2022-08-13T23:00:00",
          "2022-08-14T00:00:00",
          "2022-08-14T01:00:00",
          "2022-08-14T02:00:00",
          "2022-08-14T03:00:00",
          "2022-08-14T04:00:00",
          "2022-08-14T05:00:00",
          "2022-08-14T06:00:00",
          "2022-08-14T07:00:00",
          "2022-08-14T08:00:00",
          "2022-08-14T09:00:00",
          "2022-08-14T10:00:00",
          "2022-08-14T11:00:00",
          "2022-08-14T12:00:00",
          "2022-08-14T13:00:00",
          "2022-08-14T14:00:00",
          "2022-08-14T15:00:00",
          "2022-08-14T16:00:00",
          "2022-08-14T17:00:00",
          "2022-08-14T18:00:00",
          "2022-08-14T19:00:00",
          "2022-08-14T20:00:00",
          "2022-08-14T21:00:00",
          "2022-08-14T22:00:00",
          "2022-08-14T23:00:00",
          "2022-08-15T00:00:00",
          "2022-08-15T01:00:00",
          "2022-08-15T02:00:00",
          "2022-08-15T03:00:00",
          "2022-08-15T04:00:00",
          "2022-08-15T05:00:00",
          "2022-08-15T06:00:00",
          "2022-08-15T07:00:00",
          "2022-08-15T08:00:00",
          "2022-08-15T09:00:00",
          "2022-08-15T10:00:00",
          "2022-08-15T11:00:00",
          "2022-08-15T12:00:00",
          "2022-08-15T13:00:00",
          "2022-08-15T14:00:00",
          "2022-08-15T15:00:00",
          "2022-08-15T16:00:00",
          "2022-08-15T17:00:00",
          "2022-08-15T18:00:00",
          "2022-08-15T19:00:00",
          "2022-08-15T20:00:00",
          "2022-08-15T21:00:00",
          "2022-08-15T22:00:00",
          "2022-08-15T23:00:00",
          "2022-08-16T00:00:00",
          "2022-08-16T01:00:00",
          "2022-08-16T02:00:00",
          "2022-08-16T03:00:00",
          "2022-08-16T04:00:00",
          "2022-08-16T05:00:00",
          "2022-08-16T06:00:00",
          "2022-08-16T07:00:00",
          "2022-08-16T08:00:00",
          "2022-08-16T09:00:00",
          "2022-08-16T10:00:00",
          "2022-08-16T11:00:00",
          "2022-08-16T12:00:00",
          "2022-08-16T13:00:00",
          "2022-08-16T14:00:00",
          "2022-08-16T15:00:00",
          "2022-08-16T16:00:00",
          "2022-08-16T17:00:00",
          "2022-08-16T18:00:00",
          "2022-08-16T19:00:00",
          "2022-08-16T20:00:00",
          "2022-08-16T21:00:00",
          "2022-08-16T22:00:00",
          "2022-08-16T23:00:00",
          "2022-08-17T00:00:00",
          "2022-08-17T01:00:00",
          "2022-08-17T02:00:00",
          "2022-08-17T03:00:00",
          "2022-08-17T04:00:00",
          "2022-08-17T05:00:00",
          "2022-08-17T06:00:00",
          "2022-08-17T07:00:00",
          "2022-08-17T08:00:00",
          "2022-08-17T09:00:00",
          "2022-08-17T10:00:00",
          "2022-08-17T11:00:00",
          "2022-08-17T12:00:00",
          "2022-08-17T13:00:00",
          "2022-08-17T14:00:00",
          "2022-08-17T15:00:00",
          "2022-08-17T16:00:00",
          "2022-08-17T17:00:00",
          "2022-08-17T18:00:00",
          "2022-08-17T19:00:00",
          "2022-08-17T20:00:00",
          "2022-08-17T21:00:00",
          "2022-08-17T22:00:00",
          "2022-08-17T23:00:00",
          "2022-08-18T00:00:00",
          "2022-08-18T01:00:00",
          "2022-08-18T02:00:00",
          "2022-08-18T03:00:00",
          "2022-08-18T04:00:00",
          "2022-08-18T05:00:00",
          "2022-08-18T06:00:00",
          "2022-08-18T07:00:00",
          "2022-08-18T08:00:00",
          "2022-08-18T09:00:00",
          "2022-08-18T10:00:00",
          "2022-08-18T11:00:00",
          "2022-08-18T12:00:00",
          "2022-08-18T13:00:00",
          "2022-08-18T14:00:00",
          "2022-08-18T15:00:00",
          "2022-08-18T16:00:00",
          "2022-08-18T17:00:00",
          "2022-08-18T18:00:00",
          "2022-08-18T19:00:00",
          "2022-08-18T20:00:00",
          "2022-08-18T21:00:00",
          "2022-08-18T22:00:00",
          "2022-08-18T23:00:00",
          "2022-08-19T00:00:00",
          "2022-08-19T01:00:00",
          "2022-08-19T02:00:00",
          "2022-08-19T03:00:00",
          "2022-08-19T04:00:00",
          "2022-08-19T05:00:00",
          "2022-08-19T06:00:00",
          "2022-08-19T07:00:00",
          "2022-08-19T08:00:00",
          "2022-08-19T09:00:00",
          "2022-08-19T10:00:00",
          "2022-08-19T11:00:00",
          "2022-08-19T12:00:00",
          "2022-08-19T13:00:00",
          "2022-08-19T14:00:00",
          "2022-08-19T15:00:00",
          "2022-08-19T16:00:00",
          "2022-08-19T17:00:00",
          "2022-08-19T18:00:00",
          "2022-08-19T19:00:00",
          "2022-08-19T20:00:00",
          "2022-08-19T21:00:00",
          "2022-08-19T22:00:00",
          "2022-08-19T23:00:00",
          "2022-08-20T00:00:00",
          "2022-08-20T01:00:00",
          "2022-08-20T02:00:00",
          "2022-08-20T03:00:00",
          "2022-08-20T04:00:00",
          "2022-08-20T05:00:00",
          "2022-08-20T06:00:00",
          "2022-08-20T07:00:00",
          "2022-08-20T08:00:00",
          "2022-08-20T09:00:00",
          "2022-08-20T10:00:00",
          "2022-08-20T11:00:00",
          "2022-08-20T12:00:00",
          "2022-08-20T13:00:00",
          "2022-08-20T14:00:00",
          "2022-08-20T15:00:00",
          "2022-08-20T16:00:00",
          "2022-08-20T17:00:00",
          "2022-08-20T18:00:00",
          "2022-08-20T19:00:00",
          "2022-08-20T20:00:00",
          "2022-08-20T21:00:00",
          "2022-08-20T22:00:00",
          "2022-08-20T23:00:00",
          "2022-08-21T00:00:00",
          "2022-08-21T01:00:00",
          "2022-08-21T02:00:00",
          "2022-08-21T03:00:00",
          "2022-08-21T04:00:00",
          "2022-08-21T05:00:00",
          "2022-08-21T06:00:00",
          "2022-08-21T07:00:00",
          "2022-08-21T08:00:00",
          "2022-08-21T09:00:00",
          "2022-08-21T10:00:00",
          "2022-08-21T11:00:00",
          "2022-08-21T12:00:00",
          "2022-08-21T13:00:00",
          "2022-08-21T14:00:00",
          "2022-08-21T15:00:00",
          "2022-08-21T16:00:00",
          "2022-08-21T17:00:00",
          "2022-08-21T18:00:00",
          "2022-08-21T19:00:00",
          "2022-08-21T20:00:00",
          "2022-08-21T21:00:00",
          "2022-08-21T22:00:00",
          "2022-08-21T23:00:00",
          "2022-08-22T00:00:00",
          "2022-08-22T01:00:00",
          "2022-08-22T02:00:00",
          "2022-08-22T03:00:00",
          "2022-08-22T04:00:00",
          "2022-08-22T05:00:00",
          "2022-08-22T06:00:00",
          "2022-08-22T07:00:00",
          "2022-08-22T08:00:00",
          "2022-08-22T09:00:00",
          "2022-08-22T10:00:00",
          "2022-08-22T11:00:00",
          "2022-08-22T12:00:00",
          "2022-08-22T13:00:00",
          "2022-08-22T14:00:00",
          "2022-08-22T15:00:00",
          "2022-08-22T16:00:00",
          "2022-08-22T17:00:00",
          "2022-08-22T18:00:00",
          "2022-08-22T19:00:00",
          "2022-08-22T20:00:00",
          "2022-08-22T21:00:00",
          "2022-08-22T22:00:00",
          "2022-08-22T23:00:00",
          "2022-08-23T00:00:00",
          "2022-08-23T01:00:00",
          "2022-08-23T02:00:00",
          "2022-08-23T03:00:00",
          "2022-08-23T04:00:00",
          "2022-08-23T05:00:00",
          "2022-08-23T06:00:00",
          "2022-08-23T07:00:00",
          "2022-08-23T08:00:00",
          "2022-08-23T09:00:00",
          "2022-08-23T10:00:00",
          "2022-08-23T11:00:00",
          "2022-08-23T12:00:00",
          "2022-08-23T13:00:00",
          "2022-08-23T14:00:00",
          "2022-08-23T15:00:00",
          "2022-08-23T16:00:00",
          "2022-08-23T17:00:00",
          "2022-08-23T18:00:00",
          "2022-08-23T19:00:00",
          "2022-08-23T20:00:00",
          "2022-08-23T21:00:00",
          "2022-08-23T22:00:00",
          "2022-08-23T23:00:00",
          "2022-08-24T00:00:00",
          "2022-08-24T01:00:00",
          "2022-08-24T02:00:00",
          "2022-08-24T03:00:00",
          "2022-08-24T04:00:00",
          "2022-08-24T05:00:00",
          "2022-08-24T06:00:00",
          "2022-08-24T07:00:00",
          "2022-08-24T08:00:00",
          "2022-08-24T09:00:00",
          "2022-08-24T10:00:00",
          "2022-08-24T11:00:00",
          "2022-08-24T12:00:00",
          "2022-08-24T13:00:00",
          "2022-08-24T14:00:00",
          "2022-08-24T15:00:00",
          "2022-08-24T16:00:00",
          "2022-08-24T17:00:00",
          "2022-08-24T18:00:00",
          "2022-08-24T19:00:00",
          "2022-08-24T20:00:00",
          "2022-08-24T21:00:00",
          "2022-08-24T22:00:00",
          "2022-08-24T23:00:00",
          "2022-08-25T00:00:00",
          "2022-08-25T01:00:00",
          "2022-08-25T02:00:00",
          "2022-08-25T03:00:00",
          "2022-08-25T04:00:00",
          "2022-08-25T05:00:00",
          "2022-08-25T06:00:00",
          "2022-08-25T07:00:00",
          "2022-08-25T08:00:00",
          "2022-08-25T09:00:00",
          "2022-08-25T10:00:00",
          "2022-08-25T11:00:00",
          "2022-08-25T12:00:00",
          "2022-08-25T13:00:00",
          "2022-08-25T14:00:00",
          "2022-08-25T15:00:00",
          "2022-08-25T16:00:00",
          "2022-08-25T17:00:00",
          "2022-08-25T18:00:00",
          "2022-08-25T19:00:00",
          "2022-08-25T20:00:00",
          "2022-08-25T21:00:00",
          "2022-08-25T22:00:00",
          "2022-08-25T23:00:00",
          "2022-08-26T00:00:00",
          "2022-08-26T01:00:00",
          "2022-08-26T02:00:00",
          "2022-08-26T03:00:00",
          "2022-08-26T04:00:00",
          "2022-08-26T05:00:00",
          "2022-08-26T06:00:00",
          "2022-08-26T07:00:00",
          "2022-08-26T08:00:00",
          "2022-08-26T09:00:00",
          "2022-08-26T10:00:00",
          "2022-08-26T11:00:00",
          "2022-08-26T12:00:00",
          "2022-08-26T13:00:00",
          "2022-08-26T14:00:00",
          "2022-08-26T15:00:00",
          "2022-08-26T16:00:00",
          "2022-08-26T17:00:00",
          "2022-08-26T18:00:00",
          "2022-08-26T19:00:00",
          "2022-08-26T20:00:00",
          "2022-08-26T21:00:00",
          "2022-08-26T22:00:00",
          "2022-08-26T23:00:00",
          "2022-08-27T00:00:00",
          "2022-08-27T01:00:00",
          "2022-08-27T02:00:00",
          "2022-08-27T03:00:00",
          "2022-08-27T04:00:00",
          "2022-08-27T05:00:00",
          "2022-08-27T06:00:00",
          "2022-08-27T07:00:00",
          "2022-08-27T08:00:00",
          "2022-08-27T09:00:00",
          "2022-08-27T10:00:00",
          "2022-08-27T11:00:00",
          "2022-08-27T12:00:00",
          "2022-08-27T13:00:00",
          "2022-08-27T14:00:00",
          "2022-08-27T15:00:00",
          "2022-08-27T16:00:00",
          "2022-08-27T17:00:00",
          "2022-08-27T18:00:00",
          "2022-08-27T19:00:00",
          "2022-08-27T20:00:00",
          "2022-08-27T21:00:00",
          "2022-08-27T22:00:00",
          "2022-08-27T23:00:00",
          "2022-08-28T00:00:00",
          "2022-08-28T01:00:00",
          "2022-08-28T02:00:00",
          "2022-08-28T03:00:00",
          "2022-08-28T04:00:00",
          "2022-08-28T05:00:00",
          "2022-08-28T06:00:00",
          "2022-08-28T07:00:00",
          "2022-08-28T08:00:00",
          "2022-08-28T09:00:00",
          "2022-08-28T10:00:00",
          "2022-08-28T11:00:00",
          "2022-08-28T12:00:00",
          "2022-08-28T13:00:00",
          "2022-08-28T14:00:00",
          "2022-08-28T15:00:00",
          "2022-08-28T16:00:00",
          "2022-08-28T17:00:00",
          "2022-08-28T18:00:00",
          "2022-08-28T19:00:00",
          "2022-08-28T20:00:00",
          "2022-08-28T21:00:00",
          "2022-08-28T22:00:00",
          "2022-08-28T23:00:00",
          "2022-08-29T00:00:00",
          "2022-08-29T01:00:00",
          "2022-08-29T02:00:00",
          "2022-08-29T03:00:00",
          "2022-08-29T04:00:00",
          "2022-08-29T05:00:00",
          "2022-08-29T06:00:00",
          "2022-08-29T07:00:00",
          "2022-08-29T08:00:00",
          "2022-08-29T09:00:00",
          "2022-08-29T10:00:00",
          "2022-08-29T11:00:00",
          "2022-08-29T12:00:00",
          "2022-08-29T13:00:00",
          "2022-08-29T14:00:00",
          "2022-08-29T15:00:00",
          "2022-08-29T16:00:00",
          "2022-08-29T17:00:00",
          "2022-08-29T18:00:00",
          "2022-08-29T19:00:00",
          "2022-08-29T20:00:00",
          "2022-08-29T21:00:00",
          "2022-08-29T22:00:00",
          "2022-08-29T23:00:00",
          "2022-08-30T00:00:00"
         ],
         "xaxis": "x",
         "y": [
          0,
          0,
          0,
          0,
          1,
          1,
          2,
          2,
          8,
          6,
          1,
          1,
          4,
          2,
          4,
          3,
          3,
          2,
          4,
          7,
          8,
          2,
          3,
          3,
          4,
          2,
          0,
          0,
          0,
          0,
          2,
          3,
          10,
          9,
          2,
          4,
          7,
          4,
          4,
          6,
          4,
          3,
          5,
          5,
          2,
          4,
          6,
          4,
          3,
          2,
          0,
          0,
          0,
          0,
          3,
          4,
          7,
          8,
          6,
          1,
          8,
          1,
          3,
          3,
          3,
          8,
          10,
          6,
          4,
          9,
          11,
          15,
          8,
          8,
          5,
          3,
          2,
          1,
          0,
          2,
          8,
          6,
          6,
          3,
          3,
          4,
          5,
          4,
          3,
          7,
          4,
          18,
          3,
          5,
          8,
          17,
          39,
          46,
          25,
          24,
          4,
          1,
          1,
          0,
          2,
          1,
          6,
          6,
          6,
          15,
          4,
          7,
          4,
          12,
          7,
          5,
          9,
          12,
          5,
          15,
          25,
          32,
          26,
          10,
          7,
          2,
          0,
          0,
          3,
          1,
          4,
          4,
          4,
          8,
          4,
          3,
          4,
          3,
          4,
          5,
          3,
          5,
          2,
          4,
          1,
          0,
          0,
          0,
          0,
          0,
          3,
          1,
          9,
          4,
          1,
          1,
          5,
          2,
          4,
          1,
          3,
          4,
          7,
          4,
          4,
          3,
          2,
          1,
          3,
          2,
          1,
          0,
          1,
          0,
          2,
          7,
          10,
          4,
          5,
          2,
          7,
          6,
          4,
          6,
          5,
          5,
          3,
          4,
          3,
          7,
          9,
          3,
          5,
          3,
          1,
          3,
          0,
          0,
          2,
          2,
          11,
          8,
          2,
          2,
          1,
          1,
          2,
          0,
          5,
          1,
          6,
          2,
          1,
          2,
          3,
          3,
          9,
          3,
          1,
          0,
          0,
          0,
          3,
          6,
          7,
          3,
          3,
          3,
          5,
          6,
          4,
          3,
          4,
          7,
          8,
          0,
          2,
          6,
          8,
          15,
          14,
          8,
          7,
          2,
          1,
          1,
          1,
          3,
          6,
          4,
          4,
          4,
          2,
          8,
          9,
          8,
          4,
          7,
          8,
          5,
          4,
          6,
          11,
          24,
          21,
          32,
          38,
          31,
          7,
          2,
          3,
          1,
          1,
          2,
          1,
          4,
          6,
          3,
          9,
          4,
          1,
          11,
          4,
          6,
          5,
          7,
          10,
          23,
          34,
          34,
          41,
          31,
          5,
          0,
          1,
          3,
          2,
          2,
          2,
          0,
          6,
          3,
          5,
          4,
          2,
          4,
          10,
          4,
          2,
          2,
          4,
          1,
          0,
          0,
          0,
          0,
          0,
          1,
          3,
          1,
          4,
          2,
          5,
          4,
          2,
          0,
          4,
          5,
          0,
          2,
          4,
          2,
          2,
          8,
          4,
          1,
          2,
          1,
          1,
          0,
          3,
          0,
          2,
          3,
          6,
          4,
          4,
          3,
          6,
          5,
          4,
          2,
          7,
          3,
          1,
          2,
          2,
          1,
          3,
          4,
          1,
          0,
          0,
          1,
          0,
          1,
          2,
          2,
          8,
          8,
          2,
          1,
          1,
          4,
          2,
          1,
          2,
          6,
          4,
          2,
          3,
          6,
          8,
          10,
          2,
          2,
          0,
          2,
          1,
          2,
          2,
          1,
          8,
          8,
          1,
          0,
          3,
          0,
          5,
          2,
          6,
          4,
          4,
          8,
          5,
          6,
          5,
          8,
          9,
          5,
          8,
          0,
          0,
          1,
          3,
          4,
          2,
          4,
          1,
          3,
          3,
          2,
          5,
          5,
          2,
          5,
          10,
          11,
          5,
          6,
          7,
          22,
          34,
          34,
          37,
          27,
          5,
          2,
          0,
          3,
          3,
          1,
          5,
          5,
          5,
          4,
          5,
          8,
          5,
          6,
          8,
          4,
          7,
          11,
          9,
          21,
          34,
          30,
          21,
          9,
          6,
          3,
          2,
          1,
          1,
          2,
          4,
          1,
          4,
          8,
          2,
          6,
          4,
          2,
          3,
          2,
          3,
          2,
          1,
          5,
          1,
          0,
          0,
          0,
          0,
          0,
          3,
          1,
          4,
          2,
          7,
          3,
          2,
          0,
          4,
          2,
          3,
          2,
          2,
          2,
          1,
          2,
          3,
          3,
          1,
          0,
          0,
          1,
          0,
          1,
          0,
          1,
          6,
          8,
          5,
          3,
          2,
          3,
          1,
          1,
          4,
          7,
          5,
          2,
          4,
          1,
          7,
          8,
          2,
          0,
          0,
          0,
          0,
          0,
          1,
          4,
          4,
          3,
          1,
          1,
          2,
          0,
          3,
          2,
          4,
          4,
          6,
          4,
          5,
          5,
          5,
          2,
          2,
          2,
          2,
          2,
          0,
          2,
          2,
          1,
          5,
          3,
          3,
          4,
          4,
          4,
          1,
          3,
          6,
          4,
          6,
          5,
          2,
          6,
          4,
          9,
          14,
          12,
          3,
          2,
          0,
          1,
          1,
          2,
          0,
          2,
          3,
          4,
          4,
          4,
          0,
          5,
          6,
          3,
          3,
          6,
          8,
          6,
          6,
          19,
          30,
          44,
          29,
          13,
          2,
          0,
          0,
          1,
          2,
          2,
          3,
          2,
          7,
          3,
          1,
          9,
          8,
          7,
          7,
          6,
          6,
          3,
          8,
          19,
          27,
          32,
          37,
          18,
          3,
          1,
          1,
          1,
          1,
          0,
          0,
          1,
          2,
          4,
          1,
          6,
          7,
          5,
          6,
          5,
          4,
          4,
          5,
          3,
          1,
          1,
          1,
          0,
          0,
          0,
          0,
          3,
          6,
          3,
          3,
          2,
          2,
          0,
          2,
          2,
          4,
          1,
          3,
          2,
          3,
          3,
          2,
          3,
          3
         ],
         "yaxis": "y"
        },
        {
         "line": {
          "color": "green"
         },
         "marker": {
          "size": 10
         },
         "mode": "markers",
         "name": "actual value",
         "type": "scatter",
         "x": [
          "2022-08-30T00:00:00"
         ],
         "y": [
          3
         ]
        },
        {
         "line": {
          "color": "red"
         },
         "marker": {
          "size": 15,
          "symbol": "x"
         },
         "mode": "markers",
         "name": "prediction",
         "type": "scatter",
         "x": [
          "2022-08-30T00:00:00"
         ],
         "y": [
          1.635340751245748
         ]
        }
       ],
       "layout": {
        "legend": {
         "tracegroupgap": 0
        },
        "template": {
         "data": {
          "bar": [
           {
            "error_x": {
             "color": "#f2f5fa"
            },
            "error_y": {
             "color": "#f2f5fa"
            },
            "marker": {
             "line": {
              "color": "rgb(17,17,17)",
              "width": 0.5
             },
             "pattern": {
              "fillmode": "overlay",
              "size": 10,
              "solidity": 0.2
             }
            },
            "type": "bar"
           }
          ],
          "barpolar": [
           {
            "marker": {
             "line": {
              "color": "rgb(17,17,17)",
              "width": 0.5
             },
             "pattern": {
              "fillmode": "overlay",
              "size": 10,
              "solidity": 0.2
             }
            },
            "type": "barpolar"
           }
          ],
          "carpet": [
           {
            "aaxis": {
             "endlinecolor": "#A2B1C6",
             "gridcolor": "#506784",
             "linecolor": "#506784",
             "minorgridcolor": "#506784",
             "startlinecolor": "#A2B1C6"
            },
            "baxis": {
             "endlinecolor": "#A2B1C6",
             "gridcolor": "#506784",
             "linecolor": "#506784",
             "minorgridcolor": "#506784",
             "startlinecolor": "#A2B1C6"
            },
            "type": "carpet"
           }
          ],
          "choropleth": [
           {
            "colorbar": {
             "outlinewidth": 0,
             "ticks": ""
            },
            "type": "choropleth"
           }
          ],
          "contour": [
           {
            "colorbar": {
             "outlinewidth": 0,
             "ticks": ""
            },
            "colorscale": [
             [
              0,
              "#0d0887"
             ],
             [
              0.1111111111111111,
              "#46039f"
             ],
             [
              0.2222222222222222,
              "#7201a8"
             ],
             [
              0.3333333333333333,
              "#9c179e"
             ],
             [
              0.4444444444444444,
              "#bd3786"
             ],
             [
              0.5555555555555556,
              "#d8576b"
             ],
             [
              0.6666666666666666,
              "#ed7953"
             ],
             [
              0.7777777777777778,
              "#fb9f3a"
             ],
             [
              0.8888888888888888,
              "#fdca26"
             ],
             [
              1,
              "#f0f921"
             ]
            ],
            "type": "contour"
           }
          ],
          "contourcarpet": [
           {
            "colorbar": {
             "outlinewidth": 0,
             "ticks": ""
            },
            "type": "contourcarpet"
           }
          ],
          "heatmap": [
           {
            "colorbar": {
             "outlinewidth": 0,
             "ticks": ""
            },
            "colorscale": [
             [
              0,
              "#0d0887"
             ],
             [
              0.1111111111111111,
              "#46039f"
             ],
             [
              0.2222222222222222,
              "#7201a8"
             ],
             [
              0.3333333333333333,
              "#9c179e"
             ],
             [
              0.4444444444444444,
              "#bd3786"
             ],
             [
              0.5555555555555556,
              "#d8576b"
             ],
             [
              0.6666666666666666,
              "#ed7953"
             ],
             [
              0.7777777777777778,
              "#fb9f3a"
             ],
             [
              0.8888888888888888,
              "#fdca26"
             ],
             [
              1,
              "#f0f921"
             ]
            ],
            "type": "heatmap"
           }
          ],
          "heatmapgl": [
           {
            "colorbar": {
             "outlinewidth": 0,
             "ticks": ""
            },
            "colorscale": [
             [
              0,
              "#0d0887"
             ],
             [
              0.1111111111111111,
              "#46039f"
             ],
             [
              0.2222222222222222,
              "#7201a8"
             ],
             [
              0.3333333333333333,
              "#9c179e"
             ],
             [
              0.4444444444444444,
              "#bd3786"
             ],
             [
              0.5555555555555556,
              "#d8576b"
             ],
             [
              0.6666666666666666,
              "#ed7953"
             ],
             [
              0.7777777777777778,
              "#fb9f3a"
             ],
             [
              0.8888888888888888,
              "#fdca26"
             ],
             [
              1,
              "#f0f921"
             ]
            ],
            "type": "heatmapgl"
           }
          ],
          "histogram": [
           {
            "marker": {
             "pattern": {
              "fillmode": "overlay",
              "size": 10,
              "solidity": 0.2
             }
            },
            "type": "histogram"
           }
          ],
          "histogram2d": [
           {
            "colorbar": {
             "outlinewidth": 0,
             "ticks": ""
            },
            "colorscale": [
             [
              0,
              "#0d0887"
             ],
             [
              0.1111111111111111,
              "#46039f"
             ],
             [
              0.2222222222222222,
              "#7201a8"
             ],
             [
              0.3333333333333333,
              "#9c179e"
             ],
             [
              0.4444444444444444,
              "#bd3786"
             ],
             [
              0.5555555555555556,
              "#d8576b"
             ],
             [
              0.6666666666666666,
              "#ed7953"
             ],
             [
              0.7777777777777778,
              "#fb9f3a"
             ],
             [
              0.8888888888888888,
              "#fdca26"
             ],
             [
              1,
              "#f0f921"
             ]
            ],
            "type": "histogram2d"
           }
          ],
          "histogram2dcontour": [
           {
            "colorbar": {
             "outlinewidth": 0,
             "ticks": ""
            },
            "colorscale": [
             [
              0,
              "#0d0887"
             ],
             [
              0.1111111111111111,
              "#46039f"
             ],
             [
              0.2222222222222222,
              "#7201a8"
             ],
             [
              0.3333333333333333,
              "#9c179e"
             ],
             [
              0.4444444444444444,
              "#bd3786"
             ],
             [
              0.5555555555555556,
              "#d8576b"
             ],
             [
              0.6666666666666666,
              "#ed7953"
             ],
             [
              0.7777777777777778,
              "#fb9f3a"
             ],
             [
              0.8888888888888888,
              "#fdca26"
             ],
             [
              1,
              "#f0f921"
             ]
            ],
            "type": "histogram2dcontour"
           }
          ],
          "mesh3d": [
           {
            "colorbar": {
             "outlinewidth": 0,
             "ticks": ""
            },
            "type": "mesh3d"
           }
          ],
          "parcoords": [
           {
            "line": {
             "colorbar": {
              "outlinewidth": 0,
              "ticks": ""
             }
            },
            "type": "parcoords"
           }
          ],
          "pie": [
           {
            "automargin": true,
            "type": "pie"
           }
          ],
          "scatter": [
           {
            "marker": {
             "line": {
              "color": "#283442"
             }
            },
            "type": "scatter"
           }
          ],
          "scatter3d": [
           {
            "line": {
             "colorbar": {
              "outlinewidth": 0,
              "ticks": ""
             }
            },
            "marker": {
             "colorbar": {
              "outlinewidth": 0,
              "ticks": ""
             }
            },
            "type": "scatter3d"
           }
          ],
          "scattercarpet": [
           {
            "marker": {
             "colorbar": {
              "outlinewidth": 0,
              "ticks": ""
             }
            },
            "type": "scattercarpet"
           }
          ],
          "scattergeo": [
           {
            "marker": {
             "colorbar": {
              "outlinewidth": 0,
              "ticks": ""
             }
            },
            "type": "scattergeo"
           }
          ],
          "scattergl": [
           {
            "marker": {
             "line": {
              "color": "#283442"
             }
            },
            "type": "scattergl"
           }
          ],
          "scattermapbox": [
           {
            "marker": {
             "colorbar": {
              "outlinewidth": 0,
              "ticks": ""
             }
            },
            "type": "scattermapbox"
           }
          ],
          "scatterpolar": [
           {
            "marker": {
             "colorbar": {
              "outlinewidth": 0,
              "ticks": ""
             }
            },
            "type": "scatterpolar"
           }
          ],
          "scatterpolargl": [
           {
            "marker": {
             "colorbar": {
              "outlinewidth": 0,
              "ticks": ""
             }
            },
            "type": "scatterpolargl"
           }
          ],
          "scatterternary": [
           {
            "marker": {
             "colorbar": {
              "outlinewidth": 0,
              "ticks": ""
             }
            },
            "type": "scatterternary"
           }
          ],
          "surface": [
           {
            "colorbar": {
             "outlinewidth": 0,
             "ticks": ""
            },
            "colorscale": [
             [
              0,
              "#0d0887"
             ],
             [
              0.1111111111111111,
              "#46039f"
             ],
             [
              0.2222222222222222,
              "#7201a8"
             ],
             [
              0.3333333333333333,
              "#9c179e"
             ],
             [
              0.4444444444444444,
              "#bd3786"
             ],
             [
              0.5555555555555556,
              "#d8576b"
             ],
             [
              0.6666666666666666,
              "#ed7953"
             ],
             [
              0.7777777777777778,
              "#fb9f3a"
             ],
             [
              0.8888888888888888,
              "#fdca26"
             ],
             [
              1,
              "#f0f921"
             ]
            ],
            "type": "surface"
           }
          ],
          "table": [
           {
            "cells": {
             "fill": {
              "color": "#506784"
             },
             "line": {
              "color": "rgb(17,17,17)"
             }
            },
            "header": {
             "fill": {
              "color": "#2a3f5f"
             },
             "line": {
              "color": "rgb(17,17,17)"
             }
            },
            "type": "table"
           }
          ]
         },
         "layout": {
          "annotationdefaults": {
           "arrowcolor": "#f2f5fa",
           "arrowhead": 0,
           "arrowwidth": 1
          },
          "autotypenumbers": "strict",
          "coloraxis": {
           "colorbar": {
            "outlinewidth": 0,
            "ticks": ""
           }
          },
          "colorscale": {
           "diverging": [
            [
             0,
             "#8e0152"
            ],
            [
             0.1,
             "#c51b7d"
            ],
            [
             0.2,
             "#de77ae"
            ],
            [
             0.3,
             "#f1b6da"
            ],
            [
             0.4,
             "#fde0ef"
            ],
            [
             0.5,
             "#f7f7f7"
            ],
            [
             0.6,
             "#e6f5d0"
            ],
            [
             0.7,
             "#b8e186"
            ],
            [
             0.8,
             "#7fbc41"
            ],
            [
             0.9,
             "#4d9221"
            ],
            [
             1,
             "#276419"
            ]
           ],
           "sequential": [
            [
             0,
             "#0d0887"
            ],
            [
             0.1111111111111111,
             "#46039f"
            ],
            [
             0.2222222222222222,
             "#7201a8"
            ],
            [
             0.3333333333333333,
             "#9c179e"
            ],
            [
             0.4444444444444444,
             "#bd3786"
            ],
            [
             0.5555555555555556,
             "#d8576b"
            ],
            [
             0.6666666666666666,
             "#ed7953"
            ],
            [
             0.7777777777777778,
             "#fb9f3a"
            ],
            [
             0.8888888888888888,
             "#fdca26"
            ],
            [
             1,
             "#f0f921"
            ]
           ],
           "sequentialminus": [
            [
             0,
             "#0d0887"
            ],
            [
             0.1111111111111111,
             "#46039f"
            ],
            [
             0.2222222222222222,
             "#7201a8"
            ],
            [
             0.3333333333333333,
             "#9c179e"
            ],
            [
             0.4444444444444444,
             "#bd3786"
            ],
            [
             0.5555555555555556,
             "#d8576b"
            ],
            [
             0.6666666666666666,
             "#ed7953"
            ],
            [
             0.7777777777777778,
             "#fb9f3a"
            ],
            [
             0.8888888888888888,
             "#fdca26"
            ],
            [
             1,
             "#f0f921"
            ]
           ]
          },
          "colorway": [
           "#636efa",
           "#EF553B",
           "#00cc96",
           "#ab63fa",
           "#FFA15A",
           "#19d3f3",
           "#FF6692",
           "#B6E880",
           "#FF97FF",
           "#FECB52"
          ],
          "font": {
           "color": "#f2f5fa"
          },
          "geo": {
           "bgcolor": "rgb(17,17,17)",
           "lakecolor": "rgb(17,17,17)",
           "landcolor": "rgb(17,17,17)",
           "showlakes": true,
           "showland": true,
           "subunitcolor": "#506784"
          },
          "hoverlabel": {
           "align": "left"
          },
          "hovermode": "closest",
          "mapbox": {
           "style": "dark"
          },
          "paper_bgcolor": "rgb(17,17,17)",
          "plot_bgcolor": "rgb(17,17,17)",
          "polar": {
           "angularaxis": {
            "gridcolor": "#506784",
            "linecolor": "#506784",
            "ticks": ""
           },
           "bgcolor": "rgb(17,17,17)",
           "radialaxis": {
            "gridcolor": "#506784",
            "linecolor": "#506784",
            "ticks": ""
           }
          },
          "scene": {
           "xaxis": {
            "backgroundcolor": "rgb(17,17,17)",
            "gridcolor": "#506784",
            "gridwidth": 2,
            "linecolor": "#506784",
            "showbackground": true,
            "ticks": "",
            "zerolinecolor": "#C8D4E3"
           },
           "yaxis": {
            "backgroundcolor": "rgb(17,17,17)",
            "gridcolor": "#506784",
            "gridwidth": 2,
            "linecolor": "#506784",
            "showbackground": true,
            "ticks": "",
            "zerolinecolor": "#C8D4E3"
           },
           "zaxis": {
            "backgroundcolor": "rgb(17,17,17)",
            "gridcolor": "#506784",
            "gridwidth": 2,
            "linecolor": "#506784",
            "showbackground": true,
            "ticks": "",
            "zerolinecolor": "#C8D4E3"
           }
          },
          "shapedefaults": {
           "line": {
            "color": "#f2f5fa"
           }
          },
          "sliderdefaults": {
           "bgcolor": "#C8D4E3",
           "bordercolor": "rgb(17,17,17)",
           "borderwidth": 1,
           "tickwidth": 0
          },
          "ternary": {
           "aaxis": {
            "gridcolor": "#506784",
            "linecolor": "#506784",
            "ticks": ""
           },
           "baxis": {
            "gridcolor": "#506784",
            "linecolor": "#506784",
            "ticks": ""
           },
           "bgcolor": "rgb(17,17,17)",
           "caxis": {
            "gridcolor": "#506784",
            "linecolor": "#506784",
            "ticks": ""
           }
          },
          "title": {
           "x": 0.05
          },
          "updatemenudefaults": {
           "bgcolor": "#506784",
           "borderwidth": 0
          },
          "xaxis": {
           "automargin": true,
           "gridcolor": "#283442",
           "linecolor": "#506784",
           "ticks": "",
           "title": {
            "standoff": 15
           },
           "zerolinecolor": "#283442",
           "zerolinewidth": 2
          },
          "yaxis": {
           "automargin": true,
           "gridcolor": "#283442",
           "linecolor": "#506784",
           "ticks": "",
           "title": {
            "standoff": 15
           },
           "zerolinecolor": "#283442",
           "zerolinewidth": 2
          }
         }
        },
        "title": {
         "text": "Pick up hour=2022-08-30 00:00:00, location_id=4"
        },
        "xaxis": {
         "anchor": "y",
         "domain": [
          0,
          1
         ],
         "title": {
          "text": "x"
         }
        },
        "yaxis": {
         "anchor": "x",
         "domain": [
          0,
          1
         ],
         "title": {
          "text": "y"
         }
        }
       }
      }
     },
     "metadata": {},
     "output_type": "display_data"
    }
   ],
   "source": [
    "from src.plot import plot_one_sample\n",
    "\n",
    "plot_one_sample(\n",
    "    example_id=90,\n",
    "    features=X_test,\n",
    "    targets=y_test,\n",
    "    predictions=pd.Series(predictions)\n",
    ")"
   ]
  },
  {
   "cell_type": "code",
   "execution_count": 33,
   "metadata": {},
   "outputs": [
    {
     "data": {
      "application/vnd.plotly.v1+json": {
       "config": {
        "plotlyServerURL": "https://plot.ly"
       },
       "data": [
        {
         "hovertemplate": "x=%{x}<br>y=%{y}<extra></extra>",
         "legendgroup": "",
         "line": {
          "color": "#636efa",
          "dash": "solid"
         },
         "marker": {
          "symbol": "circle"
         },
         "mode": "markers+lines",
         "name": "",
         "orientation": "v",
         "showlegend": false,
         "type": "scatter",
         "x": [
          "2022-09-16T00:00:00",
          "2022-09-16T01:00:00",
          "2022-09-16T02:00:00",
          "2022-09-16T03:00:00",
          "2022-09-16T04:00:00",
          "2022-09-16T05:00:00",
          "2022-09-16T06:00:00",
          "2022-09-16T07:00:00",
          "2022-09-16T08:00:00",
          "2022-09-16T09:00:00",
          "2022-09-16T10:00:00",
          "2022-09-16T11:00:00",
          "2022-09-16T12:00:00",
          "2022-09-16T13:00:00",
          "2022-09-16T14:00:00",
          "2022-09-16T15:00:00",
          "2022-09-16T16:00:00",
          "2022-09-16T17:00:00",
          "2022-09-16T18:00:00",
          "2022-09-16T19:00:00",
          "2022-09-16T20:00:00",
          "2022-09-16T21:00:00",
          "2022-09-16T22:00:00",
          "2022-09-16T23:00:00",
          "2022-09-17T00:00:00",
          "2022-09-17T01:00:00",
          "2022-09-17T02:00:00",
          "2022-09-17T03:00:00",
          "2022-09-17T04:00:00",
          "2022-09-17T05:00:00",
          "2022-09-17T06:00:00",
          "2022-09-17T07:00:00",
          "2022-09-17T08:00:00",
          "2022-09-17T09:00:00",
          "2022-09-17T10:00:00",
          "2022-09-17T11:00:00",
          "2022-09-17T12:00:00",
          "2022-09-17T13:00:00",
          "2022-09-17T14:00:00",
          "2022-09-17T15:00:00",
          "2022-09-17T16:00:00",
          "2022-09-17T17:00:00",
          "2022-09-17T18:00:00",
          "2022-09-17T19:00:00",
          "2022-09-17T20:00:00",
          "2022-09-17T21:00:00",
          "2022-09-17T22:00:00",
          "2022-09-17T23:00:00",
          "2022-09-18T00:00:00",
          "2022-09-18T01:00:00",
          "2022-09-18T02:00:00",
          "2022-09-18T03:00:00",
          "2022-09-18T04:00:00",
          "2022-09-18T05:00:00",
          "2022-09-18T06:00:00",
          "2022-09-18T07:00:00",
          "2022-09-18T08:00:00",
          "2022-09-18T09:00:00",
          "2022-09-18T10:00:00",
          "2022-09-18T11:00:00",
          "2022-09-18T12:00:00",
          "2022-09-18T13:00:00",
          "2022-09-18T14:00:00",
          "2022-09-18T15:00:00",
          "2022-09-18T16:00:00",
          "2022-09-18T17:00:00",
          "2022-09-18T18:00:00",
          "2022-09-18T19:00:00",
          "2022-09-18T20:00:00",
          "2022-09-18T21:00:00",
          "2022-09-18T22:00:00",
          "2022-09-18T23:00:00",
          "2022-09-19T00:00:00",
          "2022-09-19T01:00:00",
          "2022-09-19T02:00:00",
          "2022-09-19T03:00:00",
          "2022-09-19T04:00:00",
          "2022-09-19T05:00:00",
          "2022-09-19T06:00:00",
          "2022-09-19T07:00:00",
          "2022-09-19T08:00:00",
          "2022-09-19T09:00:00",
          "2022-09-19T10:00:00",
          "2022-09-19T11:00:00",
          "2022-09-19T12:00:00",
          "2022-09-19T13:00:00",
          "2022-09-19T14:00:00",
          "2022-09-19T15:00:00",
          "2022-09-19T16:00:00",
          "2022-09-19T17:00:00",
          "2022-09-19T18:00:00",
          "2022-09-19T19:00:00",
          "2022-09-19T20:00:00",
          "2022-09-19T21:00:00",
          "2022-09-19T22:00:00",
          "2022-09-19T23:00:00",
          "2022-09-20T00:00:00",
          "2022-09-20T01:00:00",
          "2022-09-20T02:00:00",
          "2022-09-20T03:00:00",
          "2022-09-20T04:00:00",
          "2022-09-20T05:00:00",
          "2022-09-20T06:00:00",
          "2022-09-20T07:00:00",
          "2022-09-20T08:00:00",
          "2022-09-20T09:00:00",
          "2022-09-20T10:00:00",
          "2022-09-20T11:00:00",
          "2022-09-20T12:00:00",
          "2022-09-20T13:00:00",
          "2022-09-20T14:00:00",
          "2022-09-20T15:00:00",
          "2022-09-20T16:00:00",
          "2022-09-20T17:00:00",
          "2022-09-20T18:00:00",
          "2022-09-20T19:00:00",
          "2022-09-20T20:00:00",
          "2022-09-20T21:00:00",
          "2022-09-20T22:00:00",
          "2022-09-20T23:00:00",
          "2022-09-21T00:00:00",
          "2022-09-21T01:00:00",
          "2022-09-21T02:00:00",
          "2022-09-21T03:00:00",
          "2022-09-21T04:00:00",
          "2022-09-21T05:00:00",
          "2022-09-21T06:00:00",
          "2022-09-21T07:00:00",
          "2022-09-21T08:00:00",
          "2022-09-21T09:00:00",
          "2022-09-21T10:00:00",
          "2022-09-21T11:00:00",
          "2022-09-21T12:00:00",
          "2022-09-21T13:00:00",
          "2022-09-21T14:00:00",
          "2022-09-21T15:00:00",
          "2022-09-21T16:00:00",
          "2022-09-21T17:00:00",
          "2022-09-21T18:00:00",
          "2022-09-21T19:00:00",
          "2022-09-21T20:00:00",
          "2022-09-21T21:00:00",
          "2022-09-21T22:00:00",
          "2022-09-21T23:00:00",
          "2022-09-22T00:00:00",
          "2022-09-22T01:00:00",
          "2022-09-22T02:00:00",
          "2022-09-22T03:00:00",
          "2022-09-22T04:00:00",
          "2022-09-22T05:00:00",
          "2022-09-22T06:00:00",
          "2022-09-22T07:00:00",
          "2022-09-22T08:00:00",
          "2022-09-22T09:00:00",
          "2022-09-22T10:00:00",
          "2022-09-22T11:00:00",
          "2022-09-22T12:00:00",
          "2022-09-22T13:00:00",
          "2022-09-22T14:00:00",
          "2022-09-22T15:00:00",
          "2022-09-22T16:00:00",
          "2022-09-22T17:00:00",
          "2022-09-22T18:00:00",
          "2022-09-22T19:00:00",
          "2022-09-22T20:00:00",
          "2022-09-22T21:00:00",
          "2022-09-22T22:00:00",
          "2022-09-22T23:00:00",
          "2022-09-23T00:00:00",
          "2022-09-23T01:00:00",
          "2022-09-23T02:00:00",
          "2022-09-23T03:00:00",
          "2022-09-23T04:00:00",
          "2022-09-23T05:00:00",
          "2022-09-23T06:00:00",
          "2022-09-23T07:00:00",
          "2022-09-23T08:00:00",
          "2022-09-23T09:00:00",
          "2022-09-23T10:00:00",
          "2022-09-23T11:00:00",
          "2022-09-23T12:00:00",
          "2022-09-23T13:00:00",
          "2022-09-23T14:00:00",
          "2022-09-23T15:00:00",
          "2022-09-23T16:00:00",
          "2022-09-23T17:00:00",
          "2022-09-23T18:00:00",
          "2022-09-23T19:00:00",
          "2022-09-23T20:00:00",
          "2022-09-23T21:00:00",
          "2022-09-23T22:00:00",
          "2022-09-23T23:00:00",
          "2022-09-24T00:00:00",
          "2022-09-24T01:00:00",
          "2022-09-24T02:00:00",
          "2022-09-24T03:00:00",
          "2022-09-24T04:00:00",
          "2022-09-24T05:00:00",
          "2022-09-24T06:00:00",
          "2022-09-24T07:00:00",
          "2022-09-24T08:00:00",
          "2022-09-24T09:00:00",
          "2022-09-24T10:00:00",
          "2022-09-24T11:00:00",
          "2022-09-24T12:00:00",
          "2022-09-24T13:00:00",
          "2022-09-24T14:00:00",
          "2022-09-24T15:00:00",
          "2022-09-24T16:00:00",
          "2022-09-24T17:00:00",
          "2022-09-24T18:00:00",
          "2022-09-24T19:00:00",
          "2022-09-24T20:00:00",
          "2022-09-24T21:00:00",
          "2022-09-24T22:00:00",
          "2022-09-24T23:00:00",
          "2022-09-25T00:00:00",
          "2022-09-25T01:00:00",
          "2022-09-25T02:00:00",
          "2022-09-25T03:00:00",
          "2022-09-25T04:00:00",
          "2022-09-25T05:00:00",
          "2022-09-25T06:00:00",
          "2022-09-25T07:00:00",
          "2022-09-25T08:00:00",
          "2022-09-25T09:00:00",
          "2022-09-25T10:00:00",
          "2022-09-25T11:00:00",
          "2022-09-25T12:00:00",
          "2022-09-25T13:00:00",
          "2022-09-25T14:00:00",
          "2022-09-25T15:00:00",
          "2022-09-25T16:00:00",
          "2022-09-25T17:00:00",
          "2022-09-25T18:00:00",
          "2022-09-25T19:00:00",
          "2022-09-25T20:00:00",
          "2022-09-25T21:00:00",
          "2022-09-25T22:00:00",
          "2022-09-25T23:00:00",
          "2022-09-26T00:00:00",
          "2022-09-26T01:00:00",
          "2022-09-26T02:00:00",
          "2022-09-26T03:00:00",
          "2022-09-26T04:00:00",
          "2022-09-26T05:00:00",
          "2022-09-26T06:00:00",
          "2022-09-26T07:00:00",
          "2022-09-26T08:00:00",
          "2022-09-26T09:00:00",
          "2022-09-26T10:00:00",
          "2022-09-26T11:00:00",
          "2022-09-26T12:00:00",
          "2022-09-26T13:00:00",
          "2022-09-26T14:00:00",
          "2022-09-26T15:00:00",
          "2022-09-26T16:00:00",
          "2022-09-26T17:00:00",
          "2022-09-26T18:00:00",
          "2022-09-26T19:00:00",
          "2022-09-26T20:00:00",
          "2022-09-26T21:00:00",
          "2022-09-26T22:00:00",
          "2022-09-26T23:00:00",
          "2022-09-27T00:00:00",
          "2022-09-27T01:00:00",
          "2022-09-27T02:00:00",
          "2022-09-27T03:00:00",
          "2022-09-27T04:00:00",
          "2022-09-27T05:00:00",
          "2022-09-27T06:00:00",
          "2022-09-27T07:00:00",
          "2022-09-27T08:00:00",
          "2022-09-27T09:00:00",
          "2022-09-27T10:00:00",
          "2022-09-27T11:00:00",
          "2022-09-27T12:00:00",
          "2022-09-27T13:00:00",
          "2022-09-27T14:00:00",
          "2022-09-27T15:00:00",
          "2022-09-27T16:00:00",
          "2022-09-27T17:00:00",
          "2022-09-27T18:00:00",
          "2022-09-27T19:00:00",
          "2022-09-27T20:00:00",
          "2022-09-27T21:00:00",
          "2022-09-27T22:00:00",
          "2022-09-27T23:00:00",
          "2022-09-28T00:00:00",
          "2022-09-28T01:00:00",
          "2022-09-28T02:00:00",
          "2022-09-28T03:00:00",
          "2022-09-28T04:00:00",
          "2022-09-28T05:00:00",
          "2022-09-28T06:00:00",
          "2022-09-28T07:00:00",
          "2022-09-28T08:00:00",
          "2022-09-28T09:00:00",
          "2022-09-28T10:00:00",
          "2022-09-28T11:00:00",
          "2022-09-28T12:00:00",
          "2022-09-28T13:00:00",
          "2022-09-28T14:00:00",
          "2022-09-28T15:00:00",
          "2022-09-28T16:00:00",
          "2022-09-28T17:00:00",
          "2022-09-28T18:00:00",
          "2022-09-28T19:00:00",
          "2022-09-28T20:00:00",
          "2022-09-28T21:00:00",
          "2022-09-28T22:00:00",
          "2022-09-28T23:00:00",
          "2022-09-29T00:00:00",
          "2022-09-29T01:00:00",
          "2022-09-29T02:00:00",
          "2022-09-29T03:00:00",
          "2022-09-29T04:00:00",
          "2022-09-29T05:00:00",
          "2022-09-29T06:00:00",
          "2022-09-29T07:00:00",
          "2022-09-29T08:00:00",
          "2022-09-29T09:00:00",
          "2022-09-29T10:00:00",
          "2022-09-29T11:00:00",
          "2022-09-29T12:00:00",
          "2022-09-29T13:00:00",
          "2022-09-29T14:00:00",
          "2022-09-29T15:00:00",
          "2022-09-29T16:00:00",
          "2022-09-29T17:00:00",
          "2022-09-29T18:00:00",
          "2022-09-29T19:00:00",
          "2022-09-29T20:00:00",
          "2022-09-29T21:00:00",
          "2022-09-29T22:00:00",
          "2022-09-29T23:00:00",
          "2022-09-30T00:00:00",
          "2022-09-30T01:00:00",
          "2022-09-30T02:00:00",
          "2022-09-30T03:00:00",
          "2022-09-30T04:00:00",
          "2022-09-30T05:00:00",
          "2022-09-30T06:00:00",
          "2022-09-30T07:00:00",
          "2022-09-30T08:00:00",
          "2022-09-30T09:00:00",
          "2022-09-30T10:00:00",
          "2022-09-30T11:00:00",
          "2022-09-30T12:00:00",
          "2022-09-30T13:00:00",
          "2022-09-30T14:00:00",
          "2022-09-30T15:00:00",
          "2022-09-30T16:00:00",
          "2022-09-30T17:00:00",
          "2022-09-30T18:00:00",
          "2022-09-30T19:00:00",
          "2022-09-30T20:00:00",
          "2022-09-30T21:00:00",
          "2022-09-30T22:00:00",
          "2022-09-30T23:00:00",
          "2022-10-01T00:00:00",
          "2022-10-01T01:00:00",
          "2022-10-01T02:00:00",
          "2022-10-01T03:00:00",
          "2022-10-01T04:00:00",
          "2022-10-01T05:00:00",
          "2022-10-01T06:00:00",
          "2022-10-01T07:00:00",
          "2022-10-01T08:00:00",
          "2022-10-01T09:00:00",
          "2022-10-01T10:00:00",
          "2022-10-01T11:00:00",
          "2022-10-01T12:00:00",
          "2022-10-01T13:00:00",
          "2022-10-01T14:00:00",
          "2022-10-01T15:00:00",
          "2022-10-01T16:00:00",
          "2022-10-01T17:00:00",
          "2022-10-01T18:00:00",
          "2022-10-01T19:00:00",
          "2022-10-01T20:00:00",
          "2022-10-01T21:00:00",
          "2022-10-01T22:00:00",
          "2022-10-01T23:00:00",
          "2022-10-02T00:00:00",
          "2022-10-02T01:00:00",
          "2022-10-02T02:00:00",
          "2022-10-02T03:00:00",
          "2022-10-02T04:00:00",
          "2022-10-02T05:00:00",
          "2022-10-02T06:00:00",
          "2022-10-02T07:00:00",
          "2022-10-02T08:00:00",
          "2022-10-02T09:00:00",
          "2022-10-02T10:00:00",
          "2022-10-02T11:00:00",
          "2022-10-02T12:00:00",
          "2022-10-02T13:00:00",
          "2022-10-02T14:00:00",
          "2022-10-02T15:00:00",
          "2022-10-02T16:00:00",
          "2022-10-02T17:00:00",
          "2022-10-02T18:00:00",
          "2022-10-02T19:00:00",
          "2022-10-02T20:00:00",
          "2022-10-02T21:00:00",
          "2022-10-02T22:00:00",
          "2022-10-02T23:00:00",
          "2022-10-03T00:00:00",
          "2022-10-03T01:00:00",
          "2022-10-03T02:00:00",
          "2022-10-03T03:00:00",
          "2022-10-03T04:00:00",
          "2022-10-03T05:00:00",
          "2022-10-03T06:00:00",
          "2022-10-03T07:00:00",
          "2022-10-03T08:00:00",
          "2022-10-03T09:00:00",
          "2022-10-03T10:00:00",
          "2022-10-03T11:00:00",
          "2022-10-03T12:00:00",
          "2022-10-03T13:00:00",
          "2022-10-03T14:00:00",
          "2022-10-03T15:00:00",
          "2022-10-03T16:00:00",
          "2022-10-03T17:00:00",
          "2022-10-03T18:00:00",
          "2022-10-03T19:00:00",
          "2022-10-03T20:00:00",
          "2022-10-03T21:00:00",
          "2022-10-03T22:00:00",
          "2022-10-03T23:00:00",
          "2022-10-04T00:00:00",
          "2022-10-04T01:00:00",
          "2022-10-04T02:00:00",
          "2022-10-04T03:00:00",
          "2022-10-04T04:00:00",
          "2022-10-04T05:00:00",
          "2022-10-04T06:00:00",
          "2022-10-04T07:00:00",
          "2022-10-04T08:00:00",
          "2022-10-04T09:00:00",
          "2022-10-04T10:00:00",
          "2022-10-04T11:00:00",
          "2022-10-04T12:00:00",
          "2022-10-04T13:00:00",
          "2022-10-04T14:00:00",
          "2022-10-04T15:00:00",
          "2022-10-04T16:00:00",
          "2022-10-04T17:00:00",
          "2022-10-04T18:00:00",
          "2022-10-04T19:00:00",
          "2022-10-04T20:00:00",
          "2022-10-04T21:00:00",
          "2022-10-04T22:00:00",
          "2022-10-04T23:00:00",
          "2022-10-05T00:00:00",
          "2022-10-05T01:00:00",
          "2022-10-05T02:00:00",
          "2022-10-05T03:00:00",
          "2022-10-05T04:00:00",
          "2022-10-05T05:00:00",
          "2022-10-05T06:00:00",
          "2022-10-05T07:00:00",
          "2022-10-05T08:00:00",
          "2022-10-05T09:00:00",
          "2022-10-05T10:00:00",
          "2022-10-05T11:00:00",
          "2022-10-05T12:00:00",
          "2022-10-05T13:00:00",
          "2022-10-05T14:00:00",
          "2022-10-05T15:00:00",
          "2022-10-05T16:00:00",
          "2022-10-05T17:00:00",
          "2022-10-05T18:00:00",
          "2022-10-05T19:00:00",
          "2022-10-05T20:00:00",
          "2022-10-05T21:00:00",
          "2022-10-05T22:00:00",
          "2022-10-05T23:00:00",
          "2022-10-06T00:00:00",
          "2022-10-06T01:00:00",
          "2022-10-06T02:00:00",
          "2022-10-06T03:00:00",
          "2022-10-06T04:00:00",
          "2022-10-06T05:00:00",
          "2022-10-06T06:00:00",
          "2022-10-06T07:00:00",
          "2022-10-06T08:00:00",
          "2022-10-06T09:00:00",
          "2022-10-06T10:00:00",
          "2022-10-06T11:00:00",
          "2022-10-06T12:00:00",
          "2022-10-06T13:00:00",
          "2022-10-06T14:00:00",
          "2022-10-06T15:00:00",
          "2022-10-06T16:00:00",
          "2022-10-06T17:00:00",
          "2022-10-06T18:00:00",
          "2022-10-06T19:00:00",
          "2022-10-06T20:00:00",
          "2022-10-06T21:00:00",
          "2022-10-06T22:00:00",
          "2022-10-06T23:00:00",
          "2022-10-07T00:00:00",
          "2022-10-07T01:00:00",
          "2022-10-07T02:00:00",
          "2022-10-07T03:00:00",
          "2022-10-07T04:00:00",
          "2022-10-07T05:00:00",
          "2022-10-07T06:00:00",
          "2022-10-07T07:00:00",
          "2022-10-07T08:00:00",
          "2022-10-07T09:00:00",
          "2022-10-07T10:00:00",
          "2022-10-07T11:00:00",
          "2022-10-07T12:00:00",
          "2022-10-07T13:00:00",
          "2022-10-07T14:00:00",
          "2022-10-07T15:00:00",
          "2022-10-07T16:00:00",
          "2022-10-07T17:00:00",
          "2022-10-07T18:00:00",
          "2022-10-07T19:00:00",
          "2022-10-07T20:00:00",
          "2022-10-07T21:00:00",
          "2022-10-07T22:00:00",
          "2022-10-07T23:00:00",
          "2022-10-08T00:00:00",
          "2022-10-08T01:00:00",
          "2022-10-08T02:00:00",
          "2022-10-08T03:00:00",
          "2022-10-08T04:00:00",
          "2022-10-08T05:00:00",
          "2022-10-08T06:00:00",
          "2022-10-08T07:00:00",
          "2022-10-08T08:00:00",
          "2022-10-08T09:00:00",
          "2022-10-08T10:00:00",
          "2022-10-08T11:00:00",
          "2022-10-08T12:00:00",
          "2022-10-08T13:00:00",
          "2022-10-08T14:00:00",
          "2022-10-08T15:00:00",
          "2022-10-08T16:00:00",
          "2022-10-08T17:00:00",
          "2022-10-08T18:00:00",
          "2022-10-08T19:00:00",
          "2022-10-08T20:00:00",
          "2022-10-08T21:00:00",
          "2022-10-08T22:00:00",
          "2022-10-08T23:00:00",
          "2022-10-09T00:00:00",
          "2022-10-09T01:00:00",
          "2022-10-09T02:00:00",
          "2022-10-09T03:00:00",
          "2022-10-09T04:00:00",
          "2022-10-09T05:00:00",
          "2022-10-09T06:00:00",
          "2022-10-09T07:00:00",
          "2022-10-09T08:00:00",
          "2022-10-09T09:00:00",
          "2022-10-09T10:00:00",
          "2022-10-09T11:00:00",
          "2022-10-09T12:00:00",
          "2022-10-09T13:00:00",
          "2022-10-09T14:00:00",
          "2022-10-09T15:00:00",
          "2022-10-09T16:00:00",
          "2022-10-09T17:00:00",
          "2022-10-09T18:00:00",
          "2022-10-09T19:00:00",
          "2022-10-09T20:00:00",
          "2022-10-09T21:00:00",
          "2022-10-09T22:00:00",
          "2022-10-09T23:00:00",
          "2022-10-10T00:00:00",
          "2022-10-10T01:00:00",
          "2022-10-10T02:00:00",
          "2022-10-10T03:00:00",
          "2022-10-10T04:00:00",
          "2022-10-10T05:00:00",
          "2022-10-10T06:00:00",
          "2022-10-10T07:00:00",
          "2022-10-10T08:00:00",
          "2022-10-10T09:00:00",
          "2022-10-10T10:00:00",
          "2022-10-10T11:00:00",
          "2022-10-10T12:00:00",
          "2022-10-10T13:00:00",
          "2022-10-10T14:00:00",
          "2022-10-10T15:00:00",
          "2022-10-10T16:00:00",
          "2022-10-10T17:00:00",
          "2022-10-10T18:00:00",
          "2022-10-10T19:00:00",
          "2022-10-10T20:00:00",
          "2022-10-10T21:00:00",
          "2022-10-10T22:00:00",
          "2022-10-10T23:00:00",
          "2022-10-11T00:00:00",
          "2022-10-11T01:00:00",
          "2022-10-11T02:00:00",
          "2022-10-11T03:00:00",
          "2022-10-11T04:00:00",
          "2022-10-11T05:00:00",
          "2022-10-11T06:00:00",
          "2022-10-11T07:00:00",
          "2022-10-11T08:00:00",
          "2022-10-11T09:00:00",
          "2022-10-11T10:00:00",
          "2022-10-11T11:00:00",
          "2022-10-11T12:00:00",
          "2022-10-11T13:00:00",
          "2022-10-11T14:00:00",
          "2022-10-11T15:00:00",
          "2022-10-11T16:00:00",
          "2022-10-11T17:00:00",
          "2022-10-11T18:00:00",
          "2022-10-11T19:00:00",
          "2022-10-11T20:00:00",
          "2022-10-11T21:00:00",
          "2022-10-11T22:00:00",
          "2022-10-11T23:00:00",
          "2022-10-12T00:00:00",
          "2022-10-12T01:00:00",
          "2022-10-12T02:00:00",
          "2022-10-12T03:00:00",
          "2022-10-12T04:00:00",
          "2022-10-12T05:00:00",
          "2022-10-12T06:00:00",
          "2022-10-12T07:00:00",
          "2022-10-12T08:00:00",
          "2022-10-12T09:00:00",
          "2022-10-12T10:00:00",
          "2022-10-12T11:00:00",
          "2022-10-12T12:00:00",
          "2022-10-12T13:00:00",
          "2022-10-12T14:00:00",
          "2022-10-12T15:00:00",
          "2022-10-12T16:00:00",
          "2022-10-12T17:00:00",
          "2022-10-12T18:00:00",
          "2022-10-12T19:00:00",
          "2022-10-12T20:00:00",
          "2022-10-12T21:00:00",
          "2022-10-12T22:00:00",
          "2022-10-12T23:00:00",
          "2022-10-13T00:00:00",
          "2022-10-13T01:00:00",
          "2022-10-13T02:00:00",
          "2022-10-13T03:00:00",
          "2022-10-13T04:00:00",
          "2022-10-13T05:00:00",
          "2022-10-13T06:00:00",
          "2022-10-13T07:00:00",
          "2022-10-13T08:00:00",
          "2022-10-13T09:00:00",
          "2022-10-13T10:00:00",
          "2022-10-13T11:00:00",
          "2022-10-13T12:00:00",
          "2022-10-13T13:00:00",
          "2022-10-13T14:00:00",
          "2022-10-13T15:00:00",
          "2022-10-13T16:00:00",
          "2022-10-13T17:00:00",
          "2022-10-13T18:00:00",
          "2022-10-13T19:00:00",
          "2022-10-13T20:00:00",
          "2022-10-13T21:00:00",
          "2022-10-13T22:00:00",
          "2022-10-13T23:00:00",
          "2022-10-14T00:00:00"
         ],
         "xaxis": "x",
         "y": [
          10,
          7,
          8,
          5,
          1,
          0,
          6,
          5,
          3,
          7,
          3,
          4,
          6,
          5,
          4,
          5,
          8,
          8,
          11,
          12,
          10,
          12,
          23,
          31,
          42,
          41,
          51,
          32,
          6,
          0,
          0,
          2,
          1,
          1,
          3,
          5,
          3,
          8,
          3,
          2,
          3,
          5,
          2,
          2,
          4,
          1,
          1,
          3,
          4,
          8,
          6,
          2,
          1,
          0,
          1,
          0,
          2,
          0,
          1,
          1,
          5,
          2,
          1,
          2,
          2,
          2,
          1,
          2,
          0,
          1,
          1,
          2,
          1,
          2,
          0,
          1,
          0,
          0,
          5,
          3,
          3,
          7,
          2,
          3,
          1,
          2,
          5,
          6,
          2,
          10,
          8,
          3,
          2,
          7,
          4,
          4,
          1,
          1,
          2,
          0,
          1,
          0,
          2,
          10,
          10,
          4,
          4,
          1,
          4,
          2,
          4,
          3,
          8,
          2,
          7,
          5,
          3,
          6,
          4,
          4,
          2,
          0,
          0,
          0,
          1,
          1,
          2,
          5,
          7,
          4,
          3,
          6,
          3,
          3,
          7,
          4,
          4,
          3,
          11,
          9,
          3,
          4,
          6,
          14,
          7,
          3,
          1,
          0,
          1,
          1,
          7,
          8,
          8,
          2,
          6,
          3,
          6,
          5,
          9,
          7,
          5,
          10,
          10,
          8,
          3,
          8,
          12,
          16,
          11,
          4,
          2,
          4,
          1,
          1,
          3,
          6,
          4,
          3,
          7,
          4,
          4,
          4,
          9,
          7,
          5,
          11,
          16,
          19,
          12,
          11,
          13,
          39,
          32,
          48,
          29,
          32,
          14,
          0,
          3,
          3,
          0,
          5,
          4,
          5,
          3,
          11,
          7,
          4,
          8,
          7,
          15,
          12,
          7,
          15,
          13,
          36,
          35,
          35,
          51,
          32,
          17,
          2,
          1,
          2,
          3,
          9,
          4,
          6,
          5,
          5,
          7,
          6,
          15,
          6,
          5,
          4,
          6,
          3,
          6,
          6,
          1,
          2,
          0,
          3,
          1,
          0,
          3,
          3,
          7,
          7,
          6,
          1,
          1,
          0,
          4,
          0,
          5,
          1,
          4,
          4,
          7,
          1,
          3,
          5,
          0,
          2,
          0,
          0,
          0,
          2,
          2,
          2,
          3,
          8,
          7,
          7,
          2,
          0,
          5,
          2,
          3,
          3,
          1,
          6,
          2,
          8,
          7,
          5,
          1,
          0,
          1,
          1,
          0,
          3,
          1,
          4,
          6,
          3,
          8,
          4,
          2,
          5,
          3,
          5,
          0,
          4,
          10,
          7,
          6,
          4,
          9,
          8,
          7,
          3,
          1,
          0,
          0,
          0,
          4,
          2,
          6,
          3,
          4,
          3,
          5,
          4,
          4,
          4,
          7,
          10,
          14,
          0,
          5,
          11,
          5,
          13,
          14,
          6,
          1,
          0,
          1,
          0,
          3,
          5,
          6,
          3,
          5,
          3,
          2,
          4,
          4,
          7,
          7,
          12,
          9,
          5,
          9,
          13,
          16,
          19,
          33,
          34,
          48,
          21,
          9,
          0,
          0,
          3,
          4,
          0,
          5,
          11,
          9,
          10,
          5,
          6,
          5,
          10,
          4,
          6,
          8,
          13,
          13,
          33,
          33,
          51,
          43,
          21,
          10,
          0,
          0,
          0,
          1,
          4,
          2,
          7,
          10,
          6,
          6,
          5,
          4,
          6,
          2,
          5,
          10,
          10,
          3,
          1,
          6,
          2,
          0,
          0,
          1,
          2,
          1,
          12,
          7,
          9,
          5,
          3,
          6,
          0,
          10,
          7,
          2,
          11,
          10,
          5,
          3,
          1,
          3,
          1,
          0,
          0,
          1,
          0,
          1,
          0,
          3,
          5,
          10,
          12,
          2,
          5,
          7,
          6,
          5,
          5,
          1,
          2,
          6,
          0,
          7,
          3,
          0,
          2,
          5,
          1,
          0,
          1,
          0,
          1,
          3,
          3,
          11,
          7,
          8,
          4,
          2,
          4,
          3,
          3,
          5,
          5,
          8,
          6,
          3,
          7,
          5,
          7,
          4,
          5,
          0,
          0,
          1,
          1,
          6,
          2,
          9,
          7,
          3,
          3,
          7,
          7,
          4,
          4,
          3,
          3,
          16,
          11,
          5,
          6,
          8,
          7,
          12,
          4,
          6,
          1,
          1,
          1,
          4,
          1,
          5,
          6,
          7,
          4,
          5,
          1,
          2,
          6,
          5,
          5,
          8,
          12,
          5,
          9,
          10,
          23,
          34,
          37,
          51,
          21,
          7,
          2,
          0,
          1,
          5,
          2,
          3,
          8,
          5,
          7,
          5,
          7,
          3,
          5,
          11,
          10,
          13,
          7,
          15,
          20,
          26,
          44,
          57,
          25,
          3,
          1,
          1,
          2,
          3,
          1,
          4,
          9,
          6,
          6,
          5,
          3,
          4,
          5,
          6,
          8,
          3,
          7,
          2,
          4,
          7,
          1,
          3,
          0,
          1,
          0,
          3,
          5,
          0,
          3,
          2,
          3,
          1,
          1,
          3,
          2,
          1,
          1,
          2,
          3,
          2,
          3,
          4,
          2,
          2,
          0,
          2,
          0,
          0,
          0,
          2,
          3,
          11,
          4,
          4,
          5,
          1,
          3,
          3,
          5,
          2,
          2,
          4,
          2,
          4,
          3,
          3,
          6,
          2,
          1,
          2,
          0,
          0,
          1,
          2,
          7,
          11,
          5,
          1,
          1,
          6,
          2,
          3,
          2,
          3,
          4,
          7,
          4,
          4,
          4,
          7,
          5,
          2,
          4,
          1,
          4,
          1,
          1,
          3,
          6,
          10,
          7,
          4,
          5,
          6,
          4,
          3,
          6,
          6,
          9,
          3,
          14,
          8,
          9,
          14,
          5,
          12
         ],
         "yaxis": "y"
        },
        {
         "line": {
          "color": "green"
         },
         "marker": {
          "size": 10
         },
         "mode": "markers",
         "name": "actual value",
         "type": "scatter",
         "x": [
          "2022-10-14T00:00:00"
         ],
         "y": [
          12
         ]
        },
        {
         "line": {
          "color": "red"
         },
         "marker": {
          "size": 15,
          "symbol": "x"
         },
         "mode": "markers",
         "name": "prediction",
         "type": "scatter",
         "x": [
          "2022-10-14T00:00:00"
         ],
         "y": [
          10.275793098573791
         ]
        }
       ],
       "layout": {
        "legend": {
         "tracegroupgap": 0
        },
        "template": {
         "data": {
          "bar": [
           {
            "error_x": {
             "color": "#f2f5fa"
            },
            "error_y": {
             "color": "#f2f5fa"
            },
            "marker": {
             "line": {
              "color": "rgb(17,17,17)",
              "width": 0.5
             },
             "pattern": {
              "fillmode": "overlay",
              "size": 10,
              "solidity": 0.2
             }
            },
            "type": "bar"
           }
          ],
          "barpolar": [
           {
            "marker": {
             "line": {
              "color": "rgb(17,17,17)",
              "width": 0.5
             },
             "pattern": {
              "fillmode": "overlay",
              "size": 10,
              "solidity": 0.2
             }
            },
            "type": "barpolar"
           }
          ],
          "carpet": [
           {
            "aaxis": {
             "endlinecolor": "#A2B1C6",
             "gridcolor": "#506784",
             "linecolor": "#506784",
             "minorgridcolor": "#506784",
             "startlinecolor": "#A2B1C6"
            },
            "baxis": {
             "endlinecolor": "#A2B1C6",
             "gridcolor": "#506784",
             "linecolor": "#506784",
             "minorgridcolor": "#506784",
             "startlinecolor": "#A2B1C6"
            },
            "type": "carpet"
           }
          ],
          "choropleth": [
           {
            "colorbar": {
             "outlinewidth": 0,
             "ticks": ""
            },
            "type": "choropleth"
           }
          ],
          "contour": [
           {
            "colorbar": {
             "outlinewidth": 0,
             "ticks": ""
            },
            "colorscale": [
             [
              0,
              "#0d0887"
             ],
             [
              0.1111111111111111,
              "#46039f"
             ],
             [
              0.2222222222222222,
              "#7201a8"
             ],
             [
              0.3333333333333333,
              "#9c179e"
             ],
             [
              0.4444444444444444,
              "#bd3786"
             ],
             [
              0.5555555555555556,
              "#d8576b"
             ],
             [
              0.6666666666666666,
              "#ed7953"
             ],
             [
              0.7777777777777778,
              "#fb9f3a"
             ],
             [
              0.8888888888888888,
              "#fdca26"
             ],
             [
              1,
              "#f0f921"
             ]
            ],
            "type": "contour"
           }
          ],
          "contourcarpet": [
           {
            "colorbar": {
             "outlinewidth": 0,
             "ticks": ""
            },
            "type": "contourcarpet"
           }
          ],
          "heatmap": [
           {
            "colorbar": {
             "outlinewidth": 0,
             "ticks": ""
            },
            "colorscale": [
             [
              0,
              "#0d0887"
             ],
             [
              0.1111111111111111,
              "#46039f"
             ],
             [
              0.2222222222222222,
              "#7201a8"
             ],
             [
              0.3333333333333333,
              "#9c179e"
             ],
             [
              0.4444444444444444,
              "#bd3786"
             ],
             [
              0.5555555555555556,
              "#d8576b"
             ],
             [
              0.6666666666666666,
              "#ed7953"
             ],
             [
              0.7777777777777778,
              "#fb9f3a"
             ],
             [
              0.8888888888888888,
              "#fdca26"
             ],
             [
              1,
              "#f0f921"
             ]
            ],
            "type": "heatmap"
           }
          ],
          "heatmapgl": [
           {
            "colorbar": {
             "outlinewidth": 0,
             "ticks": ""
            },
            "colorscale": [
             [
              0,
              "#0d0887"
             ],
             [
              0.1111111111111111,
              "#46039f"
             ],
             [
              0.2222222222222222,
              "#7201a8"
             ],
             [
              0.3333333333333333,
              "#9c179e"
             ],
             [
              0.4444444444444444,
              "#bd3786"
             ],
             [
              0.5555555555555556,
              "#d8576b"
             ],
             [
              0.6666666666666666,
              "#ed7953"
             ],
             [
              0.7777777777777778,
              "#fb9f3a"
             ],
             [
              0.8888888888888888,
              "#fdca26"
             ],
             [
              1,
              "#f0f921"
             ]
            ],
            "type": "heatmapgl"
           }
          ],
          "histogram": [
           {
            "marker": {
             "pattern": {
              "fillmode": "overlay",
              "size": 10,
              "solidity": 0.2
             }
            },
            "type": "histogram"
           }
          ],
          "histogram2d": [
           {
            "colorbar": {
             "outlinewidth": 0,
             "ticks": ""
            },
            "colorscale": [
             [
              0,
              "#0d0887"
             ],
             [
              0.1111111111111111,
              "#46039f"
             ],
             [
              0.2222222222222222,
              "#7201a8"
             ],
             [
              0.3333333333333333,
              "#9c179e"
             ],
             [
              0.4444444444444444,
              "#bd3786"
             ],
             [
              0.5555555555555556,
              "#d8576b"
             ],
             [
              0.6666666666666666,
              "#ed7953"
             ],
             [
              0.7777777777777778,
              "#fb9f3a"
             ],
             [
              0.8888888888888888,
              "#fdca26"
             ],
             [
              1,
              "#f0f921"
             ]
            ],
            "type": "histogram2d"
           }
          ],
          "histogram2dcontour": [
           {
            "colorbar": {
             "outlinewidth": 0,
             "ticks": ""
            },
            "colorscale": [
             [
              0,
              "#0d0887"
             ],
             [
              0.1111111111111111,
              "#46039f"
             ],
             [
              0.2222222222222222,
              "#7201a8"
             ],
             [
              0.3333333333333333,
              "#9c179e"
             ],
             [
              0.4444444444444444,
              "#bd3786"
             ],
             [
              0.5555555555555556,
              "#d8576b"
             ],
             [
              0.6666666666666666,
              "#ed7953"
             ],
             [
              0.7777777777777778,
              "#fb9f3a"
             ],
             [
              0.8888888888888888,
              "#fdca26"
             ],
             [
              1,
              "#f0f921"
             ]
            ],
            "type": "histogram2dcontour"
           }
          ],
          "mesh3d": [
           {
            "colorbar": {
             "outlinewidth": 0,
             "ticks": ""
            },
            "type": "mesh3d"
           }
          ],
          "parcoords": [
           {
            "line": {
             "colorbar": {
              "outlinewidth": 0,
              "ticks": ""
             }
            },
            "type": "parcoords"
           }
          ],
          "pie": [
           {
            "automargin": true,
            "type": "pie"
           }
          ],
          "scatter": [
           {
            "marker": {
             "line": {
              "color": "#283442"
             }
            },
            "type": "scatter"
           }
          ],
          "scatter3d": [
           {
            "line": {
             "colorbar": {
              "outlinewidth": 0,
              "ticks": ""
             }
            },
            "marker": {
             "colorbar": {
              "outlinewidth": 0,
              "ticks": ""
             }
            },
            "type": "scatter3d"
           }
          ],
          "scattercarpet": [
           {
            "marker": {
             "colorbar": {
              "outlinewidth": 0,
              "ticks": ""
             }
            },
            "type": "scattercarpet"
           }
          ],
          "scattergeo": [
           {
            "marker": {
             "colorbar": {
              "outlinewidth": 0,
              "ticks": ""
             }
            },
            "type": "scattergeo"
           }
          ],
          "scattergl": [
           {
            "marker": {
             "line": {
              "color": "#283442"
             }
            },
            "type": "scattergl"
           }
          ],
          "scattermapbox": [
           {
            "marker": {
             "colorbar": {
              "outlinewidth": 0,
              "ticks": ""
             }
            },
            "type": "scattermapbox"
           }
          ],
          "scatterpolar": [
           {
            "marker": {
             "colorbar": {
              "outlinewidth": 0,
              "ticks": ""
             }
            },
            "type": "scatterpolar"
           }
          ],
          "scatterpolargl": [
           {
            "marker": {
             "colorbar": {
              "outlinewidth": 0,
              "ticks": ""
             }
            },
            "type": "scatterpolargl"
           }
          ],
          "scatterternary": [
           {
            "marker": {
             "colorbar": {
              "outlinewidth": 0,
              "ticks": ""
             }
            },
            "type": "scatterternary"
           }
          ],
          "surface": [
           {
            "colorbar": {
             "outlinewidth": 0,
             "ticks": ""
            },
            "colorscale": [
             [
              0,
              "#0d0887"
             ],
             [
              0.1111111111111111,
              "#46039f"
             ],
             [
              0.2222222222222222,
              "#7201a8"
             ],
             [
              0.3333333333333333,
              "#9c179e"
             ],
             [
              0.4444444444444444,
              "#bd3786"
             ],
             [
              0.5555555555555556,
              "#d8576b"
             ],
             [
              0.6666666666666666,
              "#ed7953"
             ],
             [
              0.7777777777777778,
              "#fb9f3a"
             ],
             [
              0.8888888888888888,
              "#fdca26"
             ],
             [
              1,
              "#f0f921"
             ]
            ],
            "type": "surface"
           }
          ],
          "table": [
           {
            "cells": {
             "fill": {
              "color": "#506784"
             },
             "line": {
              "color": "rgb(17,17,17)"
             }
            },
            "header": {
             "fill": {
              "color": "#2a3f5f"
             },
             "line": {
              "color": "rgb(17,17,17)"
             }
            },
            "type": "table"
           }
          ]
         },
         "layout": {
          "annotationdefaults": {
           "arrowcolor": "#f2f5fa",
           "arrowhead": 0,
           "arrowwidth": 1
          },
          "autotypenumbers": "strict",
          "coloraxis": {
           "colorbar": {
            "outlinewidth": 0,
            "ticks": ""
           }
          },
          "colorscale": {
           "diverging": [
            [
             0,
             "#8e0152"
            ],
            [
             0.1,
             "#c51b7d"
            ],
            [
             0.2,
             "#de77ae"
            ],
            [
             0.3,
             "#f1b6da"
            ],
            [
             0.4,
             "#fde0ef"
            ],
            [
             0.5,
             "#f7f7f7"
            ],
            [
             0.6,
             "#e6f5d0"
            ],
            [
             0.7,
             "#b8e186"
            ],
            [
             0.8,
             "#7fbc41"
            ],
            [
             0.9,
             "#4d9221"
            ],
            [
             1,
             "#276419"
            ]
           ],
           "sequential": [
            [
             0,
             "#0d0887"
            ],
            [
             0.1111111111111111,
             "#46039f"
            ],
            [
             0.2222222222222222,
             "#7201a8"
            ],
            [
             0.3333333333333333,
             "#9c179e"
            ],
            [
             0.4444444444444444,
             "#bd3786"
            ],
            [
             0.5555555555555556,
             "#d8576b"
            ],
            [
             0.6666666666666666,
             "#ed7953"
            ],
            [
             0.7777777777777778,
             "#fb9f3a"
            ],
            [
             0.8888888888888888,
             "#fdca26"
            ],
            [
             1,
             "#f0f921"
            ]
           ],
           "sequentialminus": [
            [
             0,
             "#0d0887"
            ],
            [
             0.1111111111111111,
             "#46039f"
            ],
            [
             0.2222222222222222,
             "#7201a8"
            ],
            [
             0.3333333333333333,
             "#9c179e"
            ],
            [
             0.4444444444444444,
             "#bd3786"
            ],
            [
             0.5555555555555556,
             "#d8576b"
            ],
            [
             0.6666666666666666,
             "#ed7953"
            ],
            [
             0.7777777777777778,
             "#fb9f3a"
            ],
            [
             0.8888888888888888,
             "#fdca26"
            ],
            [
             1,
             "#f0f921"
            ]
           ]
          },
          "colorway": [
           "#636efa",
           "#EF553B",
           "#00cc96",
           "#ab63fa",
           "#FFA15A",
           "#19d3f3",
           "#FF6692",
           "#B6E880",
           "#FF97FF",
           "#FECB52"
          ],
          "font": {
           "color": "#f2f5fa"
          },
          "geo": {
           "bgcolor": "rgb(17,17,17)",
           "lakecolor": "rgb(17,17,17)",
           "landcolor": "rgb(17,17,17)",
           "showlakes": true,
           "showland": true,
           "subunitcolor": "#506784"
          },
          "hoverlabel": {
           "align": "left"
          },
          "hovermode": "closest",
          "mapbox": {
           "style": "dark"
          },
          "paper_bgcolor": "rgb(17,17,17)",
          "plot_bgcolor": "rgb(17,17,17)",
          "polar": {
           "angularaxis": {
            "gridcolor": "#506784",
            "linecolor": "#506784",
            "ticks": ""
           },
           "bgcolor": "rgb(17,17,17)",
           "radialaxis": {
            "gridcolor": "#506784",
            "linecolor": "#506784",
            "ticks": ""
           }
          },
          "scene": {
           "xaxis": {
            "backgroundcolor": "rgb(17,17,17)",
            "gridcolor": "#506784",
            "gridwidth": 2,
            "linecolor": "#506784",
            "showbackground": true,
            "ticks": "",
            "zerolinecolor": "#C8D4E3"
           },
           "yaxis": {
            "backgroundcolor": "rgb(17,17,17)",
            "gridcolor": "#506784",
            "gridwidth": 2,
            "linecolor": "#506784",
            "showbackground": true,
            "ticks": "",
            "zerolinecolor": "#C8D4E3"
           },
           "zaxis": {
            "backgroundcolor": "rgb(17,17,17)",
            "gridcolor": "#506784",
            "gridwidth": 2,
            "linecolor": "#506784",
            "showbackground": true,
            "ticks": "",
            "zerolinecolor": "#C8D4E3"
           }
          },
          "shapedefaults": {
           "line": {
            "color": "#f2f5fa"
           }
          },
          "sliderdefaults": {
           "bgcolor": "#C8D4E3",
           "bordercolor": "rgb(17,17,17)",
           "borderwidth": 1,
           "tickwidth": 0
          },
          "ternary": {
           "aaxis": {
            "gridcolor": "#506784",
            "linecolor": "#506784",
            "ticks": ""
           },
           "baxis": {
            "gridcolor": "#506784",
            "linecolor": "#506784",
            "ticks": ""
           },
           "bgcolor": "rgb(17,17,17)",
           "caxis": {
            "gridcolor": "#506784",
            "linecolor": "#506784",
            "ticks": ""
           }
          },
          "title": {
           "x": 0.05
          },
          "updatemenudefaults": {
           "bgcolor": "#506784",
           "borderwidth": 0
          },
          "xaxis": {
           "automargin": true,
           "gridcolor": "#283442",
           "linecolor": "#506784",
           "ticks": "",
           "title": {
            "standoff": 15
           },
           "zerolinecolor": "#283442",
           "zerolinewidth": 2
          },
          "yaxis": {
           "automargin": true,
           "gridcolor": "#283442",
           "linecolor": "#506784",
           "ticks": "",
           "title": {
            "standoff": 15
           },
           "zerolinecolor": "#283442",
           "zerolinewidth": 2
          }
         }
        },
        "title": {
         "text": "Pick up hour=2022-10-14 00:00:00, location_id=4"
        },
        "xaxis": {
         "anchor": "y",
         "domain": [
          0,
          1
         ],
         "title": {
          "text": "x"
         }
        },
        "yaxis": {
         "anchor": "x",
         "domain": [
          0,
          1
         ],
         "title": {
          "text": "y"
         }
        }
       }
      }
     },
     "metadata": {},
     "output_type": "display_data"
    }
   ],
   "source": [
    "plot_one_sample(\n",
    "    example_id=135,\n",
    "    features=X_test,\n",
    "    targets=y_test,\n",
    "    predictions=pd.Series(predictions)\n",
    ")"
   ]
  }
 ],
 "metadata": {
  "kernelspec": {
   "display_name": ".venv",
   "language": "python",
   "name": "python3"
  },
  "language_info": {
   "codemirror_mode": {
    "name": "ipython",
    "version": 3
   },
   "file_extension": ".py",
   "mimetype": "text/x-python",
   "name": "python",
   "nbconvert_exporter": "python",
   "pygments_lexer": "ipython3",
   "version": "3.9.6"
  }
 },
 "nbformat": 4,
 "nbformat_minor": 2
}
